{
 "cells": [
  {
   "cell_type": "code",
   "execution_count": 1,
   "id": "c7017914",
   "metadata": {
    "_cell_guid": "ee37a71b-d5f0-4a69-97b4-479edd6cafd1",
    "_uuid": "33a3294e-47f9-422d-a6d8-dade344b05c8",
    "collapsed": false,
    "execution": {
     "iopub.execute_input": "2023-01-25T05:07:19.366856Z",
     "iopub.status.busy": "2023-01-25T05:07:19.366355Z",
     "iopub.status.idle": "2023-01-25T05:07:19.385412Z",
     "shell.execute_reply": "2023-01-25T05:07:19.384449Z"
    },
    "jupyter": {
     "outputs_hidden": false
    },
    "papermill": {
     "duration": 0.036288,
     "end_time": "2023-01-25T05:07:19.389971",
     "exception": false,
     "start_time": "2023-01-25T05:07:19.353683",
     "status": "completed"
    },
    "tags": []
   },
   "outputs": [
    {
     "name": "stdout",
     "output_type": "stream",
     "text": [
      "/kaggle/input/researchdata/Paper 2_Wear Depth data.xlsx\n"
     ]
    }
   ],
   "source": [
    "# This Python 3 environment comes with many helpful analytics libraries installed\n",
    "# It is defined by the kaggle/python Docker image: https://github.com/kaggle/docker-python\n",
    "# For example, here's several helpful packages to load\n",
    "\n",
    "import numpy as np # linear algebra\n",
    "import pandas as pd # data processing, CSV file I/O (e.g. pd.read_csv)\n",
    "# Input data files are available in the read-only \"../input/\" directory\n",
    "# For example, running this (by clicking run or pressing Shift+Enter) will list all files under the input directory\n",
    "\n",
    "import os\n",
    "for dirname, _, filenames in os.walk('/kaggle/input'):\n",
    "    for filename in filenames:\n",
    "        print(os.path.join(dirname, filename))\n",
    "\n",
    "# You can write up to 20GB to the current directory (/kaggle/working/) that gets preserved as output when you create a version using \"Save & Run All\" \n",
    "# You can also write temporary files to /kaggle/temp/, but they won't be saved outside of the current session"
   ]
  },
  {
   "cell_type": "code",
   "execution_count": 2,
   "id": "b91883f6",
   "metadata": {
    "execution": {
     "iopub.execute_input": "2023-01-25T05:07:19.414580Z",
     "iopub.status.busy": "2023-01-25T05:07:19.413638Z",
     "iopub.status.idle": "2023-01-25T05:07:19.844012Z",
     "shell.execute_reply": "2023-01-25T05:07:19.842732Z"
    },
    "papermill": {
     "duration": 0.445732,
     "end_time": "2023-01-25T05:07:19.846863",
     "exception": false,
     "start_time": "2023-01-25T05:07:19.401131",
     "status": "completed"
    },
    "tags": []
   },
   "outputs": [],
   "source": [
    "df = pd.read_excel('/kaggle/input/researchdata/Paper 2_Wear Depth data.xlsx')"
   ]
  },
  {
   "cell_type": "code",
   "execution_count": 3,
   "id": "c3ba5ce1",
   "metadata": {
    "execution": {
     "iopub.execute_input": "2023-01-25T05:07:19.871539Z",
     "iopub.status.busy": "2023-01-25T05:07:19.870897Z",
     "iopub.status.idle": "2023-01-25T05:07:19.902105Z",
     "shell.execute_reply": "2023-01-25T05:07:19.900767Z"
    },
    "papermill": {
     "duration": 0.047398,
     "end_time": "2023-01-25T05:07:19.905068",
     "exception": false,
     "start_time": "2023-01-25T05:07:19.857670",
     "status": "completed"
    },
    "tags": []
   },
   "outputs": [
    {
     "data": {
      "text/html": [
       "<div>\n",
       "<style scoped>\n",
       "    .dataframe tbody tr th:only-of-type {\n",
       "        vertical-align: middle;\n",
       "    }\n",
       "\n",
       "    .dataframe tbody tr th {\n",
       "        vertical-align: top;\n",
       "    }\n",
       "\n",
       "    .dataframe thead th {\n",
       "        text-align: right;\n",
       "    }\n",
       "</style>\n",
       "<table border=\"1\" class=\"dataframe\">\n",
       "  <thead>\n",
       "    <tr style=\"text-align: right;\">\n",
       "      <th></th>\n",
       "      <th>Rotation Speed (rpm)</th>\n",
       "      <th>Traverse speed (mm/min)</th>\n",
       "      <th>Traverse distance (mm)</th>\n",
       "      <th>Distance from Shoulder (mm)</th>\n",
       "      <th>Wear depth (average), mm</th>\n",
       "    </tr>\n",
       "  </thead>\n",
       "  <tbody>\n",
       "    <tr>\n",
       "      <th>0</th>\n",
       "      <td>800.0</td>\n",
       "      <td>30.0</td>\n",
       "      <td>300.0</td>\n",
       "      <td>0.0085</td>\n",
       "      <td>0.244100</td>\n",
       "    </tr>\n",
       "    <tr>\n",
       "      <th>1</th>\n",
       "      <td>800.0</td>\n",
       "      <td>30.0</td>\n",
       "      <td>300.0</td>\n",
       "      <td>0.3002</td>\n",
       "      <td>0.286150</td>\n",
       "    </tr>\n",
       "    <tr>\n",
       "      <th>2</th>\n",
       "      <td>800.0</td>\n",
       "      <td>30.0</td>\n",
       "      <td>300.0</td>\n",
       "      <td>0.6013</td>\n",
       "      <td>0.319000</td>\n",
       "    </tr>\n",
       "    <tr>\n",
       "      <th>3</th>\n",
       "      <td>800.0</td>\n",
       "      <td>30.0</td>\n",
       "      <td>300.0</td>\n",
       "      <td>0.9024</td>\n",
       "      <td>0.328550</td>\n",
       "    </tr>\n",
       "    <tr>\n",
       "      <th>4</th>\n",
       "      <td>800.0</td>\n",
       "      <td>30.0</td>\n",
       "      <td>300.0</td>\n",
       "      <td>1.2035</td>\n",
       "      <td>0.361150</td>\n",
       "    </tr>\n",
       "    <tr>\n",
       "      <th>...</th>\n",
       "      <td>...</td>\n",
       "      <td>...</td>\n",
       "      <td>...</td>\n",
       "      <td>...</td>\n",
       "      <td>...</td>\n",
       "    </tr>\n",
       "    <tr>\n",
       "      <th>236</th>\n",
       "      <td>1000.0</td>\n",
       "      <td>70.0</td>\n",
       "      <td>1000.0</td>\n",
       "      <td>2.7092</td>\n",
       "      <td>0.499550</td>\n",
       "    </tr>\n",
       "    <tr>\n",
       "      <th>237</th>\n",
       "      <td>1000.0</td>\n",
       "      <td>70.0</td>\n",
       "      <td>1000.0</td>\n",
       "      <td>3.0009</td>\n",
       "      <td>0.715650</td>\n",
       "    </tr>\n",
       "    <tr>\n",
       "      <th>238</th>\n",
       "      <td>1000.0</td>\n",
       "      <td>70.0</td>\n",
       "      <td>1000.0</td>\n",
       "      <td>3.3020</td>\n",
       "      <td>1.032850</td>\n",
       "    </tr>\n",
       "    <tr>\n",
       "      <th>239</th>\n",
       "      <td>1000.0</td>\n",
       "      <td>70.0</td>\n",
       "      <td>1000.0</td>\n",
       "      <td>3.5380</td>\n",
       "      <td>1.430650</td>\n",
       "    </tr>\n",
       "    <tr>\n",
       "      <th>240</th>\n",
       "      <td>1000.0</td>\n",
       "      <td>70.0</td>\n",
       "      <td>1000.0</td>\n",
       "      <td>3.7974</td>\n",
       "      <td>2.723295</td>\n",
       "    </tr>\n",
       "  </tbody>\n",
       "</table>\n",
       "<p>241 rows × 5 columns</p>\n",
       "</div>"
      ],
      "text/plain": [
       "     Rotation Speed (rpm)  Traverse speed (mm/min)  Traverse distance (mm)  \\\n",
       "0                   800.0                     30.0                   300.0   \n",
       "1                   800.0                     30.0                   300.0   \n",
       "2                   800.0                     30.0                   300.0   \n",
       "3                   800.0                     30.0                   300.0   \n",
       "4                   800.0                     30.0                   300.0   \n",
       "..                    ...                      ...                     ...   \n",
       "236                1000.0                     70.0                  1000.0   \n",
       "237                1000.0                     70.0                  1000.0   \n",
       "238                1000.0                     70.0                  1000.0   \n",
       "239                1000.0                     70.0                  1000.0   \n",
       "240                1000.0                     70.0                  1000.0   \n",
       "\n",
       "     Distance from Shoulder (mm)  Wear depth (average), mm  \n",
       "0                         0.0085                  0.244100  \n",
       "1                         0.3002                  0.286150  \n",
       "2                         0.6013                  0.319000  \n",
       "3                         0.9024                  0.328550  \n",
       "4                         1.2035                  0.361150  \n",
       "..                           ...                       ...  \n",
       "236                       2.7092                  0.499550  \n",
       "237                       3.0009                  0.715650  \n",
       "238                       3.3020                  1.032850  \n",
       "239                       3.5380                  1.430650  \n",
       "240                       3.7974                  2.723295  \n",
       "\n",
       "[241 rows x 5 columns]"
      ]
     },
     "execution_count": 3,
     "metadata": {},
     "output_type": "execute_result"
    }
   ],
   "source": [
    "df"
   ]
  },
  {
   "cell_type": "code",
   "execution_count": 4,
   "id": "d47f2976",
   "metadata": {
    "execution": {
     "iopub.execute_input": "2023-01-25T05:07:19.926959Z",
     "iopub.status.busy": "2023-01-25T05:07:19.926209Z",
     "iopub.status.idle": "2023-01-25T05:07:29.539134Z",
     "shell.execute_reply": "2023-01-25T05:07:29.537982Z"
    },
    "papermill": {
     "duration": 9.627446,
     "end_time": "2023-01-25T05:07:29.542380",
     "exception": false,
     "start_time": "2023-01-25T05:07:19.914934",
     "status": "completed"
    },
    "tags": []
   },
   "outputs": [],
   "source": [
    "import matplotlib.pyplot as plt\n",
    "import plotly_express as px\n",
    "from sklearn import svm\n",
    "import tensorflow as tf\n",
    "from tensorflow.keras.models import Sequential\n",
    "from tensorflow.keras.layers import Dense, Activation, Dropout\n",
    "from tensorflow.keras.optimizers import SGD\n",
    "import seaborn as sns"
   ]
  },
  {
   "cell_type": "code",
   "execution_count": 5,
   "id": "e9316d3a",
   "metadata": {
    "execution": {
     "iopub.execute_input": "2023-01-25T05:07:29.564812Z",
     "iopub.status.busy": "2023-01-25T05:07:29.563945Z",
     "iopub.status.idle": "2023-01-25T05:07:29.572278Z",
     "shell.execute_reply": "2023-01-25T05:07:29.571161Z"
    },
    "papermill": {
     "duration": 0.022475,
     "end_time": "2023-01-25T05:07:29.575076",
     "exception": false,
     "start_time": "2023-01-25T05:07:29.552601",
     "status": "completed"
    },
    "tags": []
   },
   "outputs": [
    {
     "data": {
      "text/plain": [
       "Index(['Rotation Speed (rpm)', 'Traverse speed (mm/min)',\n",
       "       'Traverse distance (mm)', 'Distance from Shoulder (mm)',\n",
       "       'Wear depth (average), mm'],\n",
       "      dtype='object')"
      ]
     },
     "execution_count": 5,
     "metadata": {},
     "output_type": "execute_result"
    }
   ],
   "source": [
    "df.columns"
   ]
  },
  {
   "cell_type": "markdown",
   "id": "10fa39e0",
   "metadata": {
    "papermill": {
     "duration": 0.010491,
     "end_time": "2023-01-25T05:07:29.595517",
     "exception": false,
     "start_time": "2023-01-25T05:07:29.585026",
     "status": "completed"
    },
    "tags": []
   },
   "source": [
    "# Data Cleaning"
   ]
  },
  {
   "cell_type": "code",
   "execution_count": 6,
   "id": "a2c9531f",
   "metadata": {
    "execution": {
     "iopub.execute_input": "2023-01-25T05:07:29.617755Z",
     "iopub.status.busy": "2023-01-25T05:07:29.617330Z",
     "iopub.status.idle": "2023-01-25T05:07:29.628001Z",
     "shell.execute_reply": "2023-01-25T05:07:29.626804Z"
    },
    "papermill": {
     "duration": 0.025223,
     "end_time": "2023-01-25T05:07:29.630658",
     "exception": false,
     "start_time": "2023-01-25T05:07:29.605435",
     "status": "completed"
    },
    "tags": []
   },
   "outputs": [],
   "source": [
    " df = df.dropna() "
   ]
  },
  {
   "cell_type": "markdown",
   "id": "4660a9b0",
   "metadata": {
    "papermill": {
     "duration": 0.009511,
     "end_time": "2023-01-25T05:07:29.650008",
     "exception": false,
     "start_time": "2023-01-25T05:07:29.640497",
     "status": "completed"
    },
    "tags": []
   },
   "source": [
    "# First let's have a overview of relations between various inputs and output"
   ]
  },
  {
   "cell_type": "code",
   "execution_count": 7,
   "id": "a96fea49",
   "metadata": {
    "execution": {
     "iopub.execute_input": "2023-01-25T05:07:29.671258Z",
     "iopub.status.busy": "2023-01-25T05:07:29.670813Z",
     "iopub.status.idle": "2023-01-25T05:07:29.912907Z",
     "shell.execute_reply": "2023-01-25T05:07:29.911802Z"
    },
    "papermill": {
     "duration": 0.255561,
     "end_time": "2023-01-25T05:07:29.915337",
     "exception": false,
     "start_time": "2023-01-25T05:07:29.659776",
     "status": "completed"
    },
    "tags": []
   },
   "outputs": [
    {
     "data": {
      "text/plain": [
       "<matplotlib.collections.PathCollection at 0x7fa14efcf610>"
      ]
     },
     "execution_count": 7,
     "metadata": {},
     "output_type": "execute_result"
    },
    {
     "data": {
      "image/png": "[encoded data removed]",
      "text/plain": [
       "<Figure size 1008x648 with 1 Axes>"
      ]
     },
     "metadata": {
      "needs_background": "light"
     },
     "output_type": "display_data"
    }
   ],
   "source": [
    "plt.figure(figsize=(14,9))\n",
    "plt.scatter(x=df['Distance from Shoulder (mm)'], y=df['Wear depth (average), mm'], s=50)"
   ]
  },
  {
   "cell_type": "markdown",
   "id": "9ca223e3",
   "metadata": {
    "papermill": {
     "duration": 0.010068,
     "end_time": "2023-01-25T05:07:29.935951",
     "exception": false,
     "start_time": "2023-01-25T05:07:29.925883",
     "status": "completed"
    },
    "tags": []
   },
   "source": [
    "From the above plot, we can colclude that with increase in distance form shoulder, the wear depth is expected to increase, it also depends on other varibales. And we are seeing a rapid rise in wear-depth after distance form should becomes greater than 3 mm"
   ]
  },
  {
   "cell_type": "code",
   "execution_count": 8,
   "id": "b1005edc",
   "metadata": {
    "execution": {
     "iopub.execute_input": "2023-01-25T05:07:29.958897Z",
     "iopub.status.busy": "2023-01-25T05:07:29.958024Z",
     "iopub.status.idle": "2023-01-25T05:07:30.662554Z",
     "shell.execute_reply": "2023-01-25T05:07:30.661146Z"
    },
    "papermill": {
     "duration": 0.718909,
     "end_time": "2023-01-25T05:07:30.665178",
     "exception": false,
     "start_time": "2023-01-25T05:07:29.946269",
     "status": "completed"
    },
    "tags": []
   },
   "outputs": [
    {
     "data": {
      "text/plain": [
       "<seaborn.axisgrid.JointGrid at 0x7fa14cf4ec50>"
      ]
     },
     "execution_count": 8,
     "metadata": {},
     "output_type": "execute_result"
    },
    {
     "data": {
      "image/png": "[encoded data removed]",
      "text/plain": [
       "<Figure size 432x432 with 3 Axes>"
      ]
     },
     "metadata": {
      "needs_background": "light"
     },
     "output_type": "display_data"
    }
   ],
   "source": [
    "\n",
    "sns.jointplot(x='Distance from Shoulder (mm)', y='Wear depth (average), mm', data=df, hue=\"Rotation Speed (rpm)\", palette=sns.color_palette(\"hls\", 3))"
   ]
  },
  {
   "cell_type": "markdown",
   "id": "54fd7d1a",
   "metadata": {
    "papermill": {
     "duration": 0.011007,
     "end_time": "2023-01-25T05:07:30.687424",
     "exception": false,
     "start_time": "2023-01-25T05:07:30.676417",
     "status": "completed"
    },
    "tags": []
   },
   "source": [
    "We also get an interesting observation that, rotating speed around 1000RPM seems ideal, any directional change from here can increase the wear-depth. However the decrease in rotating speed seems more harmful than increase in rotating speed from 1000RPM."
   ]
  },
  {
   "cell_type": "code",
   "execution_count": 9,
   "id": "716d8032",
   "metadata": {
    "execution": {
     "iopub.execute_input": "2023-01-25T05:07:30.711666Z",
     "iopub.status.busy": "2023-01-25T05:07:30.711169Z",
     "iopub.status.idle": "2023-01-25T05:07:31.397739Z",
     "shell.execute_reply": "2023-01-25T05:07:31.396574Z"
    },
    "papermill": {
     "duration": 0.701903,
     "end_time": "2023-01-25T05:07:31.400507",
     "exception": false,
     "start_time": "2023-01-25T05:07:30.698604",
     "status": "completed"
    },
    "tags": []
   },
   "outputs": [
    {
     "data": {
      "text/plain": [
       "<seaborn.axisgrid.JointGrid at 0x7fa14f4c1110>"
      ]
     },
     "execution_count": 9,
     "metadata": {},
     "output_type": "execute_result"
    },
    {
     "data": {
      "image/png": "[encoded data removed]",
      "text/plain": [
       "<Figure size 432x432 with 3 Axes>"
      ]
     },
     "metadata": {
      "needs_background": "light"
     },
     "output_type": "display_data"
    }
   ],
   "source": [
    "sns.jointplot(x='Distance from Shoulder (mm)', y='Wear depth (average), mm', data=df, hue=\"Traverse speed (mm/min)\", palette=sns.color_palette(\"hls\", 3))"
   ]
  },
  {
   "cell_type": "markdown",
   "id": "5c77abff",
   "metadata": {
    "papermill": {
     "duration": 0.011759,
     "end_time": "2023-01-25T05:07:31.424389",
     "exception": false,
     "start_time": "2023-01-25T05:07:31.412630",
     "status": "completed"
    },
    "tags": []
   },
   "source": [
    "Here we can see that with increase in transverse speed, the wear depth may decrease"
   ]
  },
  {
   "cell_type": "code",
   "execution_count": 10,
   "id": "c5a0f004",
   "metadata": {
    "execution": {
     "iopub.execute_input": "2023-01-25T05:07:31.450436Z",
     "iopub.status.busy": "2023-01-25T05:07:31.449965Z",
     "iopub.status.idle": "2023-01-25T05:07:32.344882Z",
     "shell.execute_reply": "2023-01-25T05:07:32.343668Z"
    },
    "papermill": {
     "duration": 0.910626,
     "end_time": "2023-01-25T05:07:32.347169",
     "exception": false,
     "start_time": "2023-01-25T05:07:31.436543",
     "status": "completed"
    },
    "tags": []
   },
   "outputs": [
    {
     "data": {
      "text/plain": [
       "<seaborn.axisgrid.JointGrid at 0x7fa144cef4d0>"
      ]
     },
     "execution_count": 10,
     "metadata": {},
     "output_type": "execute_result"
    },
    {
     "data": {
      "image/png": "[encoded data removed]",
      "text/plain": [
       "<Figure size 432x432 with 3 Axes>"
      ]
     },
     "metadata": {
      "needs_background": "light"
     },
     "output_type": "display_data"
    }
   ],
   "source": [
    "sns.jointplot(x='Distance from Shoulder (mm)', y='Wear depth (average), mm', data=df, hue=\"Traverse distance (mm)\", palette=sns.color_palette(\"hls\", 3))"
   ]
  },
  {
   "cell_type": "markdown",
   "id": "f7b56d98",
   "metadata": {
    "papermill": {
     "duration": 0.013088,
     "end_time": "2023-01-25T05:07:32.373507",
     "exception": false,
     "start_time": "2023-01-25T05:07:32.360419",
     "status": "completed"
    },
    "tags": []
   },
   "source": [
    "It seems that the transvers distance has some strange realtionship with wear depth, however it is clearly seen that, the higher wear depth is seen iwth high traverse distance"
   ]
  },
  {
   "cell_type": "markdown",
   "id": "104a8eab",
   "metadata": {
    "papermill": {
     "duration": 0.014179,
     "end_time": "2023-01-25T05:07:32.400699",
     "exception": false,
     "start_time": "2023-01-25T05:07:32.386520",
     "status": "completed"
    },
    "tags": []
   },
   "source": [
    "### As we are seeing the variation for distance_from_shoulder > 3mm becoming overwhelming, let's first analyze the data upto 3mm"
   ]
  },
  {
   "cell_type": "code",
   "execution_count": 11,
   "id": "889c658c",
   "metadata": {
    "execution": {
     "iopub.execute_input": "2023-01-25T05:07:32.434823Z",
     "iopub.status.busy": "2023-01-25T05:07:32.434010Z",
     "iopub.status.idle": "2023-01-25T05:07:32.441157Z",
     "shell.execute_reply": "2023-01-25T05:07:32.439861Z"
    },
    "papermill": {
     "duration": 0.027178,
     "end_time": "2023-01-25T05:07:32.444321",
     "exception": false,
     "start_time": "2023-01-25T05:07:32.417143",
     "status": "completed"
    },
    "tags": []
   },
   "outputs": [],
   "source": [
    "df = df.loc[df['Distance from Shoulder (mm)'] < 3]"
   ]
  },
  {
   "cell_type": "code",
   "execution_count": 12,
   "id": "a7fb22e6",
   "metadata": {
    "execution": {
     "iopub.execute_input": "2023-01-25T05:07:32.476024Z",
     "iopub.status.busy": "2023-01-25T05:07:32.475189Z",
     "iopub.status.idle": "2023-01-25T05:07:32.496943Z",
     "shell.execute_reply": "2023-01-25T05:07:32.495503Z"
    },
    "papermill": {
     "duration": 0.040555,
     "end_time": "2023-01-25T05:07:32.500708",
     "exception": false,
     "start_time": "2023-01-25T05:07:32.460153",
     "status": "completed"
    },
    "tags": []
   },
   "outputs": [
    {
     "data": {
      "text/html": [
       "<div>\n",
       "<style scoped>\n",
       "    .dataframe tbody tr th:only-of-type {\n",
       "        vertical-align: middle;\n",
       "    }\n",
       "\n",
       "    .dataframe tbody tr th {\n",
       "        vertical-align: top;\n",
       "    }\n",
       "\n",
       "    .dataframe thead th {\n",
       "        text-align: right;\n",
       "    }\n",
       "</style>\n",
       "<table border=\"1\" class=\"dataframe\">\n",
       "  <thead>\n",
       "    <tr style=\"text-align: right;\">\n",
       "      <th></th>\n",
       "      <th>Rotation Speed (rpm)</th>\n",
       "      <th>Traverse speed (mm/min)</th>\n",
       "      <th>Traverse distance (mm)</th>\n",
       "      <th>Distance from Shoulder (mm)</th>\n",
       "      <th>Wear depth (average), mm</th>\n",
       "    </tr>\n",
       "  </thead>\n",
       "  <tbody>\n",
       "    <tr>\n",
       "      <th>0</th>\n",
       "      <td>800.0</td>\n",
       "      <td>30.0</td>\n",
       "      <td>300.0</td>\n",
       "      <td>0.0085</td>\n",
       "      <td>0.24410</td>\n",
       "    </tr>\n",
       "    <tr>\n",
       "      <th>1</th>\n",
       "      <td>800.0</td>\n",
       "      <td>30.0</td>\n",
       "      <td>300.0</td>\n",
       "      <td>0.3002</td>\n",
       "      <td>0.28615</td>\n",
       "    </tr>\n",
       "    <tr>\n",
       "      <th>2</th>\n",
       "      <td>800.0</td>\n",
       "      <td>30.0</td>\n",
       "      <td>300.0</td>\n",
       "      <td>0.6013</td>\n",
       "      <td>0.31900</td>\n",
       "    </tr>\n",
       "    <tr>\n",
       "      <th>3</th>\n",
       "      <td>800.0</td>\n",
       "      <td>30.0</td>\n",
       "      <td>300.0</td>\n",
       "      <td>0.9024</td>\n",
       "      <td>0.32855</td>\n",
       "    </tr>\n",
       "    <tr>\n",
       "      <th>4</th>\n",
       "      <td>800.0</td>\n",
       "      <td>30.0</td>\n",
       "      <td>300.0</td>\n",
       "      <td>1.2035</td>\n",
       "      <td>0.36115</td>\n",
       "    </tr>\n",
       "    <tr>\n",
       "      <th>...</th>\n",
       "      <td>...</td>\n",
       "      <td>...</td>\n",
       "      <td>...</td>\n",
       "      <td>...</td>\n",
       "      <td>...</td>\n",
       "    </tr>\n",
       "    <tr>\n",
       "      <th>232</th>\n",
       "      <td>1000.0</td>\n",
       "      <td>70.0</td>\n",
       "      <td>1000.0</td>\n",
       "      <td>1.5047</td>\n",
       "      <td>0.09340</td>\n",
       "    </tr>\n",
       "    <tr>\n",
       "      <th>233</th>\n",
       "      <td>1000.0</td>\n",
       "      <td>70.0</td>\n",
       "      <td>1000.0</td>\n",
       "      <td>1.8058</td>\n",
       "      <td>0.12350</td>\n",
       "    </tr>\n",
       "    <tr>\n",
       "      <th>234</th>\n",
       "      <td>1000.0</td>\n",
       "      <td>70.0</td>\n",
       "      <td>1000.0</td>\n",
       "      <td>2.1069</td>\n",
       "      <td>0.21920</td>\n",
       "    </tr>\n",
       "    <tr>\n",
       "      <th>235</th>\n",
       "      <td>1000.0</td>\n",
       "      <td>70.0</td>\n",
       "      <td>1000.0</td>\n",
       "      <td>2.4081</td>\n",
       "      <td>0.26215</td>\n",
       "    </tr>\n",
       "    <tr>\n",
       "      <th>236</th>\n",
       "      <td>1000.0</td>\n",
       "      <td>70.0</td>\n",
       "      <td>1000.0</td>\n",
       "      <td>2.7092</td>\n",
       "      <td>0.49955</td>\n",
       "    </tr>\n",
       "  </tbody>\n",
       "</table>\n",
       "<p>151 rows × 5 columns</p>\n",
       "</div>"
      ],
      "text/plain": [
       "     Rotation Speed (rpm)  Traverse speed (mm/min)  Traverse distance (mm)  \\\n",
       "0                   800.0                     30.0                   300.0   \n",
       "1                   800.0                     30.0                   300.0   \n",
       "2                   800.0                     30.0                   300.0   \n",
       "3                   800.0                     30.0                   300.0   \n",
       "4                   800.0                     30.0                   300.0   \n",
       "..                    ...                      ...                     ...   \n",
       "232                1000.0                     70.0                  1000.0   \n",
       "233                1000.0                     70.0                  1000.0   \n",
       "234                1000.0                     70.0                  1000.0   \n",
       "235                1000.0                     70.0                  1000.0   \n",
       "236                1000.0                     70.0                  1000.0   \n",
       "\n",
       "     Distance from Shoulder (mm)  Wear depth (average), mm  \n",
       "0                         0.0085                   0.24410  \n",
       "1                         0.3002                   0.28615  \n",
       "2                         0.6013                   0.31900  \n",
       "3                         0.9024                   0.32855  \n",
       "4                         1.2035                   0.36115  \n",
       "..                           ...                       ...  \n",
       "232                       1.5047                   0.09340  \n",
       "233                       1.8058                   0.12350  \n",
       "234                       2.1069                   0.21920  \n",
       "235                       2.4081                   0.26215  \n",
       "236                       2.7092                   0.49955  \n",
       "\n",
       "[151 rows x 5 columns]"
      ]
     },
     "execution_count": 12,
     "metadata": {},
     "output_type": "execute_result"
    }
   ],
   "source": [
    "df"
   ]
  },
  {
   "cell_type": "code",
   "execution_count": 13,
   "id": "c5418605",
   "metadata": {
    "execution": {
     "iopub.execute_input": "2023-01-25T05:07:32.530408Z",
     "iopub.status.busy": "2023-01-25T05:07:32.529415Z",
     "iopub.status.idle": "2023-01-25T05:07:32.536030Z",
     "shell.execute_reply": "2023-01-25T05:07:32.534772Z"
    },
    "papermill": {
     "duration": 0.024107,
     "end_time": "2023-01-25T05:07:32.538760",
     "exception": false,
     "start_time": "2023-01-25T05:07:32.514653",
     "status": "completed"
    },
    "tags": []
   },
   "outputs": [],
   "source": [
    "X = df[['Rotation Speed (rpm)', 'Traverse speed (mm/min)',\n",
    "       'Traverse distance (mm)', 'Distance from Shoulder (mm)']]\n",
    "y = df['Wear depth (average), mm']"
   ]
  },
  {
   "cell_type": "code",
   "execution_count": 14,
   "id": "c292ed43",
   "metadata": {
    "execution": {
     "iopub.execute_input": "2023-01-25T05:07:32.567089Z",
     "iopub.status.busy": "2023-01-25T05:07:32.566669Z",
     "iopub.status.idle": "2023-01-25T05:07:32.583962Z",
     "shell.execute_reply": "2023-01-25T05:07:32.582701Z"
    },
    "papermill": {
     "duration": 0.035557,
     "end_time": "2023-01-25T05:07:32.587576",
     "exception": false,
     "start_time": "2023-01-25T05:07:32.552019",
     "status": "completed"
    },
    "tags": []
   },
   "outputs": [
    {
     "data": {
      "text/html": [
       "<div>\n",
       "<style scoped>\n",
       "    .dataframe tbody tr th:only-of-type {\n",
       "        vertical-align: middle;\n",
       "    }\n",
       "\n",
       "    .dataframe tbody tr th {\n",
       "        vertical-align: top;\n",
       "    }\n",
       "\n",
       "    .dataframe thead th {\n",
       "        text-align: right;\n",
       "    }\n",
       "</style>\n",
       "<table border=\"1\" class=\"dataframe\">\n",
       "  <thead>\n",
       "    <tr style=\"text-align: right;\">\n",
       "      <th></th>\n",
       "      <th>Rotation Speed (rpm)</th>\n",
       "      <th>Traverse speed (mm/min)</th>\n",
       "      <th>Traverse distance (mm)</th>\n",
       "      <th>Distance from Shoulder (mm)</th>\n",
       "    </tr>\n",
       "  </thead>\n",
       "  <tbody>\n",
       "    <tr>\n",
       "      <th>0</th>\n",
       "      <td>800.0</td>\n",
       "      <td>30.0</td>\n",
       "      <td>300.0</td>\n",
       "      <td>0.0085</td>\n",
       "    </tr>\n",
       "    <tr>\n",
       "      <th>1</th>\n",
       "      <td>800.0</td>\n",
       "      <td>30.0</td>\n",
       "      <td>300.0</td>\n",
       "      <td>0.3002</td>\n",
       "    </tr>\n",
       "    <tr>\n",
       "      <th>2</th>\n",
       "      <td>800.0</td>\n",
       "      <td>30.0</td>\n",
       "      <td>300.0</td>\n",
       "      <td>0.6013</td>\n",
       "    </tr>\n",
       "    <tr>\n",
       "      <th>3</th>\n",
       "      <td>800.0</td>\n",
       "      <td>30.0</td>\n",
       "      <td>300.0</td>\n",
       "      <td>0.9024</td>\n",
       "    </tr>\n",
       "    <tr>\n",
       "      <th>4</th>\n",
       "      <td>800.0</td>\n",
       "      <td>30.0</td>\n",
       "      <td>300.0</td>\n",
       "      <td>1.2035</td>\n",
       "    </tr>\n",
       "    <tr>\n",
       "      <th>...</th>\n",
       "      <td>...</td>\n",
       "      <td>...</td>\n",
       "      <td>...</td>\n",
       "      <td>...</td>\n",
       "    </tr>\n",
       "    <tr>\n",
       "      <th>232</th>\n",
       "      <td>1000.0</td>\n",
       "      <td>70.0</td>\n",
       "      <td>1000.0</td>\n",
       "      <td>1.5047</td>\n",
       "    </tr>\n",
       "    <tr>\n",
       "      <th>233</th>\n",
       "      <td>1000.0</td>\n",
       "      <td>70.0</td>\n",
       "      <td>1000.0</td>\n",
       "      <td>1.8058</td>\n",
       "    </tr>\n",
       "    <tr>\n",
       "      <th>234</th>\n",
       "      <td>1000.0</td>\n",
       "      <td>70.0</td>\n",
       "      <td>1000.0</td>\n",
       "      <td>2.1069</td>\n",
       "    </tr>\n",
       "    <tr>\n",
       "      <th>235</th>\n",
       "      <td>1000.0</td>\n",
       "      <td>70.0</td>\n",
       "      <td>1000.0</td>\n",
       "      <td>2.4081</td>\n",
       "    </tr>\n",
       "    <tr>\n",
       "      <th>236</th>\n",
       "      <td>1000.0</td>\n",
       "      <td>70.0</td>\n",
       "      <td>1000.0</td>\n",
       "      <td>2.7092</td>\n",
       "    </tr>\n",
       "  </tbody>\n",
       "</table>\n",
       "<p>151 rows × 4 columns</p>\n",
       "</div>"
      ],
      "text/plain": [
       "     Rotation Speed (rpm)  Traverse speed (mm/min)  Traverse distance (mm)  \\\n",
       "0                   800.0                     30.0                   300.0   \n",
       "1                   800.0                     30.0                   300.0   \n",
       "2                   800.0                     30.0                   300.0   \n",
       "3                   800.0                     30.0                   300.0   \n",
       "4                   800.0                     30.0                   300.0   \n",
       "..                    ...                      ...                     ...   \n",
       "232                1000.0                     70.0                  1000.0   \n",
       "233                1000.0                     70.0                  1000.0   \n",
       "234                1000.0                     70.0                  1000.0   \n",
       "235                1000.0                     70.0                  1000.0   \n",
       "236                1000.0                     70.0                  1000.0   \n",
       "\n",
       "     Distance from Shoulder (mm)  \n",
       "0                         0.0085  \n",
       "1                         0.3002  \n",
       "2                         0.6013  \n",
       "3                         0.9024  \n",
       "4                         1.2035  \n",
       "..                           ...  \n",
       "232                       1.5047  \n",
       "233                       1.8058  \n",
       "234                       2.1069  \n",
       "235                       2.4081  \n",
       "236                       2.7092  \n",
       "\n",
       "[151 rows x 4 columns]"
      ]
     },
     "execution_count": 14,
     "metadata": {},
     "output_type": "execute_result"
    }
   ],
   "source": [
    "X"
   ]
  },
  {
   "cell_type": "markdown",
   "id": "20c085ab",
   "metadata": {
    "papermill": {
     "duration": 0.013237,
     "end_time": "2023-01-25T05:07:32.614774",
     "exception": false,
     "start_time": "2023-01-25T05:07:32.601537",
     "status": "completed"
    },
    "tags": []
   },
   "source": [
    "# Regression and others"
   ]
  },
  {
   "cell_type": "markdown",
   "id": "d8021e6b",
   "metadata": {
    "papermill": {
     "duration": 0.013292,
     "end_time": "2023-01-25T05:07:32.642224",
     "exception": false,
     "start_time": "2023-01-25T05:07:32.628932",
     "status": "completed"
    },
    "tags": []
   },
   "source": [
    "# SVM"
   ]
  },
  {
   "cell_type": "code",
   "execution_count": 15,
   "id": "f1697e75",
   "metadata": {
    "execution": {
     "iopub.execute_input": "2023-01-25T05:07:32.671110Z",
     "iopub.status.busy": "2023-01-25T05:07:32.670268Z",
     "iopub.status.idle": "2023-01-25T05:07:32.675948Z",
     "shell.execute_reply": "2023-01-25T05:07:32.674756Z"
    },
    "papermill": {
     "duration": 0.022745,
     "end_time": "2023-01-25T05:07:32.678364",
     "exception": false,
     "start_time": "2023-01-25T05:07:32.655619",
     "status": "completed"
    },
    "tags": []
   },
   "outputs": [],
   "source": [
    "from sklearn.svm import SVR\n",
    "from sklearn.metrics import accuracy_score\n",
    "from sklearn.model_selection import train_test_split\n",
    "from sklearn import preprocessing\n",
    "from sklearn.metrics import mean_squared_error"
   ]
  },
  {
   "cell_type": "code",
   "execution_count": 16,
   "id": "724c774f",
   "metadata": {
    "execution": {
     "iopub.execute_input": "2023-01-25T05:07:32.707755Z",
     "iopub.status.busy": "2023-01-25T05:07:32.706413Z",
     "iopub.status.idle": "2023-01-25T05:07:32.715012Z",
     "shell.execute_reply": "2023-01-25T05:07:32.713680Z"
    },
    "papermill": {
     "duration": 0.026149,
     "end_time": "2023-01-25T05:07:32.717832",
     "exception": false,
     "start_time": "2023-01-25T05:07:32.691683",
     "status": "completed"
    },
    "tags": []
   },
   "outputs": [],
   "source": [
    "X_train, X_test, y_train, y_test = train_test_split(X, y, test_size=0.2, random_state=42)"
   ]
  },
  {
   "cell_type": "code",
   "execution_count": 17,
   "id": "dbe4a084",
   "metadata": {
    "execution": {
     "iopub.execute_input": "2023-01-25T05:07:32.746697Z",
     "iopub.status.busy": "2023-01-25T05:07:32.746229Z",
     "iopub.status.idle": "2023-01-25T05:07:32.751963Z",
     "shell.execute_reply": "2023-01-25T05:07:32.750592Z"
    },
    "papermill": {
     "duration": 0.022904,
     "end_time": "2023-01-25T05:07:32.754399",
     "exception": false,
     "start_time": "2023-01-25T05:07:32.731495",
     "status": "completed"
    },
    "tags": []
   },
   "outputs": [],
   "source": [
    "lab = preprocessing.LabelEncoder()\n",
    "y_transformed = lab.fit_transform(y_train)"
   ]
  },
  {
   "cell_type": "code",
   "execution_count": 18,
   "id": "ba9a14e9",
   "metadata": {
    "execution": {
     "iopub.execute_input": "2023-01-25T05:07:32.783080Z",
     "iopub.status.busy": "2023-01-25T05:07:32.782672Z",
     "iopub.status.idle": "2023-01-25T05:07:32.794628Z",
     "shell.execute_reply": "2023-01-25T05:07:32.793589Z"
    },
    "papermill": {
     "duration": 0.028902,
     "end_time": "2023-01-25T05:07:32.796734",
     "exception": false,
     "start_time": "2023-01-25T05:07:32.767832",
     "status": "completed"
    },
    "tags": []
   },
   "outputs": [
    {
     "data": {
      "text/plain": [
       "SVR()"
      ]
     },
     "execution_count": 18,
     "metadata": {},
     "output_type": "execute_result"
    }
   ],
   "source": [
    "svm = SVR()\n",
    "svm.fit(X_train, y_train)"
   ]
  },
  {
   "cell_type": "code",
   "execution_count": 19,
   "id": "185c3830",
   "metadata": {
    "execution": {
     "iopub.execute_input": "2023-01-25T05:07:32.825463Z",
     "iopub.status.busy": "2023-01-25T05:07:32.824986Z",
     "iopub.status.idle": "2023-01-25T05:07:32.832254Z",
     "shell.execute_reply": "2023-01-25T05:07:32.831278Z"
    },
    "papermill": {
     "duration": 0.024595,
     "end_time": "2023-01-25T05:07:32.834835",
     "exception": false,
     "start_time": "2023-01-25T05:07:32.810240",
     "status": "completed"
    },
    "tags": []
   },
   "outputs": [],
   "source": [
    "y_pred = svm.predict(X_test)"
   ]
  },
  {
   "cell_type": "code",
   "execution_count": 20,
   "id": "0b980f04",
   "metadata": {
    "execution": {
     "iopub.execute_input": "2023-01-25T05:07:32.864795Z",
     "iopub.status.busy": "2023-01-25T05:07:32.863994Z",
     "iopub.status.idle": "2023-01-25T05:07:32.870831Z",
     "shell.execute_reply": "2023-01-25T05:07:32.869341Z"
    },
    "papermill": {
     "duration": 0.024592,
     "end_time": "2023-01-25T05:07:32.873291",
     "exception": false,
     "start_time": "2023-01-25T05:07:32.848699",
     "status": "completed"
    },
    "tags": []
   },
   "outputs": [
    {
     "name": "stdout",
     "output_type": "stream",
     "text": [
      "Mean Squared Error: 0.019051303451814054\n"
     ]
    }
   ],
   "source": [
    "mse = mean_squared_error(y_test, y_pred)\n",
    "print(\"Mean Squared Error:\", mse)"
   ]
  },
  {
   "cell_type": "markdown",
   "id": "5aebb513",
   "metadata": {
    "papermill": {
     "duration": 0.013285,
     "end_time": "2023-01-25T05:07:32.900495",
     "exception": false,
     "start_time": "2023-01-25T05:07:32.887210",
     "status": "completed"
    },
    "tags": []
   },
   "source": [
    "# KNN "
   ]
  },
  {
   "cell_type": "code",
   "execution_count": 21,
   "id": "0bb5b477",
   "metadata": {
    "execution": {
     "iopub.execute_input": "2023-01-25T05:07:32.930711Z",
     "iopub.status.busy": "2023-01-25T05:07:32.930253Z",
     "iopub.status.idle": "2023-01-25T05:07:32.989032Z",
     "shell.execute_reply": "2023-01-25T05:07:32.987895Z"
    },
    "papermill": {
     "duration": 0.077372,
     "end_time": "2023-01-25T05:07:32.991610",
     "exception": false,
     "start_time": "2023-01-25T05:07:32.914238",
     "status": "completed"
    },
    "tags": []
   },
   "outputs": [],
   "source": [
    "from sklearn.neighbors import KNeighborsRegressor\n",
    "from sklearn.model_selection import train_test_split\n",
    "from sklearn.metrics import mean_squared_error"
   ]
  },
  {
   "cell_type": "code",
   "execution_count": 22,
   "id": "38ceb47f",
   "metadata": {
    "execution": {
     "iopub.execute_input": "2023-01-25T05:07:33.022737Z",
     "iopub.status.busy": "2023-01-25T05:07:33.021976Z",
     "iopub.status.idle": "2023-01-25T05:07:33.029924Z",
     "shell.execute_reply": "2023-01-25T05:07:33.028887Z"
    },
    "papermill": {
     "duration": 0.026129,
     "end_time": "2023-01-25T05:07:33.032282",
     "exception": false,
     "start_time": "2023-01-25T05:07:33.006153",
     "status": "completed"
    },
    "tags": []
   },
   "outputs": [],
   "source": [
    "X_train, X_test, y_train, y_test = train_test_split(X, y, test_size=0.2, random_state=42)"
   ]
  },
  {
   "cell_type": "code",
   "execution_count": 23,
   "id": "8b677c51",
   "metadata": {
    "execution": {
     "iopub.execute_input": "2023-01-25T05:07:33.062768Z",
     "iopub.status.busy": "2023-01-25T05:07:33.061845Z",
     "iopub.status.idle": "2023-01-25T05:07:33.073029Z",
     "shell.execute_reply": "2023-01-25T05:07:33.071760Z"
    },
    "papermill": {
     "duration": 0.029709,
     "end_time": "2023-01-25T05:07:33.076003",
     "exception": false,
     "start_time": "2023-01-25T05:07:33.046294",
     "status": "completed"
    },
    "tags": []
   },
   "outputs": [
    {
     "data": {
      "text/plain": [
       "KNeighborsRegressor(n_neighbors=3)"
      ]
     },
     "execution_count": 23,
     "metadata": {},
     "output_type": "execute_result"
    }
   ],
   "source": [
    "knn = KNeighborsRegressor(n_neighbors=3)\n",
    "knn.fit(X_train, y_train)"
   ]
  },
  {
   "cell_type": "code",
   "execution_count": 24,
   "id": "b6406ba6",
   "metadata": {
    "execution": {
     "iopub.execute_input": "2023-01-25T05:07:33.105843Z",
     "iopub.status.busy": "2023-01-25T05:07:33.105416Z",
     "iopub.status.idle": "2023-01-25T05:07:33.113130Z",
     "shell.execute_reply": "2023-01-25T05:07:33.111816Z"
    },
    "papermill": {
     "duration": 0.025769,
     "end_time": "2023-01-25T05:07:33.115799",
     "exception": false,
     "start_time": "2023-01-25T05:07:33.090030",
     "status": "completed"
    },
    "tags": []
   },
   "outputs": [],
   "source": [
    "y_pred = knn.predict(X_test)"
   ]
  },
  {
   "cell_type": "code",
   "execution_count": 25,
   "id": "27085b7b",
   "metadata": {
    "execution": {
     "iopub.execute_input": "2023-01-25T05:07:33.146017Z",
     "iopub.status.busy": "2023-01-25T05:07:33.145011Z",
     "iopub.status.idle": "2023-01-25T05:07:33.151691Z",
     "shell.execute_reply": "2023-01-25T05:07:33.150374Z"
    },
    "papermill": {
     "duration": 0.024327,
     "end_time": "2023-01-25T05:07:33.154161",
     "exception": false,
     "start_time": "2023-01-25T05:07:33.129834",
     "status": "completed"
    },
    "tags": []
   },
   "outputs": [
    {
     "name": "stdout",
     "output_type": "stream",
     "text": [
      "Mean Squared Error: 0.0038314655465949816\n"
     ]
    }
   ],
   "source": [
    "mse = mean_squared_error(y_test, y_pred)\n",
    "print(\"Mean Squared Error:\", mse)"
   ]
  },
  {
   "cell_type": "markdown",
   "id": "ddda1a4e",
   "metadata": {
    "papermill": {
     "duration": 0.013912,
     "end_time": "2023-01-25T05:07:33.181991",
     "exception": false,
     "start_time": "2023-01-25T05:07:33.168079",
     "status": "completed"
    },
    "tags": []
   },
   "source": [
    "# Simple ANN using Tensorflow"
   ]
  },
  {
   "cell_type": "code",
   "execution_count": 26,
   "id": "a53c9abe",
   "metadata": {
    "execution": {
     "iopub.execute_input": "2023-01-25T05:07:33.211904Z",
     "iopub.status.busy": "2023-01-25T05:07:33.211464Z",
     "iopub.status.idle": "2023-01-25T05:07:33.217993Z",
     "shell.execute_reply": "2023-01-25T05:07:33.216672Z"
    },
    "papermill": {
     "duration": 0.024645,
     "end_time": "2023-01-25T05:07:33.220659",
     "exception": false,
     "start_time": "2023-01-25T05:07:33.196014",
     "status": "completed"
    },
    "tags": []
   },
   "outputs": [],
   "source": [
    "train_x = df[['Rotation Speed (rpm)', 'Traverse speed (mm/min)',\n",
    "       'Traverse distance (mm)', 'Distance from Shoulder (mm)']]\n",
    "train_y = df['Wear depth (average), mm']"
   ]
  },
  {
   "cell_type": "code",
   "execution_count": 27,
   "id": "0c260e28",
   "metadata": {
    "execution": {
     "iopub.execute_input": "2023-01-25T05:07:33.253481Z",
     "iopub.status.busy": "2023-01-25T05:07:33.252659Z",
     "iopub.status.idle": "2023-01-25T05:07:33.257715Z",
     "shell.execute_reply": "2023-01-25T05:07:33.256667Z"
    },
    "papermill": {
     "duration": 0.023455,
     "end_time": "2023-01-25T05:07:33.260331",
     "exception": false,
     "start_time": "2023-01-25T05:07:33.236876",
     "status": "completed"
    },
    "tags": []
   },
   "outputs": [],
   "source": [
    "from sklearn.model_selection import train_test_split\n",
    "from sklearn.metrics import mean_squared_error"
   ]
  },
  {
   "cell_type": "code",
   "execution_count": 28,
   "id": "0fadb5a5",
   "metadata": {
    "execution": {
     "iopub.execute_input": "2023-01-25T05:07:33.291176Z",
     "iopub.status.busy": "2023-01-25T05:07:33.290460Z",
     "iopub.status.idle": "2023-01-25T05:07:33.296935Z",
     "shell.execute_reply": "2023-01-25T05:07:33.296027Z"
    },
    "papermill": {
     "duration": 0.024757,
     "end_time": "2023-01-25T05:07:33.299372",
     "exception": false,
     "start_time": "2023-01-25T05:07:33.274615",
     "status": "completed"
    },
    "tags": []
   },
   "outputs": [],
   "source": [
    "X_train, X_test, y_train, y_test = train_test_split(X, y, test_size=0.2, random_state=42)"
   ]
  },
  {
   "cell_type": "code",
   "execution_count": 29,
   "id": "a3dc31f2",
   "metadata": {
    "execution": {
     "iopub.execute_input": "2023-01-25T05:07:33.329701Z",
     "iopub.status.busy": "2023-01-25T05:07:33.328927Z",
     "iopub.status.idle": "2023-01-25T05:07:33.465689Z",
     "shell.execute_reply": "2023-01-25T05:07:33.463041Z"
    },
    "papermill": {
     "duration": 0.155097,
     "end_time": "2023-01-25T05:07:33.468602",
     "exception": false,
     "start_time": "2023-01-25T05:07:33.313505",
     "status": "completed"
    },
    "tags": []
   },
   "outputs": [
    {
     "name": "stderr",
     "output_type": "stream",
     "text": [
      "2023-01-25 05:07:33.369887: I tensorflow/core/common_runtime/process_util.cc:146] Creating new thread pool with default inter op setting: 2. Tune using inter_op_parallelism_threads for best performance.\n"
     ]
    }
   ],
   "source": [
    "model = Sequential()\n",
    "\n",
    "model.add(Dense(64, input_shape=(4,), activation='relu'))\n",
    "model.add(Dense(32, activation='relu'))\n",
    "model.add(Dense(16, activation='relu'))\n",
    "model.add(Dense(1))"
   ]
  },
  {
   "cell_type": "code",
   "execution_count": 30,
   "id": "e481bc70",
   "metadata": {
    "execution": {
     "iopub.execute_input": "2023-01-25T05:07:33.499588Z",
     "iopub.status.busy": "2023-01-25T05:07:33.499151Z",
     "iopub.status.idle": "2023-01-25T05:07:37.612059Z",
     "shell.execute_reply": "2023-01-25T05:07:37.610593Z"
    },
    "papermill": {
     "duration": 4.131577,
     "end_time": "2023-01-25T05:07:37.614797",
     "exception": false,
     "start_time": "2023-01-25T05:07:33.483220",
     "status": "completed"
    },
    "tags": []
   },
   "outputs": [
    {
     "name": "stderr",
     "output_type": "stream",
     "text": [
      "2023-01-25 05:07:33.608196: I tensorflow/compiler/mlir/mlir_graph_optimization_pass.cc:185] None of the MLIR Optimization Passes are enabled (registered 2)\n"
     ]
    },
    {
     "name": "stdout",
     "output_type": "stream",
     "text": [
      "Epoch 1/250\n",
      "4/4 [==============================] - 1s 4ms/step - loss: 29013.9121\n",
      "Epoch 2/250\n",
      "4/4 [==============================] - 0s 3ms/step - loss: 9366.1787\n",
      "Epoch 3/250\n",
      "4/4 [==============================] - 0s 3ms/step - loss: 4227.1328\n",
      "Epoch 4/250\n",
      "4/4 [==============================] - 0s 3ms/step - loss: 1929.1138\n",
      "Epoch 5/250\n",
      "4/4 [==============================] - 0s 3ms/step - loss: 775.4366\n",
      "Epoch 6/250\n",
      "4/4 [==============================] - 0s 2ms/step - loss: 238.5647\n",
      "Epoch 7/250\n",
      "4/4 [==============================] - 0s 2ms/step - loss: 42.3338\n",
      "Epoch 8/250\n",
      "4/4 [==============================] - 0s 2ms/step - loss: 26.9393\n",
      "Epoch 9/250\n",
      "4/4 [==============================] - 0s 2ms/step - loss: 67.7936\n",
      "Epoch 10/250\n",
      "4/4 [==============================] - 0s 3ms/step - loss: 98.4057\n",
      "Epoch 11/250\n",
      "4/4 [==============================] - 0s 3ms/step - loss: 93.7329\n",
      "Epoch 12/250\n",
      "4/4 [==============================] - 0s 3ms/step - loss: 69.6297\n",
      "Epoch 13/250\n",
      "4/4 [==============================] - 0s 2ms/step - loss: 46.5418\n",
      "Epoch 14/250\n",
      "4/4 [==============================] - 0s 2ms/step - loss: 34.5742\n",
      "Epoch 15/250\n",
      "4/4 [==============================] - 0s 2ms/step - loss: 32.0318\n",
      "Epoch 16/250\n",
      "4/4 [==============================] - 0s 2ms/step - loss: 31.7810\n",
      "Epoch 17/250\n",
      "4/4 [==============================] - 0s 3ms/step - loss: 28.0976\n",
      "Epoch 18/250\n",
      "4/4 [==============================] - 0s 2ms/step - loss: 22.8915\n",
      "Epoch 19/250\n",
      "4/4 [==============================] - 0s 2ms/step - loss: 17.5173\n",
      "Epoch 20/250\n",
      "4/4 [==============================] - 0s 3ms/step - loss: 14.8118\n",
      "Epoch 21/250\n",
      "4/4 [==============================] - 0s 2ms/step - loss: 12.9631\n",
      "Epoch 22/250\n",
      "4/4 [==============================] - 0s 2ms/step - loss: 11.6273\n",
      "Epoch 23/250\n",
      "4/4 [==============================] - 0s 3ms/step - loss: 10.3529\n",
      "Epoch 24/250\n",
      "4/4 [==============================] - 0s 3ms/step - loss: 9.1136\n",
      "Epoch 25/250\n",
      "4/4 [==============================] - 0s 3ms/step - loss: 8.3026\n",
      "Epoch 26/250\n",
      "4/4 [==============================] - 0s 3ms/step - loss: 7.7377\n",
      "Epoch 27/250\n",
      "4/4 [==============================] - 0s 2ms/step - loss: 7.3092\n",
      "Epoch 28/250\n",
      "4/4 [==============================] - 0s 3ms/step - loss: 6.9799\n",
      "Epoch 29/250\n",
      "4/4 [==============================] - 0s 2ms/step - loss: 6.7086\n",
      "Epoch 30/250\n",
      "4/4 [==============================] - 0s 2ms/step - loss: 6.4262\n",
      "Epoch 31/250\n",
      "4/4 [==============================] - 0s 3ms/step - loss: 6.1717\n",
      "Epoch 32/250\n",
      "4/4 [==============================] - 0s 3ms/step - loss: 5.9817\n",
      "Epoch 33/250\n",
      "4/4 [==============================] - 0s 2ms/step - loss: 5.7512\n",
      "Epoch 34/250\n",
      "4/4 [==============================] - 0s 2ms/step - loss: 5.4944\n",
      "Epoch 35/250\n",
      "4/4 [==============================] - 0s 2ms/step - loss: 5.2534\n",
      "Epoch 36/250\n",
      "4/4 [==============================] - 0s 3ms/step - loss: 5.0390\n",
      "Epoch 37/250\n",
      "4/4 [==============================] - 0s 3ms/step - loss: 4.8349\n",
      "Epoch 38/250\n",
      "4/4 [==============================] - 0s 3ms/step - loss: 4.6635\n",
      "Epoch 39/250\n",
      "4/4 [==============================] - 0s 2ms/step - loss: 4.4325\n",
      "Epoch 40/250\n",
      "4/4 [==============================] - 0s 2ms/step - loss: 4.2486\n",
      "Epoch 41/250\n",
      "4/4 [==============================] - 0s 2ms/step - loss: 4.0767\n",
      "Epoch 42/250\n",
      "4/4 [==============================] - 0s 2ms/step - loss: 3.9186\n",
      "Epoch 43/250\n",
      "4/4 [==============================] - 0s 2ms/step - loss: 3.7708\n",
      "Epoch 44/250\n",
      "4/4 [==============================] - 0s 2ms/step - loss: 3.6162\n",
      "Epoch 45/250\n",
      "4/4 [==============================] - 0s 3ms/step - loss: 3.4994\n",
      "Epoch 46/250\n",
      "4/4 [==============================] - 0s 2ms/step - loss: 3.3799\n",
      "Epoch 47/250\n",
      "4/4 [==============================] - 0s 3ms/step - loss: 3.2476\n",
      "Epoch 48/250\n",
      "4/4 [==============================] - 0s 3ms/step - loss: 3.1425\n",
      "Epoch 49/250\n",
      "4/4 [==============================] - 0s 2ms/step - loss: 3.0570\n",
      "Epoch 50/250\n",
      "4/4 [==============================] - 0s 2ms/step - loss: 2.9640\n",
      "Epoch 51/250\n",
      "4/4 [==============================] - 0s 2ms/step - loss: 2.8747\n",
      "Epoch 52/250\n",
      "4/4 [==============================] - 0s 2ms/step - loss: 2.7897\n",
      "Epoch 53/250\n",
      "4/4 [==============================] - 0s 2ms/step - loss: 2.7200\n",
      "Epoch 54/250\n",
      "4/4 [==============================] - 0s 3ms/step - loss: 2.6604\n",
      "Epoch 55/250\n",
      "4/4 [==============================] - 0s 3ms/step - loss: 2.6000\n",
      "Epoch 56/250\n",
      "4/4 [==============================] - 0s 3ms/step - loss: 2.5321\n",
      "Epoch 57/250\n",
      "4/4 [==============================] - 0s 2ms/step - loss: 2.4820\n",
      "Epoch 58/250\n",
      "4/4 [==============================] - 0s 2ms/step - loss: 2.4310\n",
      "Epoch 59/250\n",
      "4/4 [==============================] - 0s 2ms/step - loss: 2.3843\n",
      "Epoch 60/250\n",
      "4/4 [==============================] - 0s 3ms/step - loss: 2.3487\n",
      "Epoch 61/250\n",
      "4/4 [==============================] - 0s 3ms/step - loss: 2.3257\n",
      "Epoch 62/250\n",
      "4/4 [==============================] - 0s 2ms/step - loss: 2.2944\n",
      "Epoch 63/250\n",
      "4/4 [==============================] - 0s 3ms/step - loss: 2.2627\n",
      "Epoch 64/250\n",
      "4/4 [==============================] - 0s 2ms/step - loss: 2.2418\n",
      "Epoch 65/250\n",
      "4/4 [==============================] - 0s 3ms/step - loss: 2.2141\n",
      "Epoch 66/250\n",
      "4/4 [==============================] - 0s 3ms/step - loss: 2.1947\n",
      "Epoch 67/250\n",
      "4/4 [==============================] - 0s 3ms/step - loss: 2.1613\n",
      "Epoch 68/250\n",
      "4/4 [==============================] - 0s 3ms/step - loss: 2.1445\n",
      "Epoch 69/250\n",
      "4/4 [==============================] - 0s 3ms/step - loss: 2.1140\n",
      "Epoch 70/250\n",
      "4/4 [==============================] - 0s 3ms/step - loss: 2.0995\n",
      "Epoch 71/250\n",
      "4/4 [==============================] - 0s 2ms/step - loss: 2.0818\n",
      "Epoch 72/250\n",
      "4/4 [==============================] - 0s 3ms/step - loss: 2.0428\n",
      "Epoch 73/250\n",
      "4/4 [==============================] - 0s 2ms/step - loss: 2.0178\n",
      "Epoch 74/250\n",
      "4/4 [==============================] - 0s 3ms/step - loss: 1.9936\n",
      "Epoch 75/250\n",
      "4/4 [==============================] - 0s 3ms/step - loss: 1.9717\n",
      "Epoch 76/250\n",
      "4/4 [==============================] - 0s 3ms/step - loss: 1.9499\n",
      "Epoch 77/250\n",
      "4/4 [==============================] - 0s 3ms/step - loss: 1.9296\n",
      "Epoch 78/250\n",
      "4/4 [==============================] - 0s 3ms/step - loss: 1.9068\n",
      "Epoch 79/250\n",
      "4/4 [==============================] - 0s 3ms/step - loss: 1.8839\n",
      "Epoch 80/250\n",
      "4/4 [==============================] - 0s 3ms/step - loss: 1.8609\n",
      "Epoch 81/250\n",
      "4/4 [==============================] - 0s 2ms/step - loss: 1.8583\n",
      "Epoch 82/250\n",
      "4/4 [==============================] - 0s 3ms/step - loss: 1.8211\n",
      "Epoch 83/250\n",
      "4/4 [==============================] - 0s 3ms/step - loss: 1.8004\n",
      "Epoch 84/250\n",
      "4/4 [==============================] - 0s 3ms/step - loss: 1.7788\n",
      "Epoch 85/250\n",
      "4/4 [==============================] - 0s 2ms/step - loss: 1.7655\n",
      "Epoch 86/250\n",
      "4/4 [==============================] - 0s 3ms/step - loss: 1.7432\n",
      "Epoch 87/250\n",
      "4/4 [==============================] - 0s 3ms/step - loss: 1.7226\n",
      "Epoch 88/250\n",
      "4/4 [==============================] - 0s 3ms/step - loss: 1.7083\n",
      "Epoch 89/250\n",
      "4/4 [==============================] - 0s 2ms/step - loss: 1.6893\n",
      "Epoch 90/250\n",
      "4/4 [==============================] - 0s 3ms/step - loss: 1.6701\n",
      "Epoch 91/250\n",
      "4/4 [==============================] - 0s 3ms/step - loss: 1.6512\n",
      "Epoch 92/250\n",
      "4/4 [==============================] - 0s 2ms/step - loss: 1.6421\n",
      "Epoch 93/250\n",
      "4/4 [==============================] - 0s 3ms/step - loss: 1.6209\n",
      "Epoch 94/250\n",
      "4/4 [==============================] - 0s 2ms/step - loss: 1.5996\n",
      "Epoch 95/250\n",
      "4/4 [==============================] - 0s 2ms/step - loss: 1.5825\n",
      "Epoch 96/250\n",
      "4/4 [==============================] - 0s 3ms/step - loss: 1.5722\n",
      "Epoch 97/250\n",
      "4/4 [==============================] - 0s 3ms/step - loss: 1.5504\n",
      "Epoch 98/250\n",
      "4/4 [==============================] - 0s 3ms/step - loss: 1.5361\n",
      "Epoch 99/250\n",
      "4/4 [==============================] - 0s 3ms/step - loss: 1.5178\n",
      "Epoch 100/250\n",
      "4/4 [==============================] - 0s 3ms/step - loss: 1.5031\n",
      "Epoch 101/250\n",
      "4/4 [==============================] - 0s 3ms/step - loss: 1.4907\n",
      "Epoch 102/250\n",
      "4/4 [==============================] - 0s 2ms/step - loss: 1.4763\n",
      "Epoch 103/250\n",
      "4/4 [==============================] - 0s 3ms/step - loss: 1.4612\n",
      "Epoch 104/250\n",
      "4/4 [==============================] - 0s 2ms/step - loss: 1.4446\n",
      "Epoch 105/250\n",
      "4/4 [==============================] - 0s 3ms/step - loss: 1.4302\n",
      "Epoch 106/250\n",
      "4/4 [==============================] - 0s 3ms/step - loss: 1.4223\n",
      "Epoch 107/250\n",
      "4/4 [==============================] - 0s 3ms/step - loss: 1.4009\n",
      "Epoch 108/250\n",
      "4/4 [==============================] - 0s 3ms/step - loss: 1.3870\n",
      "Epoch 109/250\n",
      "4/4 [==============================] - 0s 3ms/step - loss: 1.3744\n",
      "Epoch 110/250\n",
      "4/4 [==============================] - 0s 3ms/step - loss: 1.3621\n",
      "Epoch 111/250\n",
      "4/4 [==============================] - 0s 3ms/step - loss: 1.3499\n",
      "Epoch 112/250\n",
      "4/4 [==============================] - 0s 3ms/step - loss: 1.3378\n",
      "Epoch 113/250\n",
      "4/4 [==============================] - 0s 2ms/step - loss: 1.3284\n",
      "Epoch 114/250\n",
      "4/4 [==============================] - 0s 3ms/step - loss: 1.3127\n",
      "Epoch 115/250\n",
      "4/4 [==============================] - 0s 3ms/step - loss: 1.2980\n",
      "Epoch 116/250\n",
      "4/4 [==============================] - 0s 3ms/step - loss: 1.2881\n",
      "Epoch 117/250\n",
      "4/4 [==============================] - 0s 3ms/step - loss: 1.2747\n",
      "Epoch 118/250\n",
      "4/4 [==============================] - 0s 3ms/step - loss: 1.2609\n",
      "Epoch 119/250\n",
      "4/4 [==============================] - 0s 3ms/step - loss: 1.2505\n",
      "Epoch 120/250\n",
      "4/4 [==============================] - 0s 3ms/step - loss: 1.2409\n",
      "Epoch 121/250\n",
      "4/4 [==============================] - 0s 2ms/step - loss: 1.2303\n",
      "Epoch 122/250\n",
      "4/4 [==============================] - 0s 2ms/step - loss: 1.2192\n",
      "Epoch 123/250\n",
      "4/4 [==============================] - 0s 2ms/step - loss: 1.2092\n",
      "Epoch 124/250\n",
      "4/4 [==============================] - 0s 2ms/step - loss: 1.1985\n",
      "Epoch 125/250\n",
      "4/4 [==============================] - 0s 3ms/step - loss: 1.1903\n",
      "Epoch 126/250\n",
      "4/4 [==============================] - 0s 3ms/step - loss: 1.1814\n",
      "Epoch 127/250\n",
      "4/4 [==============================] - 0s 3ms/step - loss: 1.1664\n",
      "Epoch 128/250\n",
      "4/4 [==============================] - 0s 3ms/step - loss: 1.1583\n",
      "Epoch 129/250\n",
      "4/4 [==============================] - 0s 2ms/step - loss: 1.1499\n",
      "Epoch 130/250\n",
      "4/4 [==============================] - 0s 2ms/step - loss: 1.1469\n",
      "Epoch 131/250\n",
      "4/4 [==============================] - 0s 3ms/step - loss: 1.1366\n",
      "Epoch 132/250\n",
      "4/4 [==============================] - 0s 2ms/step - loss: 1.1247\n",
      "Epoch 133/250\n",
      "4/4 [==============================] - 0s 2ms/step - loss: 1.1119\n",
      "Epoch 134/250\n",
      "4/4 [==============================] - 0s 3ms/step - loss: 1.1036\n",
      "Epoch 135/250\n",
      "4/4 [==============================] - 0s 3ms/step - loss: 1.0954\n",
      "Epoch 136/250\n",
      "4/4 [==============================] - 0s 2ms/step - loss: 1.0834\n",
      "Epoch 137/250\n",
      "4/4 [==============================] - 0s 3ms/step - loss: 1.0777\n",
      "Epoch 138/250\n",
      "4/4 [==============================] - 0s 3ms/step - loss: 1.0678\n",
      "Epoch 139/250\n",
      "4/4 [==============================] - 0s 3ms/step - loss: 1.0578\n",
      "Epoch 140/250\n",
      "4/4 [==============================] - 0s 3ms/step - loss: 1.0482\n",
      "Epoch 141/250\n",
      "4/4 [==============================] - 0s 3ms/step - loss: 1.0415\n",
      "Epoch 142/250\n",
      "4/4 [==============================] - 0s 3ms/step - loss: 1.0320\n",
      "Epoch 143/250\n",
      "4/4 [==============================] - 0s 3ms/step - loss: 1.0258\n",
      "Epoch 144/250\n",
      "4/4 [==============================] - 0s 3ms/step - loss: 1.0230\n",
      "Epoch 145/250\n",
      "4/4 [==============================] - 0s 3ms/step - loss: 1.0072\n",
      "Epoch 146/250\n",
      "4/4 [==============================] - 0s 2ms/step - loss: 1.0041\n",
      "Epoch 147/250\n",
      "4/4 [==============================] - 0s 2ms/step - loss: 0.9915\n",
      "Epoch 148/250\n",
      "4/4 [==============================] - 0s 2ms/step - loss: 0.9836\n",
      "Epoch 149/250\n",
      "4/4 [==============================] - 0s 2ms/step - loss: 0.9779\n",
      "Epoch 150/250\n",
      "4/4 [==============================] - 0s 3ms/step - loss: 0.9682\n",
      "Epoch 151/250\n",
      "4/4 [==============================] - 0s 3ms/step - loss: 0.9631\n",
      "Epoch 152/250\n",
      "4/4 [==============================] - 0s 3ms/step - loss: 0.9577\n",
      "Epoch 153/250\n",
      "4/4 [==============================] - 0s 3ms/step - loss: 0.9475\n",
      "Epoch 154/250\n",
      "4/4 [==============================] - 0s 3ms/step - loss: 0.9409\n",
      "Epoch 155/250\n",
      "4/4 [==============================] - 0s 3ms/step - loss: 0.9388\n",
      "Epoch 156/250\n",
      "4/4 [==============================] - 0s 3ms/step - loss: 0.9274\n",
      "Epoch 157/250\n",
      "4/4 [==============================] - 0s 3ms/step - loss: 0.9205\n",
      "Epoch 158/250\n",
      "4/4 [==============================] - 0s 3ms/step - loss: 0.9131\n",
      "Epoch 159/250\n",
      "4/4 [==============================] - 0s 3ms/step - loss: 0.9069\n",
      "Epoch 160/250\n",
      "4/4 [==============================] - 0s 2ms/step - loss: 0.9047\n",
      "Epoch 161/250\n",
      "4/4 [==============================] - 0s 3ms/step - loss: 0.8939\n",
      "Epoch 162/250\n",
      "4/4 [==============================] - 0s 3ms/step - loss: 0.8902\n",
      "Epoch 163/250\n",
      "4/4 [==============================] - 0s 2ms/step - loss: 0.8852\n",
      "Epoch 164/250\n",
      "4/4 [==============================] - 0s 2ms/step - loss: 0.8764\n",
      "Epoch 165/250\n",
      "4/4 [==============================] - 0s 2ms/step - loss: 0.8701\n",
      "Epoch 166/250\n",
      "4/4 [==============================] - 0s 3ms/step - loss: 0.8676\n",
      "Epoch 167/250\n",
      "4/4 [==============================] - 0s 2ms/step - loss: 0.8591\n",
      "Epoch 168/250\n",
      "4/4 [==============================] - 0s 2ms/step - loss: 0.8561\n",
      "Epoch 169/250\n",
      "4/4 [==============================] - 0s 3ms/step - loss: 0.8490\n",
      "Epoch 170/250\n",
      "4/4 [==============================] - 0s 3ms/step - loss: 0.8475\n",
      "Epoch 171/250\n",
      "4/4 [==============================] - 0s 2ms/step - loss: 0.8374\n",
      "Epoch 172/250\n",
      "4/4 [==============================] - 0s 3ms/step - loss: 0.8303\n",
      "Epoch 173/250\n",
      "4/4 [==============================] - 0s 3ms/step - loss: 0.8232\n",
      "Epoch 174/250\n",
      "4/4 [==============================] - 0s 2ms/step - loss: 0.8193\n",
      "Epoch 175/250\n",
      "4/4 [==============================] - 0s 2ms/step - loss: 0.8132\n",
      "Epoch 176/250\n",
      "4/4 [==============================] - 0s 2ms/step - loss: 0.8074\n",
      "Epoch 177/250\n",
      "4/4 [==============================] - 0s 2ms/step - loss: 0.8032\n",
      "Epoch 178/250\n",
      "4/4 [==============================] - 0s 3ms/step - loss: 0.7982\n",
      "Epoch 179/250\n",
      "4/4 [==============================] - 0s 3ms/step - loss: 0.7924\n",
      "Epoch 180/250\n",
      "4/4 [==============================] - 0s 3ms/step - loss: 0.7899\n",
      "Epoch 181/250\n",
      "4/4 [==============================] - 0s 3ms/step - loss: 0.7804\n",
      "Epoch 182/250\n",
      "4/4 [==============================] - 0s 3ms/step - loss: 0.7745\n",
      "Epoch 183/250\n",
      "4/4 [==============================] - 0s 3ms/step - loss: 0.7778\n",
      "Epoch 184/250\n",
      "4/4 [==============================] - 0s 3ms/step - loss: 0.7671\n",
      "Epoch 185/250\n",
      "4/4 [==============================] - 0s 3ms/step - loss: 0.7642\n",
      "Epoch 186/250\n",
      "4/4 [==============================] - 0s 3ms/step - loss: 0.7600\n",
      "Epoch 187/250\n",
      "4/4 [==============================] - 0s 3ms/step - loss: 0.7487\n",
      "Epoch 188/250\n",
      "4/4 [==============================] - 0s 3ms/step - loss: 0.7465\n",
      "Epoch 189/250\n",
      "4/4 [==============================] - 0s 2ms/step - loss: 0.7438\n",
      "Epoch 190/250\n",
      "4/4 [==============================] - 0s 2ms/step - loss: 0.7349\n",
      "Epoch 191/250\n",
      "4/4 [==============================] - 0s 2ms/step - loss: 0.7288\n",
      "Epoch 192/250\n",
      "4/4 [==============================] - 0s 2ms/step - loss: 0.7242\n",
      "Epoch 193/250\n",
      "4/4 [==============================] - 0s 3ms/step - loss: 0.7215\n",
      "Epoch 194/250\n",
      "4/4 [==============================] - 0s 2ms/step - loss: 0.7144\n",
      "Epoch 195/250\n",
      "4/4 [==============================] - 0s 3ms/step - loss: 0.7096\n",
      "Epoch 196/250\n",
      "4/4 [==============================] - 0s 3ms/step - loss: 0.7063\n",
      "Epoch 197/250\n",
      "4/4 [==============================] - 0s 3ms/step - loss: 0.7003\n",
      "Epoch 198/250\n",
      "4/4 [==============================] - 0s 3ms/step - loss: 0.6964\n",
      "Epoch 199/250\n",
      "4/4 [==============================] - 0s 3ms/step - loss: 0.6931\n",
      "Epoch 200/250\n",
      "4/4 [==============================] - 0s 2ms/step - loss: 0.6851\n",
      "Epoch 201/250\n",
      "4/4 [==============================] - 0s 3ms/step - loss: 0.6878\n",
      "Epoch 202/250\n",
      "4/4 [==============================] - 0s 2ms/step - loss: 0.6770\n",
      "Epoch 203/250\n",
      "4/4 [==============================] - 0s 2ms/step - loss: 0.6719\n",
      "Epoch 204/250\n",
      "4/4 [==============================] - 0s 2ms/step - loss: 0.6697\n",
      "Epoch 205/250\n",
      "4/4 [==============================] - 0s 2ms/step - loss: 0.6687\n",
      "Epoch 206/250\n",
      "4/4 [==============================] - 0s 3ms/step - loss: 0.6599\n",
      "Epoch 207/250\n",
      "4/4 [==============================] - 0s 3ms/step - loss: 0.6550\n",
      "Epoch 208/250\n",
      "4/4 [==============================] - 0s 2ms/step - loss: 0.6488\n",
      "Epoch 209/250\n",
      "4/4 [==============================] - 0s 3ms/step - loss: 0.6478\n",
      "Epoch 210/250\n",
      "4/4 [==============================] - 0s 3ms/step - loss: 0.6451\n",
      "Epoch 211/250\n",
      "4/4 [==============================] - 0s 3ms/step - loss: 0.6380\n",
      "Epoch 212/250\n",
      "4/4 [==============================] - 0s 3ms/step - loss: 0.6300\n",
      "Epoch 213/250\n",
      "4/4 [==============================] - 0s 3ms/step - loss: 0.6323\n",
      "Epoch 214/250\n",
      "4/4 [==============================] - 0s 3ms/step - loss: 0.6253\n",
      "Epoch 215/250\n",
      "4/4 [==============================] - 0s 3ms/step - loss: 0.6180\n",
      "Epoch 216/250\n",
      "4/4 [==============================] - 0s 3ms/step - loss: 0.6153\n",
      "Epoch 217/250\n",
      "4/4 [==============================] - 0s 2ms/step - loss: 0.6105\n",
      "Epoch 218/250\n",
      "4/4 [==============================] - 0s 2ms/step - loss: 0.6075\n",
      "Epoch 219/250\n",
      "4/4 [==============================] - 0s 2ms/step - loss: 0.6026\n",
      "Epoch 220/250\n",
      "4/4 [==============================] - 0s 2ms/step - loss: 0.6060\n",
      "Epoch 221/250\n",
      "4/4 [==============================] - 0s 2ms/step - loss: 0.5970\n",
      "Epoch 222/250\n",
      "4/4 [==============================] - 0s 2ms/step - loss: 0.5991\n",
      "Epoch 223/250\n",
      "4/4 [==============================] - 0s 2ms/step - loss: 0.5863\n",
      "Epoch 224/250\n",
      "4/4 [==============================] - 0s 3ms/step - loss: 0.5829\n",
      "Epoch 225/250\n",
      "4/4 [==============================] - 0s 2ms/step - loss: 0.5817\n",
      "Epoch 226/250\n",
      "4/4 [==============================] - 0s 2ms/step - loss: 0.5779\n",
      "Epoch 227/250\n",
      "4/4 [==============================] - 0s 3ms/step - loss: 0.5715\n",
      "Epoch 228/250\n",
      "4/4 [==============================] - 0s 3ms/step - loss: 0.5746\n",
      "Epoch 229/250\n",
      "4/4 [==============================] - 0s 2ms/step - loss: 0.5644\n",
      "Epoch 230/250\n",
      "4/4 [==============================] - 0s 2ms/step - loss: 0.5618\n",
      "Epoch 231/250\n",
      "4/4 [==============================] - 0s 2ms/step - loss: 0.5580\n",
      "Epoch 232/250\n",
      "4/4 [==============================] - 0s 2ms/step - loss: 0.5545\n",
      "Epoch 233/250\n",
      "4/4 [==============================] - 0s 2ms/step - loss: 0.5533\n",
      "Epoch 234/250\n",
      "4/4 [==============================] - 0s 3ms/step - loss: 0.5505\n",
      "Epoch 235/250\n",
      "4/4 [==============================] - 0s 3ms/step - loss: 0.5481\n",
      "Epoch 236/250\n",
      "4/4 [==============================] - 0s 2ms/step - loss: 0.5494\n",
      "Epoch 237/250\n",
      "4/4 [==============================] - 0s 2ms/step - loss: 0.5395\n",
      "Epoch 238/250\n",
      "4/4 [==============================] - 0s 2ms/step - loss: 0.5333\n",
      "Epoch 239/250\n",
      "4/4 [==============================] - 0s 2ms/step - loss: 0.5303\n",
      "Epoch 240/250\n",
      "4/4 [==============================] - 0s 2ms/step - loss: 0.5274\n",
      "Epoch 241/250\n",
      "4/4 [==============================] - 0s 3ms/step - loss: 0.5234\n",
      "Epoch 242/250\n",
      "4/4 [==============================] - 0s 3ms/step - loss: 0.5213\n",
      "Epoch 243/250\n",
      "4/4 [==============================] - 0s 3ms/step - loss: 0.5167\n",
      "Epoch 244/250\n",
      "4/4 [==============================] - 0s 7ms/step - loss: 0.5125\n",
      "Epoch 245/250\n",
      "4/4 [==============================] - 0s 3ms/step - loss: 0.5210\n",
      "Epoch 246/250\n",
      "4/4 [==============================] - 0s 2ms/step - loss: 0.5043\n",
      "Epoch 247/250\n",
      "4/4 [==============================] - 0s 3ms/step - loss: 0.5039\n",
      "Epoch 248/250\n",
      "4/4 [==============================] - 0s 2ms/step - loss: 0.5034\n",
      "Epoch 249/250\n",
      "4/4 [==============================] - 0s 2ms/step - loss: 0.5077\n",
      "Epoch 250/250\n",
      "4/4 [==============================] - 0s 2ms/step - loss: 0.4948\n"
     ]
    },
    {
     "data": {
      "text/plain": [
       "<keras.callbacks.History at 0x7fa144830850>"
      ]
     },
     "execution_count": 30,
     "metadata": {},
     "output_type": "execute_result"
    }
   ],
   "source": [
    "model.compile(loss='mean_squared_error', optimizer='adam')\n",
    "\n",
    "model.fit(X_train, y_train, epochs=250)"
   ]
  },
  {
   "cell_type": "code",
   "execution_count": 31,
   "id": "36ea5176",
   "metadata": {
    "execution": {
     "iopub.execute_input": "2023-01-25T05:07:37.719157Z",
     "iopub.status.busy": "2023-01-25T05:07:37.718730Z",
     "iopub.status.idle": "2023-01-25T05:07:38.266949Z",
     "shell.execute_reply": "2023-01-25T05:07:38.265763Z"
    },
    "papermill": {
     "duration": 0.601853,
     "end_time": "2023-01-25T05:07:38.269280",
     "exception": false,
     "start_time": "2023-01-25T05:07:37.667427",
     "status": "completed"
    },
    "tags": []
   },
   "outputs": [
    {
     "name": "stdout",
     "output_type": "stream",
     "text": [
      "1/1 [==============================] - 0s 456ms/step - loss: 0.5238\n"
     ]
    },
    {
     "data": {
      "text/plain": [
       "<keras.callbacks.History at 0x7fa124485a90>"
      ]
     },
     "execution_count": 31,
     "metadata": {},
     "output_type": "execute_result"
    }
   ],
   "source": [
    "model.compile(loss='mean_squared_error', optimizer='adam')\n",
    "\n",
    "model.fit(X_test, y_test)"
   ]
  }
 ],
 "metadata": {
  "kernelspec": {
   "display_name": "Python 3",
   "language": "python",
   "name": "python3"
  },
  "language_info": {
   "codemirror_mode": {
    "name": "ipython",
    "version": 3
   },
   "file_extension": ".py",
   "mimetype": "text/x-python",
   "name": "python",
   "nbconvert_exporter": "python",
   "pygments_lexer": "ipython3",
   "version": "3.7.12"
  },
  "papermill": {
   "default_parameters": {},
   "duration": 31.28557,
   "end_time": "2023-01-25T05:07:41.649878",
   "environment_variables": {},
   "exception": null,
   "input_path": "__notebook__.ipynb",
   "output_path": "__notebook__.ipynb",
   "parameters": {},
   "start_time": "2023-01-25T05:07:10.364308",
   "version": "2.3.4"
  }
 },
 "nbformat": 4,
 "nbformat_minor": 5
}
