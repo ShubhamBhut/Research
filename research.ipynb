{
 "cells": [
  {
   "cell_type": "code",
   "execution_count": 1,
   "id": "f37a43e1",
   "metadata": {
    "_cell_guid": "ee37a71b-d5f0-4a69-97b4-479edd6cafd1",
    "_uuid": "33a3294e-47f9-422d-a6d8-dade344b05c8",
    "collapsed": false,
    "execution": {
     "iopub.execute_input": "2023-02-05T03:34:13.003931Z",
     "iopub.status.busy": "2023-02-05T03:34:13.003383Z",
     "iopub.status.idle": "2023-02-05T03:34:13.019691Z",
     "shell.execute_reply": "2023-02-05T03:34:13.018812Z"
    },
    "jupyter": {
     "outputs_hidden": false
    },
    "papermill": {
     "duration": 0.04047,
     "end_time": "2023-02-05T03:34:13.023175",
     "exception": false,
     "start_time": "2023-02-05T03:34:12.982705",
     "status": "completed"
    },
    "tags": []
   },
   "outputs": [
    {
     "name": "stdout",
     "output_type": "stream",
     "text": [
      "/kaggle/input/researchdata/Paper 2_Wear Depth data.xlsx\n"
     ]
    }
   ],
   "source": [
    "# This Python 3 environment comes with many helpful analytics libraries installed\n",
    "# It is defined by the kaggle/python Docker image: https://github.com/kaggle/docker-python\n",
    "# For example, here's several helpful packages to load\n",
    "\n",
    "import numpy as np # linear algebra\n",
    "import pandas as pd # data processing, CSV file I/O (e.g. pd.read_csv)\n",
    "# Input data files are available in the read-only \"../input/\" directory\n",
    "# For example, running this (by clicking run or pressing Shift+Enter) will list all files under the input directory\n",
    "\n",
    "import os\n",
    "for dirname, _, filenames in os.walk('/kaggle/input'):\n",
    "    for filename in filenames:\n",
    "        print(os.path.join(dirname, filename))\n",
    "\n",
    "# You can write up to 20GB to the current directory (/kaggle/working/) that gets preserved as output when you create a version using \"Save & Run All\" \n",
    "# You can also write temporary files to /kaggle/temp/, but they won't be saved outside of the current session"
   ]
  },
  {
   "cell_type": "code",
   "execution_count": 2,
   "id": "46666c65",
   "metadata": {
    "execution": {
     "iopub.execute_input": "2023-02-05T03:34:13.051955Z",
     "iopub.status.busy": "2023-02-05T03:34:13.051505Z",
     "iopub.status.idle": "2023-02-05T03:34:13.449923Z",
     "shell.execute_reply": "2023-02-05T03:34:13.448925Z"
    },
    "papermill": {
     "duration": 0.415516,
     "end_time": "2023-02-05T03:34:13.452353",
     "exception": false,
     "start_time": "2023-02-05T03:34:13.036837",
     "status": "completed"
    },
    "tags": []
   },
   "outputs": [],
   "source": [
    "df = pd.read_excel('/kaggle/input/researchdata/Paper 2_Wear Depth data.xlsx')"
   ]
  },
  {
   "cell_type": "code",
   "execution_count": 3,
   "id": "9d5a1ce5",
   "metadata": {
    "execution": {
     "iopub.execute_input": "2023-02-05T03:34:13.481786Z",
     "iopub.status.busy": "2023-02-05T03:34:13.481241Z",
     "iopub.status.idle": "2023-02-05T03:34:13.506865Z",
     "shell.execute_reply": "2023-02-05T03:34:13.503958Z"
    },
    "papermill": {
     "duration": 0.043359,
     "end_time": "2023-02-05T03:34:13.509753",
     "exception": false,
     "start_time": "2023-02-05T03:34:13.466394",
     "status": "completed"
    },
    "tags": []
   },
   "outputs": [
    {
     "data": {
      "text/html": [
       "<div>\n",
       "<style scoped>\n",
       "    .dataframe tbody tr th:only-of-type {\n",
       "        vertical-align: middle;\n",
       "    }\n",
       "\n",
       "    .dataframe tbody tr th {\n",
       "        vertical-align: top;\n",
       "    }\n",
       "\n",
       "    .dataframe thead th {\n",
       "        text-align: right;\n",
       "    }\n",
       "</style>\n",
       "<table border=\"1\" class=\"dataframe\">\n",
       "  <thead>\n",
       "    <tr style=\"text-align: right;\">\n",
       "      <th></th>\n",
       "      <th>Rotation Speed (rpm)</th>\n",
       "      <th>Traverse speed (mm/min)</th>\n",
       "      <th>Traverse distance (mm)</th>\n",
       "      <th>Distance from Shoulder (mm)</th>\n",
       "      <th>Wear depth (average), mm</th>\n",
       "    </tr>\n",
       "  </thead>\n",
       "  <tbody>\n",
       "    <tr>\n",
       "      <th>0</th>\n",
       "      <td>800.0</td>\n",
       "      <td>30.0</td>\n",
       "      <td>300.0</td>\n",
       "      <td>0.0085</td>\n",
       "      <td>0.244100</td>\n",
       "    </tr>\n",
       "    <tr>\n",
       "      <th>1</th>\n",
       "      <td>800.0</td>\n",
       "      <td>30.0</td>\n",
       "      <td>300.0</td>\n",
       "      <td>0.3002</td>\n",
       "      <td>0.286150</td>\n",
       "    </tr>\n",
       "    <tr>\n",
       "      <th>2</th>\n",
       "      <td>800.0</td>\n",
       "      <td>30.0</td>\n",
       "      <td>300.0</td>\n",
       "      <td>0.6013</td>\n",
       "      <td>0.319000</td>\n",
       "    </tr>\n",
       "    <tr>\n",
       "      <th>3</th>\n",
       "      <td>800.0</td>\n",
       "      <td>30.0</td>\n",
       "      <td>300.0</td>\n",
       "      <td>0.9024</td>\n",
       "      <td>0.328550</td>\n",
       "    </tr>\n",
       "    <tr>\n",
       "      <th>4</th>\n",
       "      <td>800.0</td>\n",
       "      <td>30.0</td>\n",
       "      <td>300.0</td>\n",
       "      <td>1.2035</td>\n",
       "      <td>0.361150</td>\n",
       "    </tr>\n",
       "    <tr>\n",
       "      <th>...</th>\n",
       "      <td>...</td>\n",
       "      <td>...</td>\n",
       "      <td>...</td>\n",
       "      <td>...</td>\n",
       "      <td>...</td>\n",
       "    </tr>\n",
       "    <tr>\n",
       "      <th>236</th>\n",
       "      <td>1000.0</td>\n",
       "      <td>70.0</td>\n",
       "      <td>1000.0</td>\n",
       "      <td>2.7092</td>\n",
       "      <td>0.499550</td>\n",
       "    </tr>\n",
       "    <tr>\n",
       "      <th>237</th>\n",
       "      <td>1000.0</td>\n",
       "      <td>70.0</td>\n",
       "      <td>1000.0</td>\n",
       "      <td>3.0009</td>\n",
       "      <td>0.715650</td>\n",
       "    </tr>\n",
       "    <tr>\n",
       "      <th>238</th>\n",
       "      <td>1000.0</td>\n",
       "      <td>70.0</td>\n",
       "      <td>1000.0</td>\n",
       "      <td>3.3020</td>\n",
       "      <td>1.032850</td>\n",
       "    </tr>\n",
       "    <tr>\n",
       "      <th>239</th>\n",
       "      <td>1000.0</td>\n",
       "      <td>70.0</td>\n",
       "      <td>1000.0</td>\n",
       "      <td>3.5380</td>\n",
       "      <td>1.430650</td>\n",
       "    </tr>\n",
       "    <tr>\n",
       "      <th>240</th>\n",
       "      <td>1000.0</td>\n",
       "      <td>70.0</td>\n",
       "      <td>1000.0</td>\n",
       "      <td>3.7974</td>\n",
       "      <td>2.723295</td>\n",
       "    </tr>\n",
       "  </tbody>\n",
       "</table>\n",
       "<p>241 rows × 5 columns</p>\n",
       "</div>"
      ],
      "text/plain": [
       "     Rotation Speed (rpm)  Traverse speed (mm/min)  Traverse distance (mm)  \\\n",
       "0                   800.0                     30.0                   300.0   \n",
       "1                   800.0                     30.0                   300.0   \n",
       "2                   800.0                     30.0                   300.0   \n",
       "3                   800.0                     30.0                   300.0   \n",
       "4                   800.0                     30.0                   300.0   \n",
       "..                    ...                      ...                     ...   \n",
       "236                1000.0                     70.0                  1000.0   \n",
       "237                1000.0                     70.0                  1000.0   \n",
       "238                1000.0                     70.0                  1000.0   \n",
       "239                1000.0                     70.0                  1000.0   \n",
       "240                1000.0                     70.0                  1000.0   \n",
       "\n",
       "     Distance from Shoulder (mm)  Wear depth (average), mm  \n",
       "0                         0.0085                  0.244100  \n",
       "1                         0.3002                  0.286150  \n",
       "2                         0.6013                  0.319000  \n",
       "3                         0.9024                  0.328550  \n",
       "4                         1.2035                  0.361150  \n",
       "..                           ...                       ...  \n",
       "236                       2.7092                  0.499550  \n",
       "237                       3.0009                  0.715650  \n",
       "238                       3.3020                  1.032850  \n",
       "239                       3.5380                  1.430650  \n",
       "240                       3.7974                  2.723295  \n",
       "\n",
       "[241 rows x 5 columns]"
      ]
     },
     "execution_count": 3,
     "metadata": {},
     "output_type": "execute_result"
    }
   ],
   "source": [
    "df"
   ]
  },
  {
   "cell_type": "code",
   "execution_count": 4,
   "id": "7ed3f943",
   "metadata": {
    "execution": {
     "iopub.execute_input": "2023-02-05T03:34:13.537241Z",
     "iopub.status.busy": "2023-02-05T03:34:13.536884Z",
     "iopub.status.idle": "2023-02-05T03:34:15.847083Z",
     "shell.execute_reply": "2023-02-05T03:34:15.845501Z"
    },
    "papermill": {
     "duration": 2.326635,
     "end_time": "2023-02-05T03:34:15.849602",
     "exception": false,
     "start_time": "2023-02-05T03:34:13.522967",
     "status": "completed"
    },
    "tags": []
   },
   "outputs": [],
   "source": [
    "import matplotlib.pyplot as plt\n",
    "import plotly.express as px\n",
    "from sklearn import svm\n",
    "import seaborn as sns"
   ]
  },
  {
   "cell_type": "code",
   "execution_count": 5,
   "id": "0ae190a5",
   "metadata": {
    "execution": {
     "iopub.execute_input": "2023-02-05T03:34:15.877186Z",
     "iopub.status.busy": "2023-02-05T03:34:15.876056Z",
     "iopub.status.idle": "2023-02-05T03:34:15.883440Z",
     "shell.execute_reply": "2023-02-05T03:34:15.882346Z"
    },
    "papermill": {
     "duration": 0.023404,
     "end_time": "2023-02-05T03:34:15.886027",
     "exception": false,
     "start_time": "2023-02-05T03:34:15.862623",
     "status": "completed"
    },
    "tags": []
   },
   "outputs": [
    {
     "data": {
      "text/plain": [
       "Index(['Rotation Speed (rpm)', 'Traverse speed (mm/min)',\n",
       "       'Traverse distance (mm)', 'Distance from Shoulder (mm)',\n",
       "       'Wear depth (average), mm'],\n",
       "      dtype='object')"
      ]
     },
     "execution_count": 5,
     "metadata": {},
     "output_type": "execute_result"
    }
   ],
   "source": [
    "df.columns"
   ]
  },
  {
   "cell_type": "markdown",
   "id": "c0f813cf",
   "metadata": {
    "papermill": {
     "duration": 0.013498,
     "end_time": "2023-02-05T03:34:15.914998",
     "exception": false,
     "start_time": "2023-02-05T03:34:15.901500",
     "status": "completed"
    },
    "tags": []
   },
   "source": [
    "# Data Cleaning"
   ]
  },
  {
   "cell_type": "code",
   "execution_count": 6,
   "id": "edb6dd57",
   "metadata": {
    "execution": {
     "iopub.execute_input": "2023-02-05T03:34:15.943187Z",
     "iopub.status.busy": "2023-02-05T03:34:15.942824Z",
     "iopub.status.idle": "2023-02-05T03:34:15.951843Z",
     "shell.execute_reply": "2023-02-05T03:34:15.950884Z"
    },
    "papermill": {
     "duration": 0.025089,
     "end_time": "2023-02-05T03:34:15.953762",
     "exception": false,
     "start_time": "2023-02-05T03:34:15.928673",
     "status": "completed"
    },
    "tags": []
   },
   "outputs": [],
   "source": [
    "df = df.dropna() "
   ]
  },
  {
   "cell_type": "markdown",
   "id": "ef50582e",
   "metadata": {
    "papermill": {
     "duration": 0.01286,
     "end_time": "2023-02-05T03:34:15.980350",
     "exception": false,
     "start_time": "2023-02-05T03:34:15.967490",
     "status": "completed"
    },
    "tags": []
   },
   "source": [
    "# First let's have a overview of relations between various inputs and output"
   ]
  },
  {
   "cell_type": "code",
   "execution_count": 7,
   "id": "4e450d56",
   "metadata": {
    "execution": {
     "iopub.execute_input": "2023-02-05T03:34:16.010591Z",
     "iopub.status.busy": "2023-02-05T03:34:16.010136Z",
     "iopub.status.idle": "2023-02-05T03:34:16.257425Z",
     "shell.execute_reply": "2023-02-05T03:34:16.256359Z"
    },
    "papermill": {
     "duration": 0.264936,
     "end_time": "2023-02-05T03:34:16.259501",
     "exception": false,
     "start_time": "2023-02-05T03:34:15.994565",
     "status": "completed"
    },
    "tags": []
   },
   "outputs": [
    {
     "data": {
      "text/plain": [
       "<matplotlib.collections.PathCollection at 0x7f1449cf62d0>"
      ]
     },
     "execution_count": 7,
     "metadata": {},
     "output_type": "execute_result"
    },
    {
     "data": {
      "image/png": "[encoded data removed]",
      "text/plain": [
       "<Figure size 1008x648 with 1 Axes>"
      ]
     },
     "metadata": {
      "needs_background": "light"
     },
     "output_type": "display_data"
    }
   ],
   "source": [
    "plt.figure(figsize=(14,9))\n",
    "plt.scatter(x=df['Distance from Shoulder (mm)'], y=df['Wear depth (average), mm'], s=50)"
   ]
  },
  {
   "cell_type": "markdown",
   "id": "c19abd40",
   "metadata": {
    "papermill": {
     "duration": 0.013368,
     "end_time": "2023-02-05T03:34:16.286516",
     "exception": false,
     "start_time": "2023-02-05T03:34:16.273148",
     "status": "completed"
    },
    "tags": []
   },
   "source": [
    "From the above plot, we can colclude that with increase in distance form shoulder, the wear depth is expected to increase, it also depends on other varibales. And we are seeing a rapid rise in wear-depth after distance form should becomes greater than 3 mm"
   ]
  },
  {
   "cell_type": "code",
   "execution_count": 8,
   "id": "0e0ef664",
   "metadata": {
    "execution": {
     "iopub.execute_input": "2023-02-05T03:34:16.315346Z",
     "iopub.status.busy": "2023-02-05T03:34:16.314978Z",
     "iopub.status.idle": "2023-02-05T03:34:17.066467Z",
     "shell.execute_reply": "2023-02-05T03:34:17.065704Z"
    },
    "papermill": {
     "duration": 0.76785,
     "end_time": "2023-02-05T03:34:17.068340",
     "exception": false,
     "start_time": "2023-02-05T03:34:16.300490",
     "status": "completed"
    },
    "tags": []
   },
   "outputs": [
    {
     "data": {
      "text/plain": [
       "<seaborn.axisgrid.JointGrid at 0x7f147b156890>"
      ]
     },
     "execution_count": 8,
     "metadata": {},
     "output_type": "execute_result"
    },
    {
     "data": {
      "image/png": "[encoded data removed]",
      "text/plain": [
       "<Figure size 504x504 with 3 Axes>"
      ]
     },
     "metadata": {
      "needs_background": "light"
     },
     "output_type": "display_data"
    }
   ],
   "source": [
    "sns.jointplot(x='Distance from Shoulder (mm)', y='Wear depth (average), mm', data=df, hue=\"Rotation Speed (rpm)\", palette=sns.color_palette(\"hls\", 3), height=7)"
   ]
  },
  {
   "cell_type": "markdown",
   "id": "3a023a47",
   "metadata": {
    "papermill": {
     "duration": 0.013448,
     "end_time": "2023-02-05T03:34:17.095778",
     "exception": false,
     "start_time": "2023-02-05T03:34:17.082330",
     "status": "completed"
    },
    "tags": []
   },
   "source": [
    "We also get an interesting observation that, rotating speed around 1000RPM seems ideal, any directional change from here can increase the wear-depth. However the decrease in rotating speed seems more harmful than increase in rotating speed from 1000RPM."
   ]
  },
  {
   "cell_type": "code",
   "execution_count": 9,
   "id": "0d91bba5",
   "metadata": {
    "execution": {
     "iopub.execute_input": "2023-02-05T03:34:17.124751Z",
     "iopub.status.busy": "2023-02-05T03:34:17.124385Z",
     "iopub.status.idle": "2023-02-05T03:34:17.648780Z",
     "shell.execute_reply": "2023-02-05T03:34:17.647643Z"
    },
    "papermill": {
     "duration": 0.541221,
     "end_time": "2023-02-05T03:34:17.650755",
     "exception": false,
     "start_time": "2023-02-05T03:34:17.109534",
     "status": "completed"
    },
    "tags": []
   },
   "outputs": [
    {
     "data": {
      "text/plain": [
       "<seaborn.axisgrid.JointGrid at 0x7f1447b60f90>"
      ]
     },
     "execution_count": 9,
     "metadata": {},
     "output_type": "execute_result"
    },
    {
     "data": {
      "image/png": "[encoded data removed]",
      "text/plain": [
       "<Figure size 504x504 with 3 Axes>"
      ]
     },
     "metadata": {
      "needs_background": "light"
     },
     "output_type": "display_data"
    }
   ],
   "source": [
    "sns.jointplot(x='Distance from Shoulder (mm)', y='Wear depth (average), mm', data=df, hue=\"Traverse speed (mm/min)\", palette=sns.color_palette(\"hls\", 3), height=7)"
   ]
  },
  {
   "cell_type": "markdown",
   "id": "1918aa01",
   "metadata": {
    "papermill": {
     "duration": 0.014233,
     "end_time": "2023-02-05T03:34:17.679961",
     "exception": false,
     "start_time": "2023-02-05T03:34:17.665728",
     "status": "completed"
    },
    "tags": []
   },
   "source": [
    "Here we can see that with increase in transverse speed, the wear depth may decrease"
   ]
  },
  {
   "cell_type": "code",
   "execution_count": 10,
   "id": "294cb5d9",
   "metadata": {
    "execution": {
     "iopub.execute_input": "2023-02-05T03:34:17.714445Z",
     "iopub.status.busy": "2023-02-05T03:34:17.714072Z",
     "iopub.status.idle": "2023-02-05T03:34:18.264208Z",
     "shell.execute_reply": "2023-02-05T03:34:18.263516Z"
    },
    "papermill": {
     "duration": 0.569965,
     "end_time": "2023-02-05T03:34:18.266124",
     "exception": false,
     "start_time": "2023-02-05T03:34:17.696159",
     "status": "completed"
    },
    "tags": []
   },
   "outputs": [
    {
     "data": {
      "text/plain": [
       "<seaborn.axisgrid.JointGrid at 0x7f1447b669d0>"
      ]
     },
     "execution_count": 10,
     "metadata": {},
     "output_type": "execute_result"
    },
    {
     "data": {
      "image/png": "[encoded data removed]",
      "text/plain": [
       "<Figure size 504x504 with 3 Axes>"
      ]
     },
     "metadata": {
      "needs_background": "light"
     },
     "output_type": "display_data"
    }
   ],
   "source": [
    "sns.jointplot(x='Distance from Shoulder (mm)', y='Wear depth (average), mm', data=df, hue=\"Traverse distance (mm)\", palette=sns.color_palette(\"hls\", 3), height=7)"
   ]
  },
  {
   "cell_type": "markdown",
   "id": "55a15008",
   "metadata": {
    "papermill": {
     "duration": 0.01556,
     "end_time": "2023-02-05T03:34:18.297263",
     "exception": false,
     "start_time": "2023-02-05T03:34:18.281703",
     "status": "completed"
    },
    "tags": []
   },
   "source": [
    "It seems that the transvers distance has some strange realtionship with wear depth, however it is clearly seen that, the higher wear depth is seen iwth high traverse distance"
   ]
  },
  {
   "cell_type": "markdown",
   "id": "5ad17cfc",
   "metadata": {
    "papermill": {
     "duration": 0.015027,
     "end_time": "2023-02-05T03:34:18.327781",
     "exception": false,
     "start_time": "2023-02-05T03:34:18.312754",
     "status": "completed"
    },
    "tags": []
   },
   "source": [
    "### As we are seeing the variation for distance_from_shoulder > 3mm becoming overwhelming, let's first analyze the data upto 3mm"
   ]
  },
  {
   "cell_type": "code",
   "execution_count": 11,
   "id": "0efa94e0",
   "metadata": {
    "execution": {
     "iopub.execute_input": "2023-02-05T03:34:18.360480Z",
     "iopub.status.busy": "2023-02-05T03:34:18.359764Z",
     "iopub.status.idle": "2023-02-05T03:34:18.364872Z",
     "shell.execute_reply": "2023-02-05T03:34:18.364235Z"
    },
    "papermill": {
     "duration": 0.023733,
     "end_time": "2023-02-05T03:34:18.366675",
     "exception": false,
     "start_time": "2023-02-05T03:34:18.342942",
     "status": "completed"
    },
    "tags": []
   },
   "outputs": [],
   "source": [
    "df = df.loc[df['Distance from Shoulder (mm)'] < 3]"
   ]
  },
  {
   "cell_type": "code",
   "execution_count": 12,
   "id": "0bb4c050",
   "metadata": {
    "execution": {
     "iopub.execute_input": "2023-02-05T03:34:18.400939Z",
     "iopub.status.busy": "2023-02-05T03:34:18.400448Z",
     "iopub.status.idle": "2023-02-05T03:34:18.418831Z",
     "shell.execute_reply": "2023-02-05T03:34:18.416801Z"
    },
    "papermill": {
     "duration": 0.038921,
     "end_time": "2023-02-05T03:34:18.421160",
     "exception": false,
     "start_time": "2023-02-05T03:34:18.382239",
     "status": "completed"
    },
    "tags": []
   },
   "outputs": [
    {
     "data": {
      "text/html": [
       "<div>\n",
       "<style scoped>\n",
       "    .dataframe tbody tr th:only-of-type {\n",
       "        vertical-align: middle;\n",
       "    }\n",
       "\n",
       "    .dataframe tbody tr th {\n",
       "        vertical-align: top;\n",
       "    }\n",
       "\n",
       "    .dataframe thead th {\n",
       "        text-align: right;\n",
       "    }\n",
       "</style>\n",
       "<table border=\"1\" class=\"dataframe\">\n",
       "  <thead>\n",
       "    <tr style=\"text-align: right;\">\n",
       "      <th></th>\n",
       "      <th>Rotation Speed (rpm)</th>\n",
       "      <th>Traverse speed (mm/min)</th>\n",
       "      <th>Traverse distance (mm)</th>\n",
       "      <th>Distance from Shoulder (mm)</th>\n",
       "      <th>Wear depth (average), mm</th>\n",
       "    </tr>\n",
       "  </thead>\n",
       "  <tbody>\n",
       "    <tr>\n",
       "      <th>0</th>\n",
       "      <td>800.0</td>\n",
       "      <td>30.0</td>\n",
       "      <td>300.0</td>\n",
       "      <td>0.0085</td>\n",
       "      <td>0.24410</td>\n",
       "    </tr>\n",
       "    <tr>\n",
       "      <th>1</th>\n",
       "      <td>800.0</td>\n",
       "      <td>30.0</td>\n",
       "      <td>300.0</td>\n",
       "      <td>0.3002</td>\n",
       "      <td>0.28615</td>\n",
       "    </tr>\n",
       "    <tr>\n",
       "      <th>2</th>\n",
       "      <td>800.0</td>\n",
       "      <td>30.0</td>\n",
       "      <td>300.0</td>\n",
       "      <td>0.6013</td>\n",
       "      <td>0.31900</td>\n",
       "    </tr>\n",
       "    <tr>\n",
       "      <th>3</th>\n",
       "      <td>800.0</td>\n",
       "      <td>30.0</td>\n",
       "      <td>300.0</td>\n",
       "      <td>0.9024</td>\n",
       "      <td>0.32855</td>\n",
       "    </tr>\n",
       "    <tr>\n",
       "      <th>4</th>\n",
       "      <td>800.0</td>\n",
       "      <td>30.0</td>\n",
       "      <td>300.0</td>\n",
       "      <td>1.2035</td>\n",
       "      <td>0.36115</td>\n",
       "    </tr>\n",
       "    <tr>\n",
       "      <th>...</th>\n",
       "      <td>...</td>\n",
       "      <td>...</td>\n",
       "      <td>...</td>\n",
       "      <td>...</td>\n",
       "      <td>...</td>\n",
       "    </tr>\n",
       "    <tr>\n",
       "      <th>232</th>\n",
       "      <td>1000.0</td>\n",
       "      <td>70.0</td>\n",
       "      <td>1000.0</td>\n",
       "      <td>1.5047</td>\n",
       "      <td>0.09340</td>\n",
       "    </tr>\n",
       "    <tr>\n",
       "      <th>233</th>\n",
       "      <td>1000.0</td>\n",
       "      <td>70.0</td>\n",
       "      <td>1000.0</td>\n",
       "      <td>1.8058</td>\n",
       "      <td>0.12350</td>\n",
       "    </tr>\n",
       "    <tr>\n",
       "      <th>234</th>\n",
       "      <td>1000.0</td>\n",
       "      <td>70.0</td>\n",
       "      <td>1000.0</td>\n",
       "      <td>2.1069</td>\n",
       "      <td>0.21920</td>\n",
       "    </tr>\n",
       "    <tr>\n",
       "      <th>235</th>\n",
       "      <td>1000.0</td>\n",
       "      <td>70.0</td>\n",
       "      <td>1000.0</td>\n",
       "      <td>2.4081</td>\n",
       "      <td>0.26215</td>\n",
       "    </tr>\n",
       "    <tr>\n",
       "      <th>236</th>\n",
       "      <td>1000.0</td>\n",
       "      <td>70.0</td>\n",
       "      <td>1000.0</td>\n",
       "      <td>2.7092</td>\n",
       "      <td>0.49955</td>\n",
       "    </tr>\n",
       "  </tbody>\n",
       "</table>\n",
       "<p>151 rows × 5 columns</p>\n",
       "</div>"
      ],
      "text/plain": [
       "     Rotation Speed (rpm)  Traverse speed (mm/min)  Traverse distance (mm)  \\\n",
       "0                   800.0                     30.0                   300.0   \n",
       "1                   800.0                     30.0                   300.0   \n",
       "2                   800.0                     30.0                   300.0   \n",
       "3                   800.0                     30.0                   300.0   \n",
       "4                   800.0                     30.0                   300.0   \n",
       "..                    ...                      ...                     ...   \n",
       "232                1000.0                     70.0                  1000.0   \n",
       "233                1000.0                     70.0                  1000.0   \n",
       "234                1000.0                     70.0                  1000.0   \n",
       "235                1000.0                     70.0                  1000.0   \n",
       "236                1000.0                     70.0                  1000.0   \n",
       "\n",
       "     Distance from Shoulder (mm)  Wear depth (average), mm  \n",
       "0                         0.0085                   0.24410  \n",
       "1                         0.3002                   0.28615  \n",
       "2                         0.6013                   0.31900  \n",
       "3                         0.9024                   0.32855  \n",
       "4                         1.2035                   0.36115  \n",
       "..                           ...                       ...  \n",
       "232                       1.5047                   0.09340  \n",
       "233                       1.8058                   0.12350  \n",
       "234                       2.1069                   0.21920  \n",
       "235                       2.4081                   0.26215  \n",
       "236                       2.7092                   0.49955  \n",
       "\n",
       "[151 rows x 5 columns]"
      ]
     },
     "execution_count": 12,
     "metadata": {},
     "output_type": "execute_result"
    }
   ],
   "source": [
    "df"
   ]
  },
  {
   "cell_type": "code",
   "execution_count": 13,
   "id": "e525a471",
   "metadata": {
    "execution": {
     "iopub.execute_input": "2023-02-05T03:34:18.454395Z",
     "iopub.status.busy": "2023-02-05T03:34:18.453919Z",
     "iopub.status.idle": "2023-02-05T03:34:18.459417Z",
     "shell.execute_reply": "2023-02-05T03:34:18.458618Z"
    },
    "papermill": {
     "duration": 0.026236,
     "end_time": "2023-02-05T03:34:18.463368",
     "exception": false,
     "start_time": "2023-02-05T03:34:18.437132",
     "status": "completed"
    },
    "tags": []
   },
   "outputs": [],
   "source": [
    "X = df[['Rotation Speed (rpm)', 'Traverse speed (mm/min)',\n",
    "       'Traverse distance (mm)', 'Distance from Shoulder (mm)']]\n",
    "y = df['Wear depth (average), mm']"
   ]
  },
  {
   "cell_type": "code",
   "execution_count": 14,
   "id": "5840aca5",
   "metadata": {
    "execution": {
     "iopub.execute_input": "2023-02-05T03:34:18.503117Z",
     "iopub.status.busy": "2023-02-05T03:34:18.502482Z",
     "iopub.status.idle": "2023-02-05T03:34:18.518058Z",
     "shell.execute_reply": "2023-02-05T03:34:18.517178Z"
    },
    "papermill": {
     "duration": 0.037893,
     "end_time": "2023-02-05T03:34:18.519782",
     "exception": false,
     "start_time": "2023-02-05T03:34:18.481889",
     "status": "completed"
    },
    "tags": []
   },
   "outputs": [
    {
     "data": {
      "text/html": [
       "<div>\n",
       "<style scoped>\n",
       "    .dataframe tbody tr th:only-of-type {\n",
       "        vertical-align: middle;\n",
       "    }\n",
       "\n",
       "    .dataframe tbody tr th {\n",
       "        vertical-align: top;\n",
       "    }\n",
       "\n",
       "    .dataframe thead th {\n",
       "        text-align: right;\n",
       "    }\n",
       "</style>\n",
       "<table border=\"1\" class=\"dataframe\">\n",
       "  <thead>\n",
       "    <tr style=\"text-align: right;\">\n",
       "      <th></th>\n",
       "      <th>Rotation Speed (rpm)</th>\n",
       "      <th>Traverse speed (mm/min)</th>\n",
       "      <th>Traverse distance (mm)</th>\n",
       "      <th>Distance from Shoulder (mm)</th>\n",
       "    </tr>\n",
       "  </thead>\n",
       "  <tbody>\n",
       "    <tr>\n",
       "      <th>0</th>\n",
       "      <td>800.0</td>\n",
       "      <td>30.0</td>\n",
       "      <td>300.0</td>\n",
       "      <td>0.0085</td>\n",
       "    </tr>\n",
       "    <tr>\n",
       "      <th>1</th>\n",
       "      <td>800.0</td>\n",
       "      <td>30.0</td>\n",
       "      <td>300.0</td>\n",
       "      <td>0.3002</td>\n",
       "    </tr>\n",
       "    <tr>\n",
       "      <th>2</th>\n",
       "      <td>800.0</td>\n",
       "      <td>30.0</td>\n",
       "      <td>300.0</td>\n",
       "      <td>0.6013</td>\n",
       "    </tr>\n",
       "    <tr>\n",
       "      <th>3</th>\n",
       "      <td>800.0</td>\n",
       "      <td>30.0</td>\n",
       "      <td>300.0</td>\n",
       "      <td>0.9024</td>\n",
       "    </tr>\n",
       "    <tr>\n",
       "      <th>4</th>\n",
       "      <td>800.0</td>\n",
       "      <td>30.0</td>\n",
       "      <td>300.0</td>\n",
       "      <td>1.2035</td>\n",
       "    </tr>\n",
       "    <tr>\n",
       "      <th>...</th>\n",
       "      <td>...</td>\n",
       "      <td>...</td>\n",
       "      <td>...</td>\n",
       "      <td>...</td>\n",
       "    </tr>\n",
       "    <tr>\n",
       "      <th>232</th>\n",
       "      <td>1000.0</td>\n",
       "      <td>70.0</td>\n",
       "      <td>1000.0</td>\n",
       "      <td>1.5047</td>\n",
       "    </tr>\n",
       "    <tr>\n",
       "      <th>233</th>\n",
       "      <td>1000.0</td>\n",
       "      <td>70.0</td>\n",
       "      <td>1000.0</td>\n",
       "      <td>1.8058</td>\n",
       "    </tr>\n",
       "    <tr>\n",
       "      <th>234</th>\n",
       "      <td>1000.0</td>\n",
       "      <td>70.0</td>\n",
       "      <td>1000.0</td>\n",
       "      <td>2.1069</td>\n",
       "    </tr>\n",
       "    <tr>\n",
       "      <th>235</th>\n",
       "      <td>1000.0</td>\n",
       "      <td>70.0</td>\n",
       "      <td>1000.0</td>\n",
       "      <td>2.4081</td>\n",
       "    </tr>\n",
       "    <tr>\n",
       "      <th>236</th>\n",
       "      <td>1000.0</td>\n",
       "      <td>70.0</td>\n",
       "      <td>1000.0</td>\n",
       "      <td>2.7092</td>\n",
       "    </tr>\n",
       "  </tbody>\n",
       "</table>\n",
       "<p>151 rows × 4 columns</p>\n",
       "</div>"
      ],
      "text/plain": [
       "     Rotation Speed (rpm)  Traverse speed (mm/min)  Traverse distance (mm)  \\\n",
       "0                   800.0                     30.0                   300.0   \n",
       "1                   800.0                     30.0                   300.0   \n",
       "2                   800.0                     30.0                   300.0   \n",
       "3                   800.0                     30.0                   300.0   \n",
       "4                   800.0                     30.0                   300.0   \n",
       "..                    ...                      ...                     ...   \n",
       "232                1000.0                     70.0                  1000.0   \n",
       "233                1000.0                     70.0                  1000.0   \n",
       "234                1000.0                     70.0                  1000.0   \n",
       "235                1000.0                     70.0                  1000.0   \n",
       "236                1000.0                     70.0                  1000.0   \n",
       "\n",
       "     Distance from Shoulder (mm)  \n",
       "0                         0.0085  \n",
       "1                         0.3002  \n",
       "2                         0.6013  \n",
       "3                         0.9024  \n",
       "4                         1.2035  \n",
       "..                           ...  \n",
       "232                       1.5047  \n",
       "233                       1.8058  \n",
       "234                       2.1069  \n",
       "235                       2.4081  \n",
       "236                       2.7092  \n",
       "\n",
       "[151 rows x 4 columns]"
      ]
     },
     "execution_count": 14,
     "metadata": {},
     "output_type": "execute_result"
    }
   ],
   "source": [
    "X"
   ]
  },
  {
   "cell_type": "markdown",
   "id": "59943e6c",
   "metadata": {
    "papermill": {
     "duration": 0.016589,
     "end_time": "2023-02-05T03:34:18.553044",
     "exception": false,
     "start_time": "2023-02-05T03:34:18.536455",
     "status": "completed"
    },
    "tags": []
   },
   "source": [
    "# Regression and others"
   ]
  },
  {
   "cell_type": "markdown",
   "id": "6e115938",
   "metadata": {
    "papermill": {
     "duration": 0.015801,
     "end_time": "2023-02-05T03:34:18.586016",
     "exception": false,
     "start_time": "2023-02-05T03:34:18.570215",
     "status": "completed"
    },
    "tags": []
   },
   "source": [
    "# SVM"
   ]
  },
  {
   "cell_type": "code",
   "execution_count": 15,
   "id": "3b8394ac",
   "metadata": {
    "execution": {
     "iopub.execute_input": "2023-02-05T03:34:18.621986Z",
     "iopub.status.busy": "2023-02-05T03:34:18.621445Z",
     "iopub.status.idle": "2023-02-05T03:34:18.627276Z",
     "shell.execute_reply": "2023-02-05T03:34:18.626539Z"
    },
    "papermill": {
     "duration": 0.027037,
     "end_time": "2023-02-05T03:34:18.629130",
     "exception": false,
     "start_time": "2023-02-05T03:34:18.602093",
     "status": "completed"
    },
    "tags": []
   },
   "outputs": [],
   "source": [
    "from sklearn.svm import SVR\n",
    "from sklearn.metrics import accuracy_score\n",
    "from sklearn.model_selection import train_test_split\n",
    "from sklearn import preprocessing\n",
    "from sklearn.metrics import mean_squared_error\n",
    "from sklearn.metrics import r2_score\n",
    "from sklearn import metrics\n",
    "from sklearn.metrics import mean_absolute_error"
   ]
  },
  {
   "cell_type": "code",
   "execution_count": 16,
   "id": "c36921d7",
   "metadata": {
    "execution": {
     "iopub.execute_input": "2023-02-05T03:34:18.664430Z",
     "iopub.status.busy": "2023-02-05T03:34:18.663615Z",
     "iopub.status.idle": "2023-02-05T03:34:18.669608Z",
     "shell.execute_reply": "2023-02-05T03:34:18.668766Z"
    },
    "papermill": {
     "duration": 0.025551,
     "end_time": "2023-02-05T03:34:18.671440",
     "exception": false,
     "start_time": "2023-02-05T03:34:18.645889",
     "status": "completed"
    },
    "tags": []
   },
   "outputs": [],
   "source": [
    "X_train_svm, X_test_svm, y_train_svm, y_test_svm = train_test_split(X, y, test_size=0.3, random_state=42)"
   ]
  },
  {
   "cell_type": "code",
   "execution_count": 17,
   "id": "08cb6556",
   "metadata": {
    "execution": {
     "iopub.execute_input": "2023-02-05T03:34:18.705515Z",
     "iopub.status.busy": "2023-02-05T03:34:18.705110Z",
     "iopub.status.idle": "2023-02-05T03:34:18.710181Z",
     "shell.execute_reply": "2023-02-05T03:34:18.709321Z"
    },
    "papermill": {
     "duration": 0.023903,
     "end_time": "2023-02-05T03:34:18.711892",
     "exception": false,
     "start_time": "2023-02-05T03:34:18.687989",
     "status": "completed"
    },
    "tags": []
   },
   "outputs": [],
   "source": [
    "lab = preprocessing.LabelEncoder()\n",
    "y_transformed = lab.fit_transform(y_train_svm)"
   ]
  },
  {
   "cell_type": "code",
   "execution_count": 18,
   "id": "1074eeaf",
   "metadata": {
    "execution": {
     "iopub.execute_input": "2023-02-05T03:34:18.746491Z",
     "iopub.status.busy": "2023-02-05T03:34:18.746095Z",
     "iopub.status.idle": "2023-02-05T03:34:18.759134Z",
     "shell.execute_reply": "2023-02-05T03:34:18.757431Z"
    },
    "papermill": {
     "duration": 0.032721,
     "end_time": "2023-02-05T03:34:18.761703",
     "exception": false,
     "start_time": "2023-02-05T03:34:18.728982",
     "status": "completed"
    },
    "tags": []
   },
   "outputs": [
    {
     "data": {
      "text/plain": [
       "SVR()"
      ]
     },
     "execution_count": 18,
     "metadata": {},
     "output_type": "execute_result"
    }
   ],
   "source": [
    "svm = SVR()\n",
    "svm.fit(X_train_svm, y_train_svm)"
   ]
  },
  {
   "cell_type": "code",
   "execution_count": 19,
   "id": "85652f06",
   "metadata": {
    "execution": {
     "iopub.execute_input": "2023-02-05T03:34:18.795655Z",
     "iopub.status.busy": "2023-02-05T03:34:18.795228Z",
     "iopub.status.idle": "2023-02-05T03:34:18.802891Z",
     "shell.execute_reply": "2023-02-05T03:34:18.801646Z"
    },
    "papermill": {
     "duration": 0.027003,
     "end_time": "2023-02-05T03:34:18.805022",
     "exception": false,
     "start_time": "2023-02-05T03:34:18.778019",
     "status": "completed"
    },
    "tags": []
   },
   "outputs": [],
   "source": [
    "y_pred_svm = svm.predict(X_test_svm)"
   ]
  },
  {
   "cell_type": "code",
   "execution_count": 20,
   "id": "b61e5021",
   "metadata": {
    "execution": {
     "iopub.execute_input": "2023-02-05T03:34:18.839420Z",
     "iopub.status.busy": "2023-02-05T03:34:18.839080Z",
     "iopub.status.idle": "2023-02-05T03:34:18.845782Z",
     "shell.execute_reply": "2023-02-05T03:34:18.845004Z"
    },
    "papermill": {
     "duration": 0.025904,
     "end_time": "2023-02-05T03:34:18.847458",
     "exception": false,
     "start_time": "2023-02-05T03:34:18.821554",
     "status": "completed"
    },
    "tags": []
   },
   "outputs": [
    {
     "data": {
      "text/plain": [
       "0.1090886522915497"
      ]
     },
     "execution_count": 20,
     "metadata": {},
     "output_type": "execute_result"
    }
   ],
   "source": [
    "mae_svm = metrics.mean_absolute_error(y_test_svm, y_pred_svm)\n",
    "mae_svm"
   ]
  },
  {
   "cell_type": "code",
   "execution_count": 21,
   "id": "db304086",
   "metadata": {
    "execution": {
     "iopub.execute_input": "2023-02-05T03:34:18.884819Z",
     "iopub.status.busy": "2023-02-05T03:34:18.884211Z",
     "iopub.status.idle": "2023-02-05T03:34:18.895290Z",
     "shell.execute_reply": "2023-02-05T03:34:18.894291Z"
    },
    "papermill": {
     "duration": 0.031906,
     "end_time": "2023-02-05T03:34:18.897209",
     "exception": false,
     "start_time": "2023-02-05T03:34:18.865303",
     "status": "completed"
    },
    "tags": []
   },
   "outputs": [
    {
     "data": {
      "text/plain": [
       "0.1090886522915497"
      ]
     },
     "execution_count": 21,
     "metadata": {},
     "output_type": "execute_result"
    }
   ],
   "source": [
    "mad_svm = np.mean(np.abs(y_test_svm - y_pred_svm))\n",
    "mad_svm"
   ]
  },
  {
   "cell_type": "code",
   "execution_count": 22,
   "id": "c6a7053e",
   "metadata": {
    "execution": {
     "iopub.execute_input": "2023-02-05T03:34:18.931885Z",
     "iopub.status.busy": "2023-02-05T03:34:18.931511Z",
     "iopub.status.idle": "2023-02-05T03:34:18.938137Z",
     "shell.execute_reply": "2023-02-05T03:34:18.936520Z"
    },
    "papermill": {
     "duration": 0.025989,
     "end_time": "2023-02-05T03:34:18.940067",
     "exception": false,
     "start_time": "2023-02-05T03:34:18.914078",
     "status": "completed"
    },
    "tags": []
   },
   "outputs": [
    {
     "name": "stdout",
     "output_type": "stream",
     "text": [
      "Mean Squared Error: 0.019197508561450267\n"
     ]
    }
   ],
   "source": [
    "mse_svm = mean_squared_error(y_test_svm, y_pred_svm)\n",
    "print(\"Mean Squared Error:\", mse_svm)"
   ]
  },
  {
   "cell_type": "code",
   "execution_count": 23,
   "id": "569541fb",
   "metadata": {
    "execution": {
     "iopub.execute_input": "2023-02-05T03:34:18.976523Z",
     "iopub.status.busy": "2023-02-05T03:34:18.975123Z",
     "iopub.status.idle": "2023-02-05T03:34:19.143848Z",
     "shell.execute_reply": "2023-02-05T03:34:19.142895Z"
    },
    "papermill": {
     "duration": 0.19185,
     "end_time": "2023-02-05T03:34:19.147970",
     "exception": false,
     "start_time": "2023-02-05T03:34:18.956120",
     "status": "completed"
    },
    "tags": []
   },
   "outputs": [
    {
     "name": "stdout",
     "output_type": "stream",
     "text": [
      "R-squared score:  0.18855986105306188\n"
     ]
    },
    {
     "data": {
      "image/png": "[encoded data removed]",
      "text/plain": [
       "<Figure size 432x288 with 1 Axes>"
      ]
     },
     "metadata": {
      "needs_background": "light"
     },
     "output_type": "display_data"
    }
   ],
   "source": [
    "from scipy.stats import linregress\n",
    "slope, intercept, r_value, p_value, std_err = linregress(y_pred_svm, y_test_svm)\n",
    "\n",
    "x = np.linspace(min(y_pred_svm), max(y_pred_svm), 2)\n",
    "y_svm = slope * x + intercept\n",
    "plt.plot(x, y_svm, '-r', label='Trend Line')\n",
    "\n",
    "r2_svm = r2_score(y_test_svm, y_pred_svm)\n",
    "print(\"R-squared score: \", r2_svm)\n",
    "\n",
    "plt.scatter(y_pred_svm, y_test_svm)\n",
    "plt.xlabel('Predicted Values')\n",
    "plt.ylabel('Actual Values')\n",
    "plt.title('Scatter Plot of Predicted vs Actual Values')\n",
    "plt.text(0.05, 0.95, f\"y = {slope:.2f}x + {intercept:.2f}\\nR squared: {r2_svm:.2f}\", transform=plt.gca().transAxes, fontsize=14,\n",
    "         verticalalignment='top', bbox=dict(boxstyle='round', facecolor='wheat', alpha=0.5))\n",
    "\n",
    "plt.show()"
   ]
  },
  {
   "cell_type": "code",
   "execution_count": 24,
   "id": "c70f836a",
   "metadata": {
    "execution": {
     "iopub.execute_input": "2023-02-05T03:34:19.185425Z",
     "iopub.status.busy": "2023-02-05T03:34:19.185020Z",
     "iopub.status.idle": "2023-02-05T03:34:19.523843Z",
     "shell.execute_reply": "2023-02-05T03:34:19.522855Z"
    },
    "papermill": {
     "duration": 0.360778,
     "end_time": "2023-02-05T03:34:19.526109",
     "exception": false,
     "start_time": "2023-02-05T03:34:19.165331",
     "status": "completed"
    },
    "tags": []
   },
   "outputs": [
    {
     "data": {
      "image/png": "[encoded data removed]",
      "text/plain": [
       "<Figure size 1008x720 with 1 Axes>"
      ]
     },
     "metadata": {
      "needs_background": "light"
     },
     "output_type": "display_data"
    }
   ],
   "source": [
    "x = np.arange(len(y_test_svm))\n",
    "width = 0.35\n",
    "fig, ax = plt.subplots(figsize=(14,10))\n",
    "rects1 = ax.bar(x - width/2, y_test_svm, width, label='Actual')\n",
    "rects2 = ax.bar(x + width/2, y_pred_svm, width, label='Predicted')\n",
    "ax.set_xlabel('Data')\n",
    "ax.set_ylabel('Target Value')\n",
    "ax.legend()\n",
    "plt.show()"
   ]
  },
  {
   "cell_type": "markdown",
   "id": "d2f9be87",
   "metadata": {
    "papermill": {
     "duration": 0.016529,
     "end_time": "2023-02-05T03:34:19.559893",
     "exception": false,
     "start_time": "2023-02-05T03:34:19.543364",
     "status": "completed"
    },
    "tags": []
   },
   "source": [
    "# KNN "
   ]
  },
  {
   "cell_type": "code",
   "execution_count": 25,
   "id": "2a27d352",
   "metadata": {
    "execution": {
     "iopub.execute_input": "2023-02-05T03:34:19.597431Z",
     "iopub.status.busy": "2023-02-05T03:34:19.596046Z",
     "iopub.status.idle": "2023-02-05T03:34:19.653683Z",
     "shell.execute_reply": "2023-02-05T03:34:19.652724Z"
    },
    "papermill": {
     "duration": 0.07909,
     "end_time": "2023-02-05T03:34:19.656677",
     "exception": false,
     "start_time": "2023-02-05T03:34:19.577587",
     "status": "completed"
    },
    "tags": []
   },
   "outputs": [],
   "source": [
    "from sklearn.neighbors import KNeighborsRegressor\n",
    "from sklearn.model_selection import train_test_split\n",
    "from sklearn.metrics import mean_squared_error"
   ]
  },
  {
   "cell_type": "code",
   "execution_count": 26,
   "id": "17c2912d",
   "metadata": {
    "execution": {
     "iopub.execute_input": "2023-02-05T03:34:19.692721Z",
     "iopub.status.busy": "2023-02-05T03:34:19.692334Z",
     "iopub.status.idle": "2023-02-05T03:34:19.700592Z",
     "shell.execute_reply": "2023-02-05T03:34:19.698521Z"
    },
    "papermill": {
     "duration": 0.028577,
     "end_time": "2023-02-05T03:34:19.703219",
     "exception": false,
     "start_time": "2023-02-05T03:34:19.674642",
     "status": "completed"
    },
    "tags": []
   },
   "outputs": [],
   "source": [
    "X_train_knn, X_test_knn, y_train_knn, y_test_knn = train_test_split(X, y, test_size=0.3, random_state=42)"
   ]
  },
  {
   "cell_type": "code",
   "execution_count": 27,
   "id": "5d9bd1e3",
   "metadata": {
    "execution": {
     "iopub.execute_input": "2023-02-05T03:34:19.740949Z",
     "iopub.status.busy": "2023-02-05T03:34:19.739811Z",
     "iopub.status.idle": "2023-02-05T03:34:19.753307Z",
     "shell.execute_reply": "2023-02-05T03:34:19.751274Z"
    },
    "papermill": {
     "duration": 0.035407,
     "end_time": "2023-02-05T03:34:19.755711",
     "exception": false,
     "start_time": "2023-02-05T03:34:19.720304",
     "status": "completed"
    },
    "tags": []
   },
   "outputs": [
    {
     "data": {
      "text/plain": [
       "KNeighborsRegressor(n_neighbors=3)"
      ]
     },
     "execution_count": 27,
     "metadata": {},
     "output_type": "execute_result"
    }
   ],
   "source": [
    "knn = KNeighborsRegressor(n_neighbors=3)\n",
    "knn.fit(X_train_knn, y_train_knn)"
   ]
  },
  {
   "cell_type": "code",
   "execution_count": 28,
   "id": "e32d99e7",
   "metadata": {
    "execution": {
     "iopub.execute_input": "2023-02-05T03:34:19.793083Z",
     "iopub.status.busy": "2023-02-05T03:34:19.792668Z",
     "iopub.status.idle": "2023-02-05T03:34:19.800360Z",
     "shell.execute_reply": "2023-02-05T03:34:19.798871Z"
    },
    "papermill": {
     "duration": 0.029967,
     "end_time": "2023-02-05T03:34:19.803693",
     "exception": false,
     "start_time": "2023-02-05T03:34:19.773726",
     "status": "completed"
    },
    "tags": []
   },
   "outputs": [],
   "source": [
    "y_pred_knn = knn.predict(X_test_knn)"
   ]
  },
  {
   "cell_type": "code",
   "execution_count": 29,
   "id": "88a22b42",
   "metadata": {
    "execution": {
     "iopub.execute_input": "2023-02-05T03:34:19.839384Z",
     "iopub.status.busy": "2023-02-05T03:34:19.839020Z",
     "iopub.status.idle": "2023-02-05T03:34:19.845314Z",
     "shell.execute_reply": "2023-02-05T03:34:19.844046Z"
    },
    "papermill": {
     "duration": 0.026198,
     "end_time": "2023-02-05T03:34:19.847430",
     "exception": false,
     "start_time": "2023-02-05T03:34:19.821232",
     "status": "completed"
    },
    "tags": []
   },
   "outputs": [
    {
     "name": "stdout",
     "output_type": "stream",
     "text": [
      "Mean Squared Error: 0.0029116919384057963\n"
     ]
    }
   ],
   "source": [
    "mse_knn = mean_squared_error(y_test_knn, y_pred_knn)\n",
    "print(\"Mean Squared Error:\", mse_knn)"
   ]
  },
  {
   "cell_type": "code",
   "execution_count": 30,
   "id": "17cd69c6",
   "metadata": {
    "execution": {
     "iopub.execute_input": "2023-02-05T03:34:19.882175Z",
     "iopub.status.busy": "2023-02-05T03:34:19.881812Z",
     "iopub.status.idle": "2023-02-05T03:34:19.889007Z",
     "shell.execute_reply": "2023-02-05T03:34:19.888068Z"
    },
    "papermill": {
     "duration": 0.026961,
     "end_time": "2023-02-05T03:34:19.891321",
     "exception": false,
     "start_time": "2023-02-05T03:34:19.864360",
     "status": "completed"
    },
    "tags": []
   },
   "outputs": [
    {
     "data": {
      "text/plain": [
       "0.038321376811594206"
      ]
     },
     "execution_count": 30,
     "metadata": {},
     "output_type": "execute_result"
    }
   ],
   "source": [
    "mae_knn = metrics.mean_absolute_error(y_test_knn, y_pred_knn)\n",
    "mae_knn"
   ]
  },
  {
   "cell_type": "code",
   "execution_count": 31,
   "id": "4742f1ab",
   "metadata": {
    "execution": {
     "iopub.execute_input": "2023-02-05T03:34:19.929393Z",
     "iopub.status.busy": "2023-02-05T03:34:19.928975Z",
     "iopub.status.idle": "2023-02-05T03:34:19.936785Z",
     "shell.execute_reply": "2023-02-05T03:34:19.935754Z"
    },
    "papermill": {
     "duration": 0.028663,
     "end_time": "2023-02-05T03:34:19.938674",
     "exception": false,
     "start_time": "2023-02-05T03:34:19.910011",
     "status": "completed"
    },
    "tags": []
   },
   "outputs": [
    {
     "data": {
      "text/plain": [
       "0.11979283238815372"
      ]
     },
     "execution_count": 31,
     "metadata": {},
     "output_type": "execute_result"
    }
   ],
   "source": [
    "mad_knn = np.mean(np.abs(y_test_knn - np.mean(y_pred_knn)))\n",
    "mad_knn"
   ]
  },
  {
   "cell_type": "code",
   "execution_count": 32,
   "id": "6c30cab9",
   "metadata": {
    "execution": {
     "iopub.execute_input": "2023-02-05T03:34:19.975750Z",
     "iopub.status.busy": "2023-02-05T03:34:19.975242Z",
     "iopub.status.idle": "2023-02-05T03:34:20.332638Z",
     "shell.execute_reply": "2023-02-05T03:34:20.331179Z"
    },
    "papermill": {
     "duration": 0.379303,
     "end_time": "2023-02-05T03:34:20.334913",
     "exception": false,
     "start_time": "2023-02-05T03:34:19.955610",
     "status": "completed"
    },
    "tags": []
   },
   "outputs": [
    {
     "data": {
      "image/png": "[encoded data removed]",
      "text/plain": [
       "<Figure size 1008x720 with 1 Axes>"
      ]
     },
     "metadata": {
      "needs_background": "light"
     },
     "output_type": "display_data"
    }
   ],
   "source": [
    "x = np.arange(len(y_test_knn))\n",
    "width = 0.35\n",
    "fig, ax = plt.subplots(figsize=(14,10))\n",
    "rects1 = ax.bar(x - width/2, y_test_knn, width, label='Actual')\n",
    "rects2 = ax.bar(x + width/2, y_pred_knn, width, label='Predicted')\n",
    "ax.set_xlabel('Data')\n",
    "ax.set_ylabel('Target Value')\n",
    "ax.legend()\n",
    "plt.show()"
   ]
  },
  {
   "cell_type": "code",
   "execution_count": 33,
   "id": "57e0d6dc",
   "metadata": {
    "execution": {
     "iopub.execute_input": "2023-02-05T03:34:20.378722Z",
     "iopub.status.busy": "2023-02-05T03:34:20.378293Z",
     "iopub.status.idle": "2023-02-05T03:34:20.549102Z",
     "shell.execute_reply": "2023-02-05T03:34:20.547511Z"
    },
    "papermill": {
     "duration": 0.19668,
     "end_time": "2023-02-05T03:34:20.551442",
     "exception": false,
     "start_time": "2023-02-05T03:34:20.354762",
     "status": "completed"
    },
    "tags": []
   },
   "outputs": [
    {
     "name": "stdout",
     "output_type": "stream",
     "text": [
      "R-squared score:  0.8769286283421669\n"
     ]
    },
    {
     "data": {
      "image/png": "[encoded data removed]",
      "text/plain": [
       "<Figure size 432x288 with 1 Axes>"
      ]
     },
     "metadata": {
      "needs_background": "light"
     },
     "output_type": "display_data"
    }
   ],
   "source": [
    "from scipy.stats import linregress\n",
    "slope, intercept, r_value, p_value, std_err = linregress(y_pred_knn, y_test_knn)\n",
    "\n",
    "x = np.linspace(min(y_pred_knn), max(y_pred_knn), 2)\n",
    "y_knn = slope * x + intercept\n",
    "plt.plot(x, y_knn, '-r', label='Trend Line')\n",
    "\n",
    "r2_knn = r2_score(y_test_knn, y_pred_knn)\n",
    "print(\"R-squared score: \", r2_knn)\n",
    "\n",
    "plt.scatter(y_pred_knn, y_test_knn)\n",
    "plt.xlabel('Predicted Values')\n",
    "plt.ylabel('Actual Values')\n",
    "plt.title('Scatter Plot of Predicted vs Actual Values')\n",
    "plt.text(0.05, 0.95, f\"y = {slope:.2f}x + {intercept:.2f}\\nR squared: {r2_knn:.2f}\", transform=plt.gca().transAxes, fontsize=14,\n",
    "         verticalalignment='top', bbox=dict(boxstyle='round', facecolor='wheat', alpha=0.5))\n",
    "\n",
    "plt.show()"
   ]
  },
  {
   "cell_type": "code",
   "execution_count": null,
   "id": "9bf39ec1",
   "metadata": {
    "papermill": {
     "duration": 0.0214,
     "end_time": "2023-02-05T03:34:20.595749",
     "exception": false,
     "start_time": "2023-02-05T03:34:20.574349",
     "status": "completed"
    },
    "tags": []
   },
   "outputs": [],
   "source": []
  },
  {
   "cell_type": "markdown",
   "id": "46efe883",
   "metadata": {
    "papermill": {
     "duration": 0.01738,
     "end_time": "2023-02-05T03:34:20.632245",
     "exception": false,
     "start_time": "2023-02-05T03:34:20.614865",
     "status": "completed"
    },
    "tags": []
   },
   "source": [
    "# Simple ANN using Tensorflow"
   ]
  },
  {
   "cell_type": "code",
   "execution_count": 34,
   "id": "902cf29f",
   "metadata": {
    "execution": {
     "iopub.execute_input": "2023-02-05T03:34:20.668712Z",
     "iopub.status.busy": "2023-02-05T03:34:20.668229Z",
     "iopub.status.idle": "2023-02-05T03:34:26.707429Z",
     "shell.execute_reply": "2023-02-05T03:34:26.705910Z"
    },
    "papermill": {
     "duration": 6.061579,
     "end_time": "2023-02-05T03:34:26.711202",
     "exception": false,
     "start_time": "2023-02-05T03:34:20.649623",
     "status": "completed"
    },
    "tags": []
   },
   "outputs": [],
   "source": [
    "import tensorflow as tf\n",
    "from tensorflow.keras.models import Sequential\n",
    "from tensorflow.keras.layers import Dense, Activation, Dropout\n",
    "from tensorflow.keras.optimizers import SGD\n",
    "from keras.callbacks import ReduceLROnPlateau\n",
    "from tensorflow.keras.optimizers import Adam"
   ]
  },
  {
   "cell_type": "code",
   "execution_count": 35,
   "id": "1cad9d45",
   "metadata": {
    "execution": {
     "iopub.execute_input": "2023-02-05T03:34:26.751723Z",
     "iopub.status.busy": "2023-02-05T03:34:26.750972Z",
     "iopub.status.idle": "2023-02-05T03:34:26.756343Z",
     "shell.execute_reply": "2023-02-05T03:34:26.755721Z"
    },
    "papermill": {
     "duration": 0.027729,
     "end_time": "2023-02-05T03:34:26.757974",
     "exception": false,
     "start_time": "2023-02-05T03:34:26.730245",
     "status": "completed"
    },
    "tags": []
   },
   "outputs": [],
   "source": [
    "train_x = df[['Rotation Speed (rpm)', 'Traverse speed (mm/min)',\n",
    "       'Traverse distance (mm)', 'Distance from Shoulder (mm)']]\n",
    "train_y = df['Wear depth (average), mm']"
   ]
  },
  {
   "cell_type": "code",
   "execution_count": 36,
   "id": "1192ba87",
   "metadata": {
    "execution": {
     "iopub.execute_input": "2023-02-05T03:34:26.798473Z",
     "iopub.status.busy": "2023-02-05T03:34:26.797822Z",
     "iopub.status.idle": "2023-02-05T03:34:26.802645Z",
     "shell.execute_reply": "2023-02-05T03:34:26.801676Z"
    },
    "papermill": {
     "duration": 0.027594,
     "end_time": "2023-02-05T03:34:26.805461",
     "exception": false,
     "start_time": "2023-02-05T03:34:26.777867",
     "status": "completed"
    },
    "tags": []
   },
   "outputs": [],
   "source": [
    "from sklearn.model_selection import train_test_split\n",
    "from sklearn.metrics import mean_squared_error"
   ]
  },
  {
   "cell_type": "code",
   "execution_count": 37,
   "id": "d86ee986",
   "metadata": {
    "execution": {
     "iopub.execute_input": "2023-02-05T03:34:26.847099Z",
     "iopub.status.busy": "2023-02-05T03:34:26.846676Z",
     "iopub.status.idle": "2023-02-05T03:34:26.852627Z",
     "shell.execute_reply": "2023-02-05T03:34:26.851999Z"
    },
    "papermill": {
     "duration": 0.028232,
     "end_time": "2023-02-05T03:34:26.854453",
     "exception": false,
     "start_time": "2023-02-05T03:34:26.826221",
     "status": "completed"
    },
    "tags": []
   },
   "outputs": [],
   "source": [
    "X_train_ann, X_test_ann, y_train_ann, y_test_ann = train_test_split(X, y, test_size=0.3, random_state=42)"
   ]
  },
  {
   "cell_type": "code",
   "execution_count": 38,
   "id": "1eb59dfc",
   "metadata": {
    "execution": {
     "iopub.execute_input": "2023-02-05T03:34:26.897202Z",
     "iopub.status.busy": "2023-02-05T03:34:26.896654Z",
     "iopub.status.idle": "2023-02-05T03:34:26.901751Z",
     "shell.execute_reply": "2023-02-05T03:34:26.900322Z"
    },
    "papermill": {
     "duration": 0.029758,
     "end_time": "2023-02-05T03:34:26.904090",
     "exception": false,
     "start_time": "2023-02-05T03:34:26.874332",
     "status": "completed"
    },
    "tags": []
   },
   "outputs": [],
   "source": [
    "X_train_ann *= 1000\n",
    "y_train_ann *= 1000"
   ]
  },
  {
   "cell_type": "code",
   "execution_count": 39,
   "id": "1c96af23",
   "metadata": {
    "execution": {
     "iopub.execute_input": "2023-02-05T03:34:26.943943Z",
     "iopub.status.busy": "2023-02-05T03:34:26.943439Z",
     "iopub.status.idle": "2023-02-05T03:34:26.947192Z",
     "shell.execute_reply": "2023-02-05T03:34:26.946614Z"
    },
    "papermill": {
     "duration": 0.024457,
     "end_time": "2023-02-05T03:34:26.948827",
     "exception": false,
     "start_time": "2023-02-05T03:34:26.924370",
     "status": "completed"
    },
    "tags": []
   },
   "outputs": [],
   "source": [
    "reduce_lr = ReduceLROnPlateau(monitor='val_loss', factor=0.2, patience=5, min_lr=0.001)"
   ]
  },
  {
   "cell_type": "code",
   "execution_count": 40,
   "id": "5363b37f",
   "metadata": {
    "execution": {
     "iopub.execute_input": "2023-02-05T03:34:26.988676Z",
     "iopub.status.busy": "2023-02-05T03:34:26.988109Z",
     "iopub.status.idle": "2023-02-05T03:34:27.110656Z",
     "shell.execute_reply": "2023-02-05T03:34:27.109788Z"
    },
    "papermill": {
     "duration": 0.144118,
     "end_time": "2023-02-05T03:34:27.112628",
     "exception": false,
     "start_time": "2023-02-05T03:34:26.968510",
     "status": "completed"
    },
    "tags": []
   },
   "outputs": [
    {
     "name": "stderr",
     "output_type": "stream",
     "text": [
      "2023-02-05 03:34:27.023801: I tensorflow/core/common_runtime/process_util.cc:146] Creating new thread pool with default inter op setting: 2. Tune using inter_op_parallelism_threads for best performance.\n"
     ]
    }
   ],
   "source": [
    "model = Sequential()\n",
    "\n",
    "model.add(Dense(81, input_shape=(4,), activation='relu'))\n",
    "model.add(Dense(27, activation='relu'))\n",
    "model.add(Dense(9, activation='relu'))\n",
    "model.add(Dense(1))"
   ]
  },
  {
   "cell_type": "code",
   "execution_count": 41,
   "id": "c999c9ab",
   "metadata": {
    "execution": {
     "iopub.execute_input": "2023-02-05T03:34:27.150275Z",
     "iopub.status.busy": "2023-02-05T03:34:27.149423Z",
     "iopub.status.idle": "2023-02-05T03:34:27.176387Z",
     "shell.execute_reply": "2023-02-05T03:34:27.175319Z"
    },
    "papermill": {
     "duration": 0.048199,
     "end_time": "2023-02-05T03:34:27.178842",
     "exception": false,
     "start_time": "2023-02-05T03:34:27.130643",
     "status": "completed"
    },
    "tags": []
   },
   "outputs": [],
   "source": [
    "model = Sequential()\n",
    "\n",
    "model.add(Dense(18, input_shape=(4,), activation='relu'))\n",
    "model.add(Dense(9, activation='relu'))\n",
    "model.add(Dense(1))"
   ]
  },
  {
   "cell_type": "code",
   "execution_count": 42,
   "id": "4431f2be",
   "metadata": {
    "execution": {
     "iopub.execute_input": "2023-02-05T03:34:27.215188Z",
     "iopub.status.busy": "2023-02-05T03:34:27.214845Z",
     "iopub.status.idle": "2023-02-05T03:34:44.859633Z",
     "shell.execute_reply": "2023-02-05T03:34:44.858332Z"
    },
    "papermill": {
     "duration": 17.665282,
     "end_time": "2023-02-05T03:34:44.862044",
     "exception": false,
     "start_time": "2023-02-05T03:34:27.196762",
     "status": "completed"
    },
    "tags": []
   },
   "outputs": [
    {
     "name": "stderr",
     "output_type": "stream",
     "text": [
      "/opt/conda/lib/python3.7/site-packages/keras/optimizer_v2/optimizer_v2.py:356: UserWarning: The `lr` argument is deprecated, use `learning_rate` instead.\n",
      "  \"The `lr` argument is deprecated, use `learning_rate` instead.\")\n",
      "2023-02-05 03:34:27.309748: I tensorflow/compiler/mlir/mlir_graph_optimization_pass.cc:185] None of the MLIR Optimization Passes are enabled (registered 2)\n"
     ]
    },
    {
     "name": "stdout",
     "output_type": "stream",
     "text": [
      "Epoch 1/400\n",
      "4/4 [==============================] - 1s 56ms/step - loss: 29096980480.0000 - val_loss: 2514.0537\n",
      "Epoch 2/400\n",
      "4/4 [==============================] - 0s 11ms/step - loss: 3098129408.0000 - val_loss: 886.0250\n",
      "Epoch 3/400\n",
      "4/4 [==============================] - 0s 13ms/step - loss: 431222560.0000 - val_loss: 14.5994\n",
      "Epoch 4/400\n",
      "4/4 [==============================] - 0s 10ms/step - loss: 6665127.0000 - val_loss: 0.1206\n",
      "Epoch 5/400\n",
      "4/4 [==============================] - 0s 10ms/step - loss: 501498.1562 - val_loss: 1.9417\n",
      "Epoch 6/400\n",
      "4/4 [==============================] - 0s 15ms/step - loss: 2357418.7500 - val_loss: 3.3792\n",
      "Epoch 7/400\n",
      "4/4 [==============================] - 0s 11ms/step - loss: 3534768.2500 - val_loss: 3.7972\n",
      "Epoch 8/400\n",
      "4/4 [==============================] - 0s 10ms/step - loss: 3860222.7500 - val_loss: 3.6566\n",
      "Epoch 9/400\n",
      "4/4 [==============================] - 0s 12ms/step - loss: 3709328.5000 - val_loss: 3.2774\n",
      "Epoch 10/400\n",
      "4/4 [==============================] - 0s 13ms/step - loss: 3453278.7500 - val_loss: 3.1886\n",
      "Epoch 11/400\n",
      "4/4 [==============================] - 0s 14ms/step - loss: 3373277.5000 - val_loss: 3.0974\n",
      "Epoch 12/400\n",
      "4/4 [==============================] - 0s 12ms/step - loss: 3290967.7500 - val_loss: 3.0051\n",
      "Epoch 13/400\n",
      "4/4 [==============================] - 0s 14ms/step - loss: 3205227.5000 - val_loss: 2.9129\n",
      "Epoch 14/400\n",
      "4/4 [==============================] - 0s 14ms/step - loss: 3118950.7500 - val_loss: 2.8208\n",
      "Epoch 15/400\n",
      "4/4 [==============================] - 0s 11ms/step - loss: 3052725.7500 - val_loss: 2.8023\n",
      "Epoch 16/400\n",
      "4/4 [==============================] - 0s 12ms/step - loss: 3035143.2500 - val_loss: 2.7834\n",
      "Epoch 17/400\n",
      "4/4 [==============================] - 0s 16ms/step - loss: 3017255.2500 - val_loss: 2.7643\n",
      "Epoch 18/400\n",
      "4/4 [==============================] - 0s 12ms/step - loss: 2999105.5000 - val_loss: 2.7446\n",
      "Epoch 19/400\n",
      "4/4 [==============================] - 0s 10ms/step - loss: 2980599.5000 - val_loss: 2.7243\n",
      "Epoch 20/400\n",
      "4/4 [==============================] - 0s 11ms/step - loss: 2965409.7500 - val_loss: 2.7192\n",
      "Epoch 21/400\n",
      "4/4 [==============================] - 0s 11ms/step - loss: 2960474.0000 - val_loss: 2.7141\n",
      "Epoch 22/400\n",
      "4/4 [==============================] - 0s 15ms/step - loss: 2955673.5000 - val_loss: 2.7088\n",
      "Epoch 23/400\n",
      "4/4 [==============================] - 0s 11ms/step - loss: 2950722.2500 - val_loss: 2.7035\n",
      "Epoch 24/400\n",
      "4/4 [==============================] - 0s 10ms/step - loss: 2945669.5000 - val_loss: 2.6980\n",
      "Epoch 25/400\n",
      "4/4 [==============================] - 0s 11ms/step - loss: 2940495.0000 - val_loss: 2.6926\n",
      "Epoch 26/400\n",
      "4/4 [==============================] - 0s 12ms/step - loss: 2935375.7500 - val_loss: 2.6870\n",
      "Epoch 27/400\n",
      "4/4 [==============================] - 0s 10ms/step - loss: 2929949.0000 - val_loss: 2.6813\n",
      "Epoch 28/400\n",
      "4/4 [==============================] - 0s 14ms/step - loss: 2924660.7500 - val_loss: 2.6756\n",
      "Epoch 29/400\n",
      "4/4 [==============================] - 0s 13ms/step - loss: 2919017.5000 - val_loss: 2.6697\n",
      "Epoch 30/400\n",
      "4/4 [==============================] - 0s 14ms/step - loss: 2913495.7500 - val_loss: 2.6637\n",
      "Epoch 31/400\n",
      "4/4 [==============================] - 0s 13ms/step - loss: 2907666.2500 - val_loss: 2.6576\n",
      "Epoch 32/400\n",
      "4/4 [==============================] - 0s 13ms/step - loss: 2902029.7500 - val_loss: 2.6513\n",
      "Epoch 33/400\n",
      "4/4 [==============================] - 0s 12ms/step - loss: 2895940.2500 - val_loss: 2.6451\n",
      "Epoch 34/400\n",
      "4/4 [==============================] - 0s 13ms/step - loss: 2890177.0000 - val_loss: 2.6388\n",
      "Epoch 35/400\n",
      "4/4 [==============================] - 0s 11ms/step - loss: 2884158.2500 - val_loss: 2.6325\n",
      "Epoch 36/400\n",
      "4/4 [==============================] - 0s 10ms/step - loss: 2878085.0000 - val_loss: 2.6261\n",
      "Epoch 37/400\n",
      "4/4 [==============================] - 0s 10ms/step - loss: 2871911.0000 - val_loss: 2.6195\n",
      "Epoch 38/400\n",
      "4/4 [==============================] - 0s 11ms/step - loss: 2865711.5000 - val_loss: 2.6129\n",
      "Epoch 39/400\n",
      "4/4 [==============================] - 0s 12ms/step - loss: 2859411.7500 - val_loss: 2.6061\n",
      "Epoch 40/400\n",
      "4/4 [==============================] - 0s 12ms/step - loss: 2853213.5000 - val_loss: 2.5993\n",
      "Epoch 41/400\n",
      "4/4 [==============================] - 0s 13ms/step - loss: 2846495.5000 - val_loss: 2.5926\n",
      "Epoch 42/400\n",
      "4/4 [==============================] - 0s 11ms/step - loss: 2840284.0000 - val_loss: 2.5858\n",
      "Epoch 43/400\n",
      "4/4 [==============================] - 0s 13ms/step - loss: 2833786.2500 - val_loss: 2.5789\n",
      "Epoch 44/400\n",
      "4/4 [==============================] - 0s 13ms/step - loss: 2827266.7500 - val_loss: 2.5721\n",
      "Epoch 45/400\n",
      "4/4 [==============================] - 0s 13ms/step - loss: 2820733.2500 - val_loss: 2.5653\n",
      "Epoch 46/400\n",
      "4/4 [==============================] - 0s 11ms/step - loss: 2814318.0000 - val_loss: 2.5583\n",
      "Epoch 47/400\n",
      "4/4 [==============================] - 0s 11ms/step - loss: 2807581.2500 - val_loss: 2.5512\n",
      "Epoch 48/400\n",
      "4/4 [==============================] - 0s 12ms/step - loss: 2800701.0000 - val_loss: 2.5441\n",
      "Epoch 49/400\n",
      "4/4 [==============================] - 0s 13ms/step - loss: 2794030.7500 - val_loss: 2.5368\n",
      "Epoch 50/400\n",
      "4/4 [==============================] - 0s 13ms/step - loss: 2787078.7500 - val_loss: 2.5294\n",
      "Epoch 51/400\n",
      "4/4 [==============================] - 0s 11ms/step - loss: 2780082.2500 - val_loss: 2.5220\n",
      "Epoch 52/400\n",
      "4/4 [==============================] - 0s 15ms/step - loss: 2772844.0000 - val_loss: 2.5147\n",
      "Epoch 53/400\n",
      "4/4 [==============================] - 0s 11ms/step - loss: 2765964.7500 - val_loss: 2.5072\n",
      "Epoch 54/400\n",
      "4/4 [==============================] - 0s 11ms/step - loss: 2758939.5000 - val_loss: 2.4996\n",
      "Epoch 55/400\n",
      "4/4 [==============================] - 0s 10ms/step - loss: 2751766.2500 - val_loss: 2.4920\n",
      "Epoch 56/400\n",
      "4/4 [==============================] - 0s 13ms/step - loss: 2744561.2500 - val_loss: 2.4845\n",
      "Epoch 57/400\n",
      "4/4 [==============================] - 0s 14ms/step - loss: 2737287.2500 - val_loss: 2.4770\n",
      "Epoch 58/400\n",
      "4/4 [==============================] - 0s 13ms/step - loss: 2730064.2500 - val_loss: 2.4693\n",
      "Epoch 59/400\n",
      "4/4 [==============================] - 0s 15ms/step - loss: 2722896.7500 - val_loss: 2.4616\n",
      "Epoch 60/400\n",
      "4/4 [==============================] - 0s 14ms/step - loss: 2715553.2500 - val_loss: 2.4538\n",
      "Epoch 61/400\n",
      "4/4 [==============================] - 0s 15ms/step - loss: 2708021.7500 - val_loss: 2.4460\n",
      "Epoch 62/400\n",
      "4/4 [==============================] - 0s 12ms/step - loss: 2700440.7500 - val_loss: 2.4381\n",
      "Epoch 63/400\n",
      "4/4 [==============================] - 0s 13ms/step - loss: 2692907.2500 - val_loss: 2.4300\n",
      "Epoch 64/400\n",
      "4/4 [==============================] - 0s 12ms/step - loss: 2685321.2500 - val_loss: 2.4220\n",
      "Epoch 65/400\n",
      "4/4 [==============================] - 0s 11ms/step - loss: 2677541.5000 - val_loss: 2.4140\n",
      "Epoch 66/400\n",
      "4/4 [==============================] - 0s 14ms/step - loss: 2669922.2500 - val_loss: 2.4060\n",
      "Epoch 67/400\n",
      "4/4 [==============================] - 0s 10ms/step - loss: 2662355.5000 - val_loss: 2.3978\n",
      "Epoch 68/400\n",
      "4/4 [==============================] - 0s 14ms/step - loss: 2654428.0000 - val_loss: 2.3896\n",
      "Epoch 69/400\n",
      "4/4 [==============================] - 0s 10ms/step - loss: 2646594.2500 - val_loss: 2.3815\n",
      "Epoch 70/400\n",
      "4/4 [==============================] - 0s 11ms/step - loss: 2639017.7500 - val_loss: 2.3731\n",
      "Epoch 71/400\n",
      "4/4 [==============================] - 0s 12ms/step - loss: 2630811.5000 - val_loss: 2.3649\n",
      "Epoch 72/400\n",
      "4/4 [==============================] - 0s 17ms/step - loss: 2622867.7500 - val_loss: 2.3568\n",
      "Epoch 73/400\n",
      "4/4 [==============================] - 0s 11ms/step - loss: 2615362.5000 - val_loss: 2.3486\n",
      "Epoch 74/400\n",
      "4/4 [==============================] - 0s 10ms/step - loss: 2607403.0000 - val_loss: 2.3404\n",
      "Epoch 75/400\n",
      "4/4 [==============================] - 0s 11ms/step - loss: 2599574.7500 - val_loss: 2.3321\n",
      "Epoch 76/400\n",
      "4/4 [==============================] - 0s 13ms/step - loss: 2591614.2500 - val_loss: 2.3239\n",
      "Epoch 77/400\n",
      "4/4 [==============================] - 0s 13ms/step - loss: 2583911.5000 - val_loss: 2.3156\n",
      "Epoch 78/400\n",
      "4/4 [==============================] - 0s 10ms/step - loss: 2575893.0000 - val_loss: 2.3075\n",
      "Epoch 79/400\n",
      "4/4 [==============================] - 0s 14ms/step - loss: 2568143.0000 - val_loss: 2.2994\n",
      "Epoch 80/400\n",
      "4/4 [==============================] - 0s 11ms/step - loss: 2560352.2500 - val_loss: 2.2913\n",
      "Epoch 81/400\n",
      "4/4 [==============================] - 0s 11ms/step - loss: 2552507.0000 - val_loss: 2.2830\n",
      "Epoch 82/400\n",
      "4/4 [==============================] - 0s 10ms/step - loss: 2544700.0000 - val_loss: 2.2746\n",
      "Epoch 83/400\n",
      "4/4 [==============================] - 0s 11ms/step - loss: 2536687.5000 - val_loss: 2.2663\n",
      "Epoch 84/400\n",
      "4/4 [==============================] - 0s 10ms/step - loss: 2528739.5000 - val_loss: 2.2579\n",
      "Epoch 85/400\n",
      "4/4 [==============================] - 0s 11ms/step - loss: 2520613.7500 - val_loss: 2.2495\n",
      "Epoch 86/400\n",
      "4/4 [==============================] - 0s 11ms/step - loss: 2512513.5000 - val_loss: 2.2410\n",
      "Epoch 87/400\n",
      "4/4 [==============================] - 0s 13ms/step - loss: 2504385.2500 - val_loss: 2.2325\n",
      "Epoch 88/400\n",
      "4/4 [==============================] - 0s 11ms/step - loss: 2496205.0000 - val_loss: 2.2240\n",
      "Epoch 89/400\n",
      "4/4 [==============================] - 0s 10ms/step - loss: 2488089.0000 - val_loss: 2.2155\n",
      "Epoch 90/400\n",
      "4/4 [==============================] - 0s 15ms/step - loss: 2479748.7500 - val_loss: 2.2072\n",
      "Epoch 91/400\n",
      "4/4 [==============================] - 0s 12ms/step - loss: 2471986.2500 - val_loss: 2.1986\n",
      "Epoch 92/400\n",
      "4/4 [==============================] - 0s 16ms/step - loss: 2463694.5000 - val_loss: 2.1901\n",
      "Epoch 93/400\n",
      "4/4 [==============================] - 0s 10ms/step - loss: 2455450.2500 - val_loss: 2.1816\n",
      "Epoch 94/400\n",
      "4/4 [==============================] - 0s 12ms/step - loss: 2447097.5000 - val_loss: 2.1730\n",
      "Epoch 95/400\n",
      "4/4 [==============================] - 0s 13ms/step - loss: 2439132.5000 - val_loss: 2.1643\n",
      "Epoch 96/400\n",
      "4/4 [==============================] - 0s 12ms/step - loss: 2430755.2500 - val_loss: 2.1558\n",
      "Epoch 97/400\n",
      "4/4 [==============================] - 0s 13ms/step - loss: 2422520.5000 - val_loss: 2.1472\n",
      "Epoch 98/400\n",
      "4/4 [==============================] - 0s 10ms/step - loss: 2414264.0000 - val_loss: 2.1385\n",
      "Epoch 99/400\n",
      "4/4 [==============================] - 0s 12ms/step - loss: 2405994.7500 - val_loss: 2.1300\n",
      "Epoch 100/400\n",
      "4/4 [==============================] - 0s 12ms/step - loss: 2397626.2500 - val_loss: 2.1215\n",
      "Epoch 101/400\n",
      "4/4 [==============================] - 0s 11ms/step - loss: 2389437.5000 - val_loss: 2.1130\n",
      "Epoch 102/400\n",
      "4/4 [==============================] - 0s 10ms/step - loss: 2381404.2500 - val_loss: 2.1045\n",
      "Epoch 103/400\n",
      "4/4 [==============================] - 0s 15ms/step - loss: 2372950.0000 - val_loss: 2.0959\n",
      "Epoch 104/400\n",
      "4/4 [==============================] - 0s 12ms/step - loss: 2364785.0000 - val_loss: 2.0874\n",
      "Epoch 105/400\n",
      "4/4 [==============================] - 0s 12ms/step - loss: 2356691.2500 - val_loss: 2.0790\n",
      "Epoch 106/400\n",
      "4/4 [==============================] - 0s 13ms/step - loss: 2348582.0000 - val_loss: 2.0706\n",
      "Epoch 107/400\n",
      "4/4 [==============================] - 0s 11ms/step - loss: 2340292.2500 - val_loss: 2.0620\n",
      "Epoch 108/400\n",
      "4/4 [==============================] - 0s 10ms/step - loss: 2331998.0000 - val_loss: 2.0534\n",
      "Epoch 109/400\n",
      "4/4 [==============================] - 0s 11ms/step - loss: 2323685.0000 - val_loss: 2.0448\n",
      "Epoch 110/400\n",
      "4/4 [==============================] - 0s 10ms/step - loss: 2315438.5000 - val_loss: 2.0363\n",
      "Epoch 111/400\n",
      "4/4 [==============================] - 0s 10ms/step - loss: 2307221.0000 - val_loss: 2.0277\n",
      "Epoch 112/400\n",
      "4/4 [==============================] - 0s 12ms/step - loss: 2299045.5000 - val_loss: 2.0192\n",
      "Epoch 113/400\n",
      "4/4 [==============================] - 0s 11ms/step - loss: 2290677.0000 - val_loss: 2.0109\n",
      "Epoch 114/400\n",
      "4/4 [==============================] - 0s 11ms/step - loss: 2282710.5000 - val_loss: 2.0024\n",
      "Epoch 115/400\n",
      "4/4 [==============================] - 0s 16ms/step - loss: 2274511.7500 - val_loss: 1.9941\n",
      "Epoch 116/400\n",
      "4/4 [==============================] - 0s 12ms/step - loss: 2266461.7500 - val_loss: 1.9858\n",
      "Epoch 117/400\n",
      "4/4 [==============================] - 0s 13ms/step - loss: 2258491.5000 - val_loss: 1.9774\n",
      "Epoch 118/400\n",
      "4/4 [==============================] - 0s 13ms/step - loss: 2250195.5000 - val_loss: 1.9690\n",
      "Epoch 119/400\n",
      "4/4 [==============================] - 0s 12ms/step - loss: 2241881.7500 - val_loss: 1.9607\n",
      "Epoch 120/400\n",
      "4/4 [==============================] - 0s 12ms/step - loss: 2234012.7500 - val_loss: 1.9521\n",
      "Epoch 121/400\n",
      "4/4 [==============================] - 0s 12ms/step - loss: 2225604.5000 - val_loss: 1.9437\n",
      "Epoch 122/400\n",
      "4/4 [==============================] - 0s 11ms/step - loss: 2217450.2500 - val_loss: 1.9352\n",
      "Epoch 123/400\n",
      "4/4 [==============================] - 0s 12ms/step - loss: 2209291.0000 - val_loss: 1.9268\n",
      "Epoch 124/400\n",
      "4/4 [==============================] - 0s 10ms/step - loss: 2201125.0000 - val_loss: 1.9184\n",
      "Epoch 125/400\n",
      "4/4 [==============================] - 0s 13ms/step - loss: 2193066.0000 - val_loss: 1.9100\n",
      "Epoch 126/400\n",
      "4/4 [==============================] - 0s 11ms/step - loss: 2184933.7500 - val_loss: 1.9017\n",
      "Epoch 127/400\n",
      "4/4 [==============================] - 0s 11ms/step - loss: 2176732.5000 - val_loss: 1.8935\n",
      "Epoch 128/400\n",
      "4/4 [==============================] - 0s 10ms/step - loss: 2168904.5000 - val_loss: 1.8853\n",
      "Epoch 129/400\n",
      "4/4 [==============================] - 0s 12ms/step - loss: 2160884.5000 - val_loss: 1.8771\n",
      "Epoch 130/400\n",
      "4/4 [==============================] - 0s 16ms/step - loss: 2152705.7500 - val_loss: 1.8689\n",
      "Epoch 131/400\n",
      "4/4 [==============================] - 0s 12ms/step - loss: 2144766.0000 - val_loss: 1.8606\n",
      "Epoch 132/400\n",
      "4/4 [==============================] - 0s 12ms/step - loss: 2136577.0000 - val_loss: 1.8521\n",
      "Epoch 133/400\n",
      "4/4 [==============================] - 0s 17ms/step - loss: 2128403.7500 - val_loss: 1.8437\n",
      "Epoch 134/400\n",
      "4/4 [==============================] - 0s 12ms/step - loss: 2119996.7500 - val_loss: 1.8353\n",
      "Epoch 135/400\n",
      "4/4 [==============================] - 0s 13ms/step - loss: 2112008.7500 - val_loss: 1.8270\n",
      "Epoch 136/400\n",
      "4/4 [==============================] - 0s 11ms/step - loss: 2103861.2500 - val_loss: 1.8187\n",
      "Epoch 137/400\n",
      "4/4 [==============================] - 0s 14ms/step - loss: 2095820.2500 - val_loss: 1.8104\n",
      "Epoch 138/400\n",
      "4/4 [==============================] - 0s 15ms/step - loss: 2087599.1250 - val_loss: 1.8022\n",
      "Epoch 139/400\n",
      "4/4 [==============================] - 0s 11ms/step - loss: 2079712.8750 - val_loss: 1.7939\n",
      "Epoch 140/400\n",
      "4/4 [==============================] - 0s 13ms/step - loss: 2071505.8750 - val_loss: 1.7856\n",
      "Epoch 141/400\n",
      "4/4 [==============================] - 0s 17ms/step - loss: 2063385.1250 - val_loss: 1.7774\n",
      "Epoch 142/400\n",
      "4/4 [==============================] - 0s 12ms/step - loss: 2055410.1250 - val_loss: 1.7694\n",
      "Epoch 143/400\n",
      "4/4 [==============================] - 0s 14ms/step - loss: 2047720.8750 - val_loss: 1.7613\n",
      "Epoch 144/400\n",
      "4/4 [==============================] - 0s 11ms/step - loss: 2039518.6250 - val_loss: 1.7534\n",
      "Epoch 145/400\n",
      "4/4 [==============================] - 0s 12ms/step - loss: 2032013.3750 - val_loss: 1.7453\n",
      "Epoch 146/400\n",
      "4/4 [==============================] - 0s 10ms/step - loss: 2023969.6250 - val_loss: 1.7374\n",
      "Epoch 147/400\n",
      "4/4 [==============================] - 0s 11ms/step - loss: 2016082.8750 - val_loss: 1.7297\n",
      "Epoch 148/400\n",
      "4/4 [==============================] - 0s 10ms/step - loss: 2008588.5000 - val_loss: 1.7217\n",
      "Epoch 149/400\n",
      "4/4 [==============================] - 0s 13ms/step - loss: 2000704.5000 - val_loss: 1.7138\n",
      "Epoch 150/400\n",
      "4/4 [==============================] - 0s 11ms/step - loss: 1993061.0000 - val_loss: 1.7058\n",
      "Epoch 151/400\n",
      "4/4 [==============================] - 0s 11ms/step - loss: 1985276.3750 - val_loss: 1.6980\n",
      "Epoch 152/400\n",
      "4/4 [==============================] - 0s 14ms/step - loss: 1977437.3750 - val_loss: 1.6901\n",
      "Epoch 153/400\n",
      "4/4 [==============================] - 0s 16ms/step - loss: 1969330.8750 - val_loss: 1.6824\n",
      "Epoch 154/400\n",
      "4/4 [==============================] - 0s 12ms/step - loss: 1961960.5000 - val_loss: 1.6744\n",
      "Epoch 155/400\n",
      "4/4 [==============================] - 0s 12ms/step - loss: 1954075.6250 - val_loss: 1.6665\n",
      "Epoch 156/400\n",
      "4/4 [==============================] - 0s 18ms/step - loss: 1946249.1250 - val_loss: 1.6587\n",
      "Epoch 157/400\n",
      "4/4 [==============================] - 0s 13ms/step - loss: 1938617.7500 - val_loss: 1.6509\n",
      "Epoch 158/400\n",
      "4/4 [==============================] - 0s 11ms/step - loss: 1930961.6250 - val_loss: 1.6432\n",
      "Epoch 159/400\n",
      "4/4 [==============================] - 0s 11ms/step - loss: 1923485.8750 - val_loss: 1.6356\n",
      "Epoch 160/400\n",
      "4/4 [==============================] - 0s 12ms/step - loss: 1915869.7500 - val_loss: 1.6280\n",
      "Epoch 161/400\n",
      "4/4 [==============================] - 0s 12ms/step - loss: 1908403.5000 - val_loss: 1.6204\n",
      "Epoch 162/400\n",
      "4/4 [==============================] - 0s 20ms/step - loss: 1900834.2500 - val_loss: 1.6129\n",
      "Epoch 163/400\n",
      "4/4 [==============================] - 0s 13ms/step - loss: 1893310.7500 - val_loss: 1.6053\n",
      "Epoch 164/400\n",
      "4/4 [==============================] - 0s 11ms/step - loss: 1885685.6250 - val_loss: 1.5976\n",
      "Epoch 165/400\n",
      "4/4 [==============================] - 0s 13ms/step - loss: 1878291.5000 - val_loss: 1.5898\n",
      "Epoch 166/400\n",
      "4/4 [==============================] - 0s 13ms/step - loss: 1870422.5000 - val_loss: 1.5823\n",
      "Epoch 167/400\n",
      "4/4 [==============================] - 0s 13ms/step - loss: 1863021.7500 - val_loss: 1.5747\n",
      "Epoch 168/400\n",
      "4/4 [==============================] - 0s 14ms/step - loss: 1855494.3750 - val_loss: 1.5672\n",
      "Epoch 169/400\n",
      "4/4 [==============================] - 0s 15ms/step - loss: 1848028.7500 - val_loss: 1.5597\n",
      "Epoch 170/400\n",
      "4/4 [==============================] - 0s 10ms/step - loss: 1840531.5000 - val_loss: 1.5523\n",
      "Epoch 171/400\n",
      "4/4 [==============================] - 0s 13ms/step - loss: 1833206.0000 - val_loss: 1.5449\n",
      "Epoch 172/400\n",
      "4/4 [==============================] - 0s 11ms/step - loss: 1825866.5000 - val_loss: 1.5375\n",
      "Epoch 173/400\n",
      "4/4 [==============================] - 0s 13ms/step - loss: 1818738.7500 - val_loss: 1.5304\n",
      "Epoch 174/400\n",
      "4/4 [==============================] - 0s 11ms/step - loss: 1811335.8750 - val_loss: 1.5233\n",
      "Epoch 175/400\n",
      "4/4 [==============================] - 0s 11ms/step - loss: 1804428.2500 - val_loss: 1.5161\n",
      "Epoch 176/400\n",
      "4/4 [==============================] - 0s 13ms/step - loss: 1797096.5000 - val_loss: 1.5087\n",
      "Epoch 177/400\n",
      "4/4 [==============================] - 0s 11ms/step - loss: 1789936.7500 - val_loss: 1.5014\n",
      "Epoch 178/400\n",
      "4/4 [==============================] - 0s 16ms/step - loss: 1782478.0000 - val_loss: 1.4943\n",
      "Epoch 179/400\n",
      "4/4 [==============================] - 0s 11ms/step - loss: 1775153.5000 - val_loss: 1.4873\n",
      "Epoch 180/400\n",
      "4/4 [==============================] - 0s 11ms/step - loss: 1768513.1250 - val_loss: 1.4802\n",
      "Epoch 181/400\n",
      "4/4 [==============================] - 0s 12ms/step - loss: 1761232.7500 - val_loss: 1.4733\n",
      "Epoch 182/400\n",
      "4/4 [==============================] - 0s 11ms/step - loss: 1754270.1250 - val_loss: 1.4663\n",
      "Epoch 183/400\n",
      "4/4 [==============================] - 0s 11ms/step - loss: 1747275.8750 - val_loss: 1.4594\n",
      "Epoch 184/400\n",
      "4/4 [==============================] - 0s 11ms/step - loss: 1740318.0000 - val_loss: 1.4524\n",
      "Epoch 185/400\n",
      "4/4 [==============================] - 0s 10ms/step - loss: 1733303.3750 - val_loss: 1.4453\n",
      "Epoch 186/400\n",
      "4/4 [==============================] - 0s 12ms/step - loss: 1726217.1250 - val_loss: 1.4382\n",
      "Epoch 187/400\n",
      "4/4 [==============================] - 0s 14ms/step - loss: 1718979.6250 - val_loss: 1.4312\n",
      "Epoch 188/400\n",
      "4/4 [==============================] - 0s 13ms/step - loss: 1711882.5000 - val_loss: 1.4241\n",
      "Epoch 189/400\n",
      "4/4 [==============================] - 0s 12ms/step - loss: 1704675.5000 - val_loss: 1.4170\n",
      "Epoch 190/400\n",
      "4/4 [==============================] - 0s 11ms/step - loss: 1697581.0000 - val_loss: 1.4100\n",
      "Epoch 191/400\n",
      "4/4 [==============================] - 0s 12ms/step - loss: 1690532.7500 - val_loss: 1.4030\n",
      "Epoch 192/400\n",
      "4/4 [==============================] - 0s 12ms/step - loss: 1683417.6250 - val_loss: 1.3962\n",
      "Epoch 193/400\n",
      "4/4 [==============================] - 0s 10ms/step - loss: 1676560.8750 - val_loss: 1.3893\n",
      "Epoch 194/400\n",
      "4/4 [==============================] - 0s 10ms/step - loss: 1669605.5000 - val_loss: 1.3826\n",
      "Epoch 195/400\n",
      "4/4 [==============================] - 0s 11ms/step - loss: 1662770.0000 - val_loss: 1.3757\n",
      "Epoch 196/400\n",
      "4/4 [==============================] - 0s 10ms/step - loss: 1655828.3750 - val_loss: 1.3688\n",
      "Epoch 197/400\n",
      "4/4 [==============================] - 0s 12ms/step - loss: 1648720.1250 - val_loss: 1.3620\n",
      "Epoch 198/400\n",
      "4/4 [==============================] - 0s 13ms/step - loss: 1641939.3750 - val_loss: 1.3551\n",
      "Epoch 199/400\n",
      "4/4 [==============================] - 0s 11ms/step - loss: 1635102.8750 - val_loss: 1.3483\n",
      "Epoch 200/400\n",
      "4/4 [==============================] - 0s 11ms/step - loss: 1628236.3750 - val_loss: 1.3417\n",
      "Epoch 201/400\n",
      "4/4 [==============================] - 0s 10ms/step - loss: 1621588.1250 - val_loss: 1.3349\n",
      "Epoch 202/400\n",
      "4/4 [==============================] - 0s 11ms/step - loss: 1615007.3750 - val_loss: 1.3282\n",
      "Epoch 203/400\n",
      "4/4 [==============================] - 0s 10ms/step - loss: 1608295.1250 - val_loss: 1.3215\n",
      "Epoch 204/400\n",
      "4/4 [==============================] - 0s 12ms/step - loss: 1601661.0000 - val_loss: 1.3149\n",
      "Epoch 205/400\n",
      "4/4 [==============================] - 0s 12ms/step - loss: 1595015.0000 - val_loss: 1.3082\n",
      "Epoch 206/400\n",
      "4/4 [==============================] - 0s 13ms/step - loss: 1588423.6250 - val_loss: 1.3015\n",
      "Epoch 207/400\n",
      "4/4 [==============================] - 0s 18ms/step - loss: 1581617.2500 - val_loss: 1.2949\n",
      "Epoch 208/400\n",
      "4/4 [==============================] - 0s 11ms/step - loss: 1575319.5000 - val_loss: 1.2882\n",
      "Epoch 209/400\n",
      "4/4 [==============================] - 0s 11ms/step - loss: 1568858.6250 - val_loss: 1.2815\n",
      "Epoch 210/400\n",
      "4/4 [==============================] - 0s 11ms/step - loss: 1562275.2500 - val_loss: 1.2748\n",
      "Epoch 211/400\n",
      "4/4 [==============================] - 0s 10ms/step - loss: 1555588.2500 - val_loss: 1.2681\n",
      "Epoch 212/400\n",
      "4/4 [==============================] - 0s 14ms/step - loss: 1548980.6250 - val_loss: 1.2615\n",
      "Epoch 213/400\n",
      "4/4 [==============================] - 0s 13ms/step - loss: 1542555.7500 - val_loss: 1.2547\n",
      "Epoch 214/400\n",
      "4/4 [==============================] - 0s 11ms/step - loss: 1535966.5000 - val_loss: 1.2480\n",
      "Epoch 215/400\n",
      "4/4 [==============================] - 0s 12ms/step - loss: 1529168.0000 - val_loss: 1.2414\n",
      "Epoch 216/400\n",
      "4/4 [==============================] - 0s 11ms/step - loss: 1522538.3750 - val_loss: 1.2348\n",
      "Epoch 217/400\n",
      "4/4 [==============================] - 0s 11ms/step - loss: 1515997.8750 - val_loss: 1.2284\n",
      "Epoch 218/400\n",
      "4/4 [==============================] - 0s 10ms/step - loss: 1509647.3750 - val_loss: 1.2220\n",
      "Epoch 219/400\n",
      "4/4 [==============================] - 0s 10ms/step - loss: 1502953.1250 - val_loss: 1.2157\n",
      "Epoch 220/400\n",
      "4/4 [==============================] - 0s 10ms/step - loss: 1496709.7500 - val_loss: 1.2092\n",
      "Epoch 221/400\n",
      "4/4 [==============================] - 0s 11ms/step - loss: 1490340.0000 - val_loss: 1.2026\n",
      "Epoch 222/400\n",
      "4/4 [==============================] - 0s 10ms/step - loss: 1483570.1250 - val_loss: 1.1963\n",
      "Epoch 223/400\n",
      "4/4 [==============================] - 0s 11ms/step - loss: 1477243.2500 - val_loss: 1.1899\n",
      "Epoch 224/400\n",
      "4/4 [==============================] - 0s 11ms/step - loss: 1470695.3750 - val_loss: 1.1837\n",
      "Epoch 225/400\n",
      "4/4 [==============================] - 0s 13ms/step - loss: 1464302.8750 - val_loss: 1.1775\n",
      "Epoch 226/400\n",
      "4/4 [==============================] - 0s 12ms/step - loss: 1457982.7500 - val_loss: 1.1713\n",
      "Epoch 227/400\n",
      "4/4 [==============================] - 0s 13ms/step - loss: 1451832.3750 - val_loss: 1.1651\n",
      "Epoch 228/400\n",
      "4/4 [==============================] - 0s 14ms/step - loss: 1445385.8750 - val_loss: 1.1590\n",
      "Epoch 229/400\n",
      "4/4 [==============================] - 0s 13ms/step - loss: 1439251.7500 - val_loss: 1.1529\n",
      "Epoch 230/400\n",
      "4/4 [==============================] - 0s 10ms/step - loss: 1432987.0000 - val_loss: 1.1467\n",
      "Epoch 231/400\n",
      "4/4 [==============================] - 0s 10ms/step - loss: 1426608.0000 - val_loss: 1.1406\n",
      "Epoch 232/400\n",
      "4/4 [==============================] - 0s 14ms/step - loss: 1420413.2500 - val_loss: 1.1344\n",
      "Epoch 233/400\n",
      "4/4 [==============================] - 0s 11ms/step - loss: 1414013.8750 - val_loss: 1.1283\n",
      "Epoch 234/400\n",
      "4/4 [==============================] - 0s 15ms/step - loss: 1407852.0000 - val_loss: 1.1223\n",
      "Epoch 235/400\n",
      "4/4 [==============================] - 0s 16ms/step - loss: 1401498.6250 - val_loss: 1.1163\n",
      "Epoch 236/400\n",
      "4/4 [==============================] - 0s 11ms/step - loss: 1395494.7500 - val_loss: 1.1103\n",
      "Epoch 237/400\n",
      "4/4 [==============================] - 0s 15ms/step - loss: 1389270.5000 - val_loss: 1.1043\n",
      "Epoch 238/400\n",
      "4/4 [==============================] - 0s 11ms/step - loss: 1383375.7500 - val_loss: 1.0983\n",
      "Epoch 239/400\n",
      "4/4 [==============================] - 0s 13ms/step - loss: 1377169.8750 - val_loss: 1.0925\n",
      "Epoch 240/400\n",
      "4/4 [==============================] - 0s 12ms/step - loss: 1371201.3750 - val_loss: 1.0868\n",
      "Epoch 241/400\n",
      "4/4 [==============================] - 0s 11ms/step - loss: 1365218.7500 - val_loss: 1.0811\n",
      "Epoch 242/400\n",
      "4/4 [==============================] - 0s 11ms/step - loss: 1359365.6250 - val_loss: 1.0753\n",
      "Epoch 243/400\n",
      "4/4 [==============================] - 0s 11ms/step - loss: 1353269.6250 - val_loss: 1.0695\n",
      "Epoch 244/400\n",
      "4/4 [==============================] - 0s 15ms/step - loss: 1347413.7500 - val_loss: 1.0637\n",
      "Epoch 245/400\n",
      "4/4 [==============================] - 0s 12ms/step - loss: 1341419.3750 - val_loss: 1.0580\n",
      "Epoch 246/400\n",
      "4/4 [==============================] - 0s 11ms/step - loss: 1335600.5000 - val_loss: 1.0524\n",
      "Epoch 247/400\n",
      "4/4 [==============================] - 0s 11ms/step - loss: 1329602.5000 - val_loss: 1.0468\n",
      "Epoch 248/400\n",
      "4/4 [==============================] - 0s 12ms/step - loss: 1323807.5000 - val_loss: 1.0412\n",
      "Epoch 249/400\n",
      "4/4 [==============================] - 0s 11ms/step - loss: 1318121.0000 - val_loss: 1.0355\n",
      "Epoch 250/400\n",
      "4/4 [==============================] - 0s 11ms/step - loss: 1312213.7500 - val_loss: 1.0299\n",
      "Epoch 251/400\n",
      "4/4 [==============================] - 0s 12ms/step - loss: 1306358.8750 - val_loss: 1.0243\n",
      "Epoch 252/400\n",
      "4/4 [==============================] - 0s 10ms/step - loss: 1300546.2500 - val_loss: 1.0187\n",
      "Epoch 253/400\n",
      "4/4 [==============================] - 0s 11ms/step - loss: 1294848.8750 - val_loss: 1.0132\n",
      "Epoch 254/400\n",
      "4/4 [==============================] - 0s 11ms/step - loss: 1289157.3750 - val_loss: 1.0080\n",
      "Epoch 255/400\n",
      "4/4 [==============================] - 0s 12ms/step - loss: 1283705.1250 - val_loss: 1.0027\n",
      "Epoch 256/400\n",
      "4/4 [==============================] - 0s 11ms/step - loss: 1278175.5000 - val_loss: 0.9974\n",
      "Epoch 257/400\n",
      "4/4 [==============================] - 0s 10ms/step - loss: 1272649.1250 - val_loss: 0.9922\n",
      "Epoch 258/400\n",
      "4/4 [==============================] - 0s 11ms/step - loss: 1267074.5000 - val_loss: 0.9870\n",
      "Epoch 259/400\n",
      "4/4 [==============================] - 0s 20ms/step - loss: 1261753.8750 - val_loss: 0.9818\n",
      "Epoch 260/400\n",
      "4/4 [==============================] - 0s 15ms/step - loss: 1256172.7500 - val_loss: 0.9766\n",
      "Epoch 261/400\n",
      "4/4 [==============================] - 0s 12ms/step - loss: 1250569.1250 - val_loss: 0.9713\n",
      "Epoch 262/400\n",
      "4/4 [==============================] - 0s 12ms/step - loss: 1245176.2500 - val_loss: 0.9660\n",
      "Epoch 263/400\n",
      "4/4 [==============================] - 0s 11ms/step - loss: 1239590.7500 - val_loss: 0.9607\n",
      "Epoch 264/400\n",
      "4/4 [==============================] - 0s 13ms/step - loss: 1234016.2500 - val_loss: 0.9554\n",
      "Epoch 265/400\n",
      "4/4 [==============================] - 0s 15ms/step - loss: 1228361.0000 - val_loss: 0.9502\n",
      "Epoch 266/400\n",
      "4/4 [==============================] - 0s 11ms/step - loss: 1223161.1250 - val_loss: 0.9450\n",
      "Epoch 267/400\n",
      "4/4 [==============================] - 0s 17ms/step - loss: 1217631.1250 - val_loss: 0.9399\n",
      "Epoch 268/400\n",
      "4/4 [==============================] - 0s 14ms/step - loss: 1212289.5000 - val_loss: 0.9350\n",
      "Epoch 269/400\n",
      "4/4 [==============================] - 0s 12ms/step - loss: 1207009.2500 - val_loss: 0.9299\n",
      "Epoch 270/400\n",
      "4/4 [==============================] - 0s 13ms/step - loss: 1201635.3750 - val_loss: 0.9250\n",
      "Epoch 271/400\n",
      "4/4 [==============================] - 0s 10ms/step - loss: 1196562.8750 - val_loss: 0.9201\n",
      "Epoch 272/400\n",
      "4/4 [==============================] - 0s 13ms/step - loss: 1191350.0000 - val_loss: 0.9152\n",
      "Epoch 273/400\n",
      "4/4 [==============================] - 0s 12ms/step - loss: 1186357.3750 - val_loss: 0.9104\n",
      "Epoch 274/400\n",
      "4/4 [==============================] - 0s 11ms/step - loss: 1180952.1250 - val_loss: 0.9057\n",
      "Epoch 275/400\n",
      "4/4 [==============================] - 0s 11ms/step - loss: 1175859.3750 - val_loss: 0.9009\n",
      "Epoch 276/400\n",
      "4/4 [==============================] - 0s 12ms/step - loss: 1170944.1250 - val_loss: 0.8959\n",
      "Epoch 277/400\n",
      "4/4 [==============================] - 0s 11ms/step - loss: 1165529.8750 - val_loss: 0.8911\n",
      "Epoch 278/400\n",
      "4/4 [==============================] - 0s 10ms/step - loss: 1160472.2500 - val_loss: 0.8863\n",
      "Epoch 279/400\n",
      "4/4 [==============================] - 0s 11ms/step - loss: 1155251.3750 - val_loss: 0.8815\n",
      "Epoch 280/400\n",
      "4/4 [==============================] - 0s 10ms/step - loss: 1150267.6250 - val_loss: 0.8767\n",
      "Epoch 281/400\n",
      "4/4 [==============================] - 0s 12ms/step - loss: 1145079.3750 - val_loss: 0.8720\n",
      "Epoch 282/400\n",
      "4/4 [==============================] - 0s 16ms/step - loss: 1139986.8750 - val_loss: 0.8673\n",
      "Epoch 283/400\n",
      "4/4 [==============================] - 0s 11ms/step - loss: 1135039.5000 - val_loss: 0.8626\n",
      "Epoch 284/400\n",
      "4/4 [==============================] - 0s 11ms/step - loss: 1130167.7500 - val_loss: 0.8580\n",
      "Epoch 285/400\n",
      "4/4 [==============================] - 0s 12ms/step - loss: 1125110.7500 - val_loss: 0.8534\n",
      "Epoch 286/400\n",
      "4/4 [==============================] - 0s 13ms/step - loss: 1120266.2500 - val_loss: 0.8488\n",
      "Epoch 287/400\n",
      "4/4 [==============================] - 0s 13ms/step - loss: 1115305.6250 - val_loss: 0.8444\n",
      "Epoch 288/400\n",
      "4/4 [==============================] - 0s 12ms/step - loss: 1110536.3750 - val_loss: 0.8401\n",
      "Epoch 289/400\n",
      "4/4 [==============================] - 0s 19ms/step - loss: 1105664.0000 - val_loss: 0.8357\n",
      "Epoch 290/400\n",
      "4/4 [==============================] - 0s 11ms/step - loss: 1100974.8750 - val_loss: 0.8313\n",
      "Epoch 291/400\n",
      "4/4 [==============================] - 0s 12ms/step - loss: 1096377.2500 - val_loss: 0.8268\n",
      "Epoch 292/400\n",
      "4/4 [==============================] - 0s 13ms/step - loss: 1091431.2500 - val_loss: 0.8225\n",
      "Epoch 293/400\n",
      "4/4 [==============================] - 0s 11ms/step - loss: 1086706.3750 - val_loss: 0.8181\n",
      "Epoch 294/400\n",
      "4/4 [==============================] - 0s 10ms/step - loss: 1082015.8750 - val_loss: 0.8138\n",
      "Epoch 295/400\n",
      "4/4 [==============================] - 0s 10ms/step - loss: 1077353.5000 - val_loss: 0.8096\n",
      "Epoch 296/400\n",
      "4/4 [==============================] - 0s 10ms/step - loss: 1072736.8750 - val_loss: 0.8053\n",
      "Epoch 297/400\n",
      "4/4 [==============================] - 0s 11ms/step - loss: 1067934.6250 - val_loss: 0.8011\n",
      "Epoch 298/400\n",
      "4/4 [==============================] - 0s 13ms/step - loss: 1063481.5000 - val_loss: 0.7968\n",
      "Epoch 299/400\n",
      "4/4 [==============================] - 0s 11ms/step - loss: 1058813.3750 - val_loss: 0.7926\n",
      "Epoch 300/400\n",
      "4/4 [==============================] - 0s 10ms/step - loss: 1054201.7500 - val_loss: 0.7885\n",
      "Epoch 301/400\n",
      "4/4 [==============================] - 0s 14ms/step - loss: 1049787.3750 - val_loss: 0.7844\n",
      "Epoch 302/400\n",
      "4/4 [==============================] - 0s 12ms/step - loss: 1045291.9375 - val_loss: 0.7803\n",
      "Epoch 303/400\n",
      "4/4 [==============================] - 0s 13ms/step - loss: 1040749.8750 - val_loss: 0.7764\n",
      "Epoch 304/400\n",
      "4/4 [==============================] - 0s 14ms/step - loss: 1036331.6875 - val_loss: 0.7723\n",
      "Epoch 305/400\n",
      "4/4 [==============================] - 0s 16ms/step - loss: 1031853.2500 - val_loss: 0.7682\n",
      "Epoch 306/400\n",
      "4/4 [==============================] - 0s 11ms/step - loss: 1027331.4375 - val_loss: 0.7642\n",
      "Epoch 307/400\n",
      "4/4 [==============================] - 0s 16ms/step - loss: 1022963.0000 - val_loss: 0.7601\n",
      "Epoch 308/400\n",
      "4/4 [==============================] - 0s 10ms/step - loss: 1018720.9375 - val_loss: 0.7561\n",
      "Epoch 309/400\n",
      "4/4 [==============================] - 0s 11ms/step - loss: 1014252.1250 - val_loss: 0.7524\n",
      "Epoch 310/400\n",
      "4/4 [==============================] - 0s 14ms/step - loss: 1010331.1250 - val_loss: 0.7487\n",
      "Epoch 311/400\n",
      "4/4 [==============================] - 0s 14ms/step - loss: 1006091.0625 - val_loss: 0.7451\n",
      "Epoch 312/400\n",
      "4/4 [==============================] - 0s 15ms/step - loss: 1001966.1875 - val_loss: 0.7415\n",
      "Epoch 313/400\n",
      "4/4 [==============================] - 0s 12ms/step - loss: 998030.8750 - val_loss: 0.7378\n",
      "Epoch 314/400\n",
      "4/4 [==============================] - 0s 15ms/step - loss: 993994.0000 - val_loss: 0.7340\n",
      "Epoch 315/400\n",
      "4/4 [==============================] - 0s 14ms/step - loss: 989760.8125 - val_loss: 0.7301\n",
      "Epoch 316/400\n",
      "4/4 [==============================] - 0s 10ms/step - loss: 985653.8125 - val_loss: 0.7264\n",
      "Epoch 317/400\n",
      "4/4 [==============================] - 0s 10ms/step - loss: 981527.9375 - val_loss: 0.7227\n",
      "Epoch 318/400\n",
      "4/4 [==============================] - 0s 10ms/step - loss: 977462.2500 - val_loss: 0.7189\n",
      "Epoch 319/400\n",
      "4/4 [==============================] - 0s 18ms/step - loss: 973473.1250 - val_loss: 0.7151\n",
      "Epoch 320/400\n",
      "4/4 [==============================] - 0s 11ms/step - loss: 969103.4375 - val_loss: 0.7115\n",
      "Epoch 321/400\n",
      "4/4 [==============================] - 0s 18ms/step - loss: 965291.8750 - val_loss: 0.7079\n",
      "Epoch 322/400\n",
      "4/4 [==============================] - 0s 13ms/step - loss: 961053.5625 - val_loss: 0.7043\n",
      "Epoch 323/400\n",
      "4/4 [==============================] - 0s 13ms/step - loss: 957284.5625 - val_loss: 0.7007\n",
      "Epoch 324/400\n",
      "4/4 [==============================] - 0s 10ms/step - loss: 953008.0000 - val_loss: 0.6971\n",
      "Epoch 325/400\n",
      "4/4 [==============================] - 0s 11ms/step - loss: 949020.1875 - val_loss: 0.6934\n",
      "Epoch 326/400\n",
      "4/4 [==============================] - 0s 13ms/step - loss: 945237.5625 - val_loss: 0.6898\n",
      "Epoch 327/400\n",
      "4/4 [==============================] - 0s 13ms/step - loss: 941136.9375 - val_loss: 0.6864\n",
      "Epoch 328/400\n",
      "4/4 [==============================] - 0s 11ms/step - loss: 937263.1875 - val_loss: 0.6829\n",
      "Epoch 329/400\n",
      "4/4 [==============================] - 0s 10ms/step - loss: 933261.6875 - val_loss: 0.6795\n",
      "Epoch 330/400\n",
      "4/4 [==============================] - 0s 14ms/step - loss: 929527.7500 - val_loss: 0.6761\n",
      "Epoch 331/400\n",
      "4/4 [==============================] - 0s 15ms/step - loss: 925641.7500 - val_loss: 0.6726\n",
      "Epoch 332/400\n",
      "4/4 [==============================] - 0s 12ms/step - loss: 921699.1875 - val_loss: 0.6692\n",
      "Epoch 333/400\n",
      "4/4 [==============================] - 0s 13ms/step - loss: 917979.5000 - val_loss: 0.6659\n",
      "Epoch 334/400\n",
      "4/4 [==============================] - 0s 12ms/step - loss: 914118.8750 - val_loss: 0.6625\n",
      "Epoch 335/400\n",
      "4/4 [==============================] - 0s 12ms/step - loss: 910418.5000 - val_loss: 0.6592\n",
      "Epoch 336/400\n",
      "4/4 [==============================] - 0s 13ms/step - loss: 906693.0000 - val_loss: 0.6557\n",
      "Epoch 337/400\n",
      "4/4 [==============================] - 0s 15ms/step - loss: 902829.3125 - val_loss: 0.6524\n",
      "Epoch 338/400\n",
      "4/4 [==============================] - 0s 12ms/step - loss: 898916.6250 - val_loss: 0.6491\n",
      "Epoch 339/400\n",
      "4/4 [==============================] - 0s 11ms/step - loss: 895197.3125 - val_loss: 0.6458\n",
      "Epoch 340/400\n",
      "4/4 [==============================] - 0s 10ms/step - loss: 891463.2500 - val_loss: 0.6425\n",
      "Epoch 341/400\n",
      "4/4 [==============================] - 0s 12ms/step - loss: 887747.4375 - val_loss: 0.6392\n",
      "Epoch 342/400\n",
      "4/4 [==============================] - 0s 11ms/step - loss: 884095.2500 - val_loss: 0.6361\n",
      "Epoch 343/400\n",
      "4/4 [==============================] - 0s 13ms/step - loss: 880411.4375 - val_loss: 0.6329\n",
      "Epoch 344/400\n",
      "4/4 [==============================] - 0s 10ms/step - loss: 876948.4375 - val_loss: 0.6297\n",
      "Epoch 345/400\n",
      "4/4 [==============================] - 0s 13ms/step - loss: 873157.0000 - val_loss: 0.6265\n",
      "Epoch 346/400\n",
      "4/4 [==============================] - 0s 12ms/step - loss: 869561.6250 - val_loss: 0.6233\n",
      "Epoch 347/400\n",
      "4/4 [==============================] - 0s 11ms/step - loss: 865984.7500 - val_loss: 0.6201\n",
      "Epoch 348/400\n",
      "4/4 [==============================] - 0s 13ms/step - loss: 862438.8750 - val_loss: 0.6169\n",
      "Epoch 349/400\n",
      "4/4 [==============================] - 0s 10ms/step - loss: 858737.3125 - val_loss: 0.6138\n",
      "Epoch 350/400\n",
      "4/4 [==============================] - 0s 11ms/step - loss: 855410.4375 - val_loss: 0.6108\n",
      "Epoch 351/400\n",
      "4/4 [==============================] - 0s 14ms/step - loss: 851844.8125 - val_loss: 0.6078\n",
      "Epoch 352/400\n",
      "4/4 [==============================] - 0s 12ms/step - loss: 848415.6250 - val_loss: 0.6047\n",
      "Epoch 353/400\n",
      "4/4 [==============================] - 0s 11ms/step - loss: 845046.5000 - val_loss: 0.6015\n",
      "Epoch 354/400\n",
      "4/4 [==============================] - 0s 10ms/step - loss: 841178.3125 - val_loss: 0.5984\n",
      "Epoch 355/400\n",
      "4/4 [==============================] - 0s 11ms/step - loss: 837784.7500 - val_loss: 0.5952\n",
      "Epoch 356/400\n",
      "4/4 [==============================] - 0s 14ms/step - loss: 833954.8750 - val_loss: 0.5921\n",
      "Epoch 357/400\n",
      "4/4 [==============================] - 0s 14ms/step - loss: 830374.6250 - val_loss: 0.5891\n",
      "Epoch 358/400\n",
      "4/4 [==============================] - 0s 16ms/step - loss: 826845.1875 - val_loss: 0.5860\n",
      "Epoch 359/400\n",
      "4/4 [==============================] - 0s 12ms/step - loss: 823256.1250 - val_loss: 0.5831\n",
      "Epoch 360/400\n",
      "4/4 [==============================] - 0s 15ms/step - loss: 819654.5625 - val_loss: 0.5802\n",
      "Epoch 361/400\n",
      "4/4 [==============================] - 0s 17ms/step - loss: 816109.1250 - val_loss: 0.5772\n",
      "Epoch 362/400\n",
      "4/4 [==============================] - 0s 10ms/step - loss: 812507.8750 - val_loss: 0.5742\n",
      "Epoch 363/400\n",
      "4/4 [==============================] - 0s 11ms/step - loss: 808813.1250 - val_loss: 0.5711\n",
      "Epoch 364/400\n",
      "4/4 [==============================] - 0s 13ms/step - loss: 805092.8125 - val_loss: 0.5681\n",
      "Epoch 365/400\n",
      "4/4 [==============================] - 0s 10ms/step - loss: 801541.5625 - val_loss: 0.5650\n",
      "Epoch 366/400\n",
      "4/4 [==============================] - 0s 14ms/step - loss: 797919.7500 - val_loss: 0.5621\n",
      "Epoch 367/400\n",
      "4/4 [==============================] - 0s 12ms/step - loss: 794409.7500 - val_loss: 0.5592\n",
      "Epoch 368/400\n",
      "4/4 [==============================] - 0s 11ms/step - loss: 790948.9375 - val_loss: 0.5564\n",
      "Epoch 369/400\n",
      "4/4 [==============================] - 0s 11ms/step - loss: 787397.2500 - val_loss: 0.5536\n",
      "Epoch 370/400\n",
      "4/4 [==============================] - 0s 10ms/step - loss: 783939.9375 - val_loss: 0.5507\n",
      "Epoch 371/400\n",
      "4/4 [==============================] - 0s 11ms/step - loss: 780463.9375 - val_loss: 0.5478\n",
      "Epoch 372/400\n",
      "4/4 [==============================] - 0s 12ms/step - loss: 776896.0625 - val_loss: 0.5449\n",
      "Epoch 373/400\n",
      "4/4 [==============================] - 0s 13ms/step - loss: 773351.3125 - val_loss: 0.5420\n",
      "Epoch 374/400\n",
      "4/4 [==============================] - 0s 11ms/step - loss: 769726.0000 - val_loss: 0.5391\n",
      "Epoch 375/400\n",
      "4/4 [==============================] - 0s 11ms/step - loss: 766305.3125 - val_loss: 0.5363\n",
      "Epoch 376/400\n",
      "4/4 [==============================] - 0s 17ms/step - loss: 762741.6250 - val_loss: 0.5336\n",
      "Epoch 377/400\n",
      "4/4 [==============================] - 0s 11ms/step - loss: 759388.5000 - val_loss: 0.5307\n",
      "Epoch 378/400\n",
      "4/4 [==============================] - 0s 14ms/step - loss: 755984.0625 - val_loss: 0.5279\n",
      "Epoch 379/400\n",
      "4/4 [==============================] - 0s 12ms/step - loss: 752521.0000 - val_loss: 0.5251\n",
      "Epoch 380/400\n",
      "4/4 [==============================] - 0s 12ms/step - loss: 749155.0625 - val_loss: 0.5223\n",
      "Epoch 381/400\n",
      "4/4 [==============================] - 0s 11ms/step - loss: 745896.4375 - val_loss: 0.5195\n",
      "Epoch 382/400\n",
      "4/4 [==============================] - 0s 10ms/step - loss: 742481.2500 - val_loss: 0.5167\n",
      "Epoch 383/400\n",
      "4/4 [==============================] - 0s 11ms/step - loss: 739123.7500 - val_loss: 0.5140\n",
      "Epoch 384/400\n",
      "4/4 [==============================] - 0s 11ms/step - loss: 736038.3750 - val_loss: 0.5112\n",
      "Epoch 385/400\n",
      "4/4 [==============================] - 0s 11ms/step - loss: 732609.3125 - val_loss: 0.5086\n",
      "Epoch 386/400\n",
      "4/4 [==============================] - 0s 11ms/step - loss: 729330.1250 - val_loss: 0.5058\n",
      "Epoch 387/400\n",
      "4/4 [==============================] - 0s 16ms/step - loss: 726096.3125 - val_loss: 0.5030\n",
      "Epoch 388/400\n",
      "4/4 [==============================] - 0s 18ms/step - loss: 722639.4375 - val_loss: 0.5003\n",
      "Epoch 389/400\n",
      "4/4 [==============================] - 0s 10ms/step - loss: 719386.8750 - val_loss: 0.4975\n",
      "Epoch 390/400\n",
      "4/4 [==============================] - 0s 10ms/step - loss: 716009.4375 - val_loss: 0.4948\n",
      "Epoch 391/400\n",
      "4/4 [==============================] - 0s 12ms/step - loss: 712716.6250 - val_loss: 0.4921\n",
      "Epoch 392/400\n",
      "4/4 [==============================] - 0s 11ms/step - loss: 709552.8125 - val_loss: 0.4894\n",
      "Epoch 393/400\n",
      "4/4 [==============================] - 0s 15ms/step - loss: 706100.4375 - val_loss: 0.4868\n",
      "Epoch 394/400\n",
      "4/4 [==============================] - 0s 11ms/step - loss: 702903.5625 - val_loss: 0.4842\n",
      "Epoch 395/400\n",
      "4/4 [==============================] - 0s 11ms/step - loss: 699712.9375 - val_loss: 0.4816\n",
      "Epoch 396/400\n",
      "4/4 [==============================] - 0s 13ms/step - loss: 696386.4375 - val_loss: 0.4792\n",
      "Epoch 397/400\n",
      "4/4 [==============================] - 0s 13ms/step - loss: 693130.1875 - val_loss: 0.4767\n",
      "Epoch 398/400\n",
      "4/4 [==============================] - 0s 19ms/step - loss: 690064.0625 - val_loss: 0.4741\n",
      "Epoch 399/400\n",
      "4/4 [==============================] - 0s 13ms/step - loss: 686763.4375 - val_loss: 0.4714\n",
      "Epoch 400/400\n",
      "4/4 [==============================] - 0s 18ms/step - loss: 683298.1875 - val_loss: 0.4688\n"
     ]
    },
    {
     "data": {
      "text/plain": [
       "<keras.callbacks.History at 0x7f141d00fa50>"
      ]
     },
     "execution_count": 42,
     "metadata": {},
     "output_type": "execute_result"
    }
   ],
   "source": [
    "optimizer = Adam(lr=0.1)\n",
    "model.compile(loss='mean_squared_error', optimizer=optimizer,)\n",
    "\n",
    "model.fit(X_train_ann, y_train_ann, epochs=400, validation_data=(X_test_ann, y_test_ann), callbacks=[reduce_lr])"
   ]
  },
  {
   "cell_type": "code",
   "execution_count": 43,
   "id": "83b75d02",
   "metadata": {
    "execution": {
     "iopub.execute_input": "2023-02-05T03:34:45.000297Z",
     "iopub.status.busy": "2023-02-05T03:34:44.998891Z",
     "iopub.status.idle": "2023-02-05T03:34:45.369667Z",
     "shell.execute_reply": "2023-02-05T03:34:45.366847Z"
    },
    "papermill": {
     "duration": 0.44372,
     "end_time": "2023-02-05T03:34:45.372605",
     "exception": false,
     "start_time": "2023-02-05T03:34:44.928885",
     "status": "completed"
    },
    "tags": []
   },
   "outputs": [
    {
     "name": "stdout",
     "output_type": "stream",
     "text": [
      "2/2 [==============================] - 0s 5ms/step - loss: 0.4605\n"
     ]
    },
    {
     "data": {
      "text/plain": [
       "<keras.callbacks.History at 0x7f1414252a50>"
      ]
     },
     "execution_count": 43,
     "metadata": {},
     "output_type": "execute_result"
    }
   ],
   "source": [
    "model.compile(loss='mean_squared_error', optimizer='adam')\n",
    "\n",
    "model.fit(X_test_ann, y_test_ann)"
   ]
  },
  {
   "cell_type": "code",
   "execution_count": 44,
   "id": "ca7908b6",
   "metadata": {
    "execution": {
     "iopub.execute_input": "2023-02-05T03:34:45.507645Z",
     "iopub.status.busy": "2023-02-05T03:34:45.506757Z",
     "iopub.status.idle": "2023-02-05T03:34:45.652768Z",
     "shell.execute_reply": "2023-02-05T03:34:45.651812Z"
    },
    "papermill": {
     "duration": 0.21711,
     "end_time": "2023-02-05T03:34:45.655213",
     "exception": false,
     "start_time": "2023-02-05T03:34:45.438103",
     "status": "completed"
    },
    "tags": []
   },
   "outputs": [],
   "source": [
    "y_pred_ann = model.predict(X_test_ann)\n",
    "y_pred_ann = y_pred_ann.reshape(-1,)"
   ]
  },
  {
   "cell_type": "code",
   "execution_count": 45,
   "id": "67af86c6",
   "metadata": {
    "execution": {
     "iopub.execute_input": "2023-02-05T03:34:45.789183Z",
     "iopub.status.busy": "2023-02-05T03:34:45.788162Z",
     "iopub.status.idle": "2023-02-05T03:34:45.792596Z",
     "shell.execute_reply": "2023-02-05T03:34:45.791940Z"
    },
    "papermill": {
     "duration": 0.074514,
     "end_time": "2023-02-05T03:34:45.795075",
     "exception": false,
     "start_time": "2023-02-05T03:34:45.720561",
     "status": "completed"
    },
    "tags": []
   },
   "outputs": [],
   "source": [
    "#y_test_ann"
   ]
  },
  {
   "cell_type": "code",
   "execution_count": 46,
   "id": "7c671bc8",
   "metadata": {
    "execution": {
     "iopub.execute_input": "2023-02-05T03:34:45.933428Z",
     "iopub.status.busy": "2023-02-05T03:34:45.932289Z",
     "iopub.status.idle": "2023-02-05T03:34:45.939225Z",
     "shell.execute_reply": "2023-02-05T03:34:45.938162Z"
    },
    "papermill": {
     "duration": 0.078788,
     "end_time": "2023-02-05T03:34:45.941136",
     "exception": false,
     "start_time": "2023-02-05T03:34:45.862348",
     "status": "completed"
    },
    "tags": []
   },
   "outputs": [
    {
     "data": {
      "text/plain": [
       "array([ 1.2099769 ,  0.38678658,  0.23213643,  0.23537144, -0.05556348,\n",
       "        1.2141062 ,  1.2035055 ,  1.6127605 , -0.05556348,  0.22243017,\n",
       "        0.8048523 ,  0.4061991 ,  1.1979299 ,  0.77986413,  0.38355154,\n",
       "        0.6155422 , -0.05556348, -0.05556348, -0.05556348,  0.6284835 ,\n",
       "       -0.05556348,  0.22566628, -0.05556348,  0.6317186 ,  1.0215613 ,\n",
       "       -0.05556348, -0.05556348,  1.6030543 ,  1.0991303 ,  1.2172403 ,\n",
       "       -0.05556348,  0.3964928 ,  1.018326  ,  0.40943414,  1.0118548 ,\n",
       "       -0.05556348,  1.6062893 , -0.05556348,  0.7150509 ,  0.79604167,\n",
       "        1.2108711 ,  0.81455845, -0.05556348, -0.05556348,  0.39325774,\n",
       "        0.41256818], dtype=float32)"
      ]
     },
     "execution_count": 46,
     "metadata": {},
     "output_type": "execute_result"
    }
   ],
   "source": [
    "y_pred_ann"
   ]
  },
  {
   "cell_type": "code",
   "execution_count": 47,
   "id": "ba432dcf",
   "metadata": {
    "execution": {
     "iopub.execute_input": "2023-02-05T03:34:46.074090Z",
     "iopub.status.busy": "2023-02-05T03:34:46.073467Z",
     "iopub.status.idle": "2023-02-05T03:34:46.079935Z",
     "shell.execute_reply": "2023-02-05T03:34:46.078799Z"
    },
    "papermill": {
     "duration": 0.074287,
     "end_time": "2023-02-05T03:34:46.081721",
     "exception": false,
     "start_time": "2023-02-05T03:34:46.007434",
     "status": "completed"
    },
    "tags": []
   },
   "outputs": [
    {
     "name": "stdout",
     "output_type": "stream",
     "text": [
      "Mean Squared Error:  0.39818289769706433\n"
     ]
    }
   ],
   "source": [
    "y_true = pd.Series(y_test_ann)\n",
    "y_pred = pd.Series(y_pred_ann)\n",
    "\n",
    "mse_ann = mean_squared_error(y_true, y_pred)\n",
    "print(\"Mean Squared Error: \", mse_ann)"
   ]
  },
  {
   "cell_type": "code",
   "execution_count": 48,
   "id": "29a6e85a",
   "metadata": {
    "execution": {
     "iopub.execute_input": "2023-02-05T03:34:46.216778Z",
     "iopub.status.busy": "2023-02-05T03:34:46.216439Z",
     "iopub.status.idle": "2023-02-05T03:34:46.222227Z",
     "shell.execute_reply": "2023-02-05T03:34:46.221534Z"
    },
    "papermill": {
     "duration": 0.075471,
     "end_time": "2023-02-05T03:34:46.223900",
     "exception": false,
     "start_time": "2023-02-05T03:34:46.148429",
     "status": "completed"
    },
    "tags": []
   },
   "outputs": [
    {
     "data": {
      "text/plain": [
       "0.5192398984030536"
      ]
     },
     "execution_count": 48,
     "metadata": {},
     "output_type": "execute_result"
    }
   ],
   "source": [
    "mae_ann = metrics.mean_absolute_error(y_test_ann, y_pred_ann)\n",
    "mae_ann"
   ]
  },
  {
   "cell_type": "code",
   "execution_count": 49,
   "id": "e76e7467",
   "metadata": {
    "execution": {
     "iopub.execute_input": "2023-02-05T03:34:46.355841Z",
     "iopub.status.busy": "2023-02-05T03:34:46.353616Z",
     "iopub.status.idle": "2023-02-05T03:34:46.369207Z",
     "shell.execute_reply": "2023-02-05T03:34:46.368086Z"
    },
    "papermill": {
     "duration": 0.083007,
     "end_time": "2023-02-05T03:34:46.371022",
     "exception": false,
     "start_time": "2023-02-05T03:34:46.288015",
     "status": "completed"
    },
    "tags": []
   },
   "outputs": [
    {
     "data": {
      "text/plain": [
       "0.2721423529583475"
      ]
     },
     "execution_count": 49,
     "metadata": {},
     "output_type": "execute_result"
    }
   ],
   "source": [
    "mad_ann = np.mean(np.abs(y_test_ann - np.mean(y_pred_ann)))\n",
    "mad_ann"
   ]
  },
  {
   "cell_type": "code",
   "execution_count": 50,
   "id": "93b855be",
   "metadata": {
    "execution": {
     "iopub.execute_input": "2023-02-05T03:34:46.508918Z",
     "iopub.status.busy": "2023-02-05T03:34:46.508471Z",
     "iopub.status.idle": "2023-02-05T03:34:46.873021Z",
     "shell.execute_reply": "2023-02-05T03:34:46.870897Z"
    },
    "papermill": {
     "duration": 0.437205,
     "end_time": "2023-02-05T03:34:46.875767",
     "exception": false,
     "start_time": "2023-02-05T03:34:46.438562",
     "status": "completed"
    },
    "tags": []
   },
   "outputs": [
    {
     "data": {
      "image/png": "[encoded data removed]",
      "text/plain": [
       "<Figure size 1008x720 with 1 Axes>"
      ]
     },
     "metadata": {
      "needs_background": "light"
     },
     "output_type": "display_data"
    }
   ],
   "source": [
    "x = np.arange(len(y_test_ann))\n",
    "width = 0.35\n",
    "fig, ax = plt.subplots(figsize=(14,10))\n",
    "rects1 = ax.bar(x - width/2, y_test_ann, width, label='Actual')\n",
    "rects2 = ax.bar(x + width/2, y_pred_ann, width, label='Predicted')\n",
    "ax.set_xlabel('Data')\n",
    "ax.set_ylabel('Target Value')\n",
    "ax.legend()\n",
    "plt.show()"
   ]
  },
  {
   "cell_type": "code",
   "execution_count": 51,
   "id": "edc1ef2d",
   "metadata": {
    "execution": {
     "iopub.execute_input": "2023-02-05T03:34:47.014898Z",
     "iopub.status.busy": "2023-02-05T03:34:47.014043Z",
     "iopub.status.idle": "2023-02-05T03:34:47.187241Z",
     "shell.execute_reply": "2023-02-05T03:34:47.186318Z"
    },
    "papermill": {
     "duration": 0.245306,
     "end_time": "2023-02-05T03:34:47.189081",
     "exception": false,
     "start_time": "2023-02-05T03:34:46.943775",
     "status": "completed"
    },
    "tags": []
   },
   "outputs": [
    {
     "name": "stdout",
     "output_type": "stream",
     "text": [
      "R-squared score:  -15.830391547911972\n"
     ]
    },
    {
     "data": {
      "image/png": "[encoded data removed]",
      "text/plain": [
       "<Figure size 432x288 with 1 Axes>"
      ]
     },
     "metadata": {
      "needs_background": "light"
     },
     "output_type": "display_data"
    }
   ],
   "source": [
    "from scipy.stats import linregress\n",
    "slope, intercept, r_value, p_value, std_err = linregress(y_pred_ann, y_test_ann)\n",
    "\n",
    "x = np.linspace(min(y_pred_ann), max(y_pred_ann), 2)\n",
    "y_ann = slope * x + intercept\n",
    "plt.plot(x, y_ann, '-r', label='Trend Line')\n",
    "\n",
    "r2_ann = r2_score(y_test_ann, y_pred_ann)\n",
    "print(\"R-squared score: \", r2_ann)\n",
    "\n",
    "plt.scatter(y_pred_ann, y_test_ann)\n",
    "plt.xlabel('Predicted Values')\n",
    "plt.ylabel('Actual Values')\n",
    "plt.title('Scatter Plot of Predicted vs Actual Values')\n",
    "plt.text(0.05, 0.95, f\"y = {slope:.2f}x + {intercept:.2f}\\nR squared: {r2_ann:.2f}\", transform=plt.gca().transAxes, fontsize=14,\n",
    "         verticalalignment='top', bbox=dict(boxstyle='round', facecolor='wheat', alpha=0.5))\n",
    "\n",
    "plt.show()"
   ]
  },
  {
   "cell_type": "markdown",
   "id": "3ceebea9",
   "metadata": {
    "papermill": {
     "duration": 0.068287,
     "end_time": "2023-02-05T03:34:47.323021",
     "exception": false,
     "start_time": "2023-02-05T03:34:47.254734",
     "status": "completed"
    },
    "tags": []
   },
   "source": [
    "# R^2 plot and different errors for different algos plot"
   ]
  },
  {
   "cell_type": "code",
   "execution_count": 52,
   "id": "0220684a",
   "metadata": {
    "execution": {
     "iopub.execute_input": "2023-02-05T03:34:47.464207Z",
     "iopub.status.busy": "2023-02-05T03:34:47.463834Z",
     "iopub.status.idle": "2023-02-05T03:34:47.606933Z",
     "shell.execute_reply": "2023-02-05T03:34:47.606215Z"
    },
    "papermill": {
     "duration": 0.215993,
     "end_time": "2023-02-05T03:34:47.608594",
     "exception": false,
     "start_time": "2023-02-05T03:34:47.392601",
     "status": "completed"
    },
    "tags": []
   },
   "outputs": [
    {
     "data": {
      "image/png": "[encoded data removed]",
      "text/plain": [
       "<Figure size 1008x720 with 1 Axes>"
      ]
     },
     "metadata": {
      "needs_background": "light"
     },
     "output_type": "display_data"
    }
   ],
   "source": [
    "fig, ax = plt.subplots(figsize=(14,10))\n",
    "algorithms = ['SVM', 'KNN', 'ANN']\n",
    "r2_values = [r2_svm, r2_knn, r2_ann]\n",
    "plt.bar(algorithms, r2_values)\n",
    "plt.xlabel(\"Algorithms\")\n",
    "plt.ylabel(\"R2 values\")\n",
    "plt.show()"
   ]
  },
  {
   "cell_type": "code",
   "execution_count": 53,
   "id": "02dac732",
   "metadata": {
    "execution": {
     "iopub.execute_input": "2023-02-05T03:34:47.754055Z",
     "iopub.status.busy": "2023-02-05T03:34:47.753233Z",
     "iopub.status.idle": "2023-02-05T03:34:47.961318Z",
     "shell.execute_reply": "2023-02-05T03:34:47.960464Z"
    },
    "papermill": {
     "duration": 0.282616,
     "end_time": "2023-02-05T03:34:47.963658",
     "exception": false,
     "start_time": "2023-02-05T03:34:47.681042",
     "status": "completed"
    },
    "tags": []
   },
   "outputs": [
    {
     "data": {
      "image/png": "[encoded data removed]",
      "text/plain": [
       "<Figure size 1008x720 with 1 Axes>"
      ]
     },
     "metadata": {
      "needs_background": "light"
     },
     "output_type": "display_data"
    }
   ],
   "source": [
    "fig, ax = plt.subplots(figsize=(14,10))\n",
    "errors = ['MSE', 'MAD', 'MAE']\n",
    "svm = [mse_svm, mad_svm, mae_svm]\n",
    "knn = [mse_knn, mad_knn, mae_knn]\n",
    "ann = [mse_ann, mad_ann, mae_ann]\n",
    "\n",
    "errors = [mse_svm, mse_knn, mse_ann, mad_svm, mad_knn, mad_ann, mae_svm, mae_knn, mae_ann]\n",
    "errors = np.array(errors)\n",
    "\n",
    "algorithms = ['SVM', 'KNN', 'ANN'] * 3\n",
    "metrics = ['MSE'] * 3 + ['MAD'] * 3 + ['MAE'] * 3\n",
    "\n",
    "df = pd.DataFrame({'Algorithm': algorithms, 'Metric': metrics, 'Value': errors})\n",
    "\n",
    "ax = sns.barplot(x='Algorithm', y='Value', hue='Metric', data=df)\n",
    "ax.set_title('Error Comparison of Algorithms')\n",
    "ax.set_xlabel('Error Metric')\n",
    "ax.set_ylabel('Error Value')\n",
    "plt.show()"
   ]
  },
  {
   "cell_type": "code",
   "execution_count": null,
   "id": "696a6f70",
   "metadata": {
    "papermill": {
     "duration": 0.129249,
     "end_time": "2023-02-05T03:34:48.159268",
     "exception": false,
     "start_time": "2023-02-05T03:34:48.030019",
     "status": "completed"
    },
    "tags": []
   },
   "outputs": [],
   "source": []
  }
 ],
 "metadata": {
  "kernelspec": {
   "display_name": "Python 3",
   "language": "python",
   "name": "python3"
  },
  "language_info": {
   "codemirror_mode": {
    "name": "ipython",
    "version": 3
   },
   "file_extension": ".py",
   "mimetype": "text/x-python",
   "name": "python",
   "nbconvert_exporter": "python",
   "pygments_lexer": "ipython3",
   "version": "3.7.12"
  },
  "papermill": {
   "default_parameters": {},
   "duration": 46.136031,
   "end_time": "2023-02-05T03:34:51.606135",
   "environment_variables": {},
   "exception": null,
   "input_path": "__notebook__.ipynb",
   "output_path": "__notebook__.ipynb",
   "parameters": {},
   "start_time": "2023-02-05T03:34:05.470104",
   "version": "2.3.4"
  }
 },
 "nbformat": 4,
 "nbformat_minor": 5
}
