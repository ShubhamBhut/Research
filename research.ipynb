{
 "cells": [
  {
   "cell_type": "code",
   "execution_count": 1,
   "id": "e178b019",
   "metadata": {
    "_cell_guid": "ee37a71b-d5f0-4a69-97b4-479edd6cafd1",
    "_uuid": "33a3294e-47f9-422d-a6d8-dade344b05c8",
    "collapsed": false,
    "execution": {
     "iopub.execute_input": "2023-01-22T16:31:24.442959Z",
     "iopub.status.busy": "2023-01-22T16:31:24.442359Z",
     "iopub.status.idle": "2023-01-22T16:31:24.464473Z",
     "shell.execute_reply": "2023-01-22T16:31:24.463166Z"
    },
    "jupyter": {
     "outputs_hidden": false
    },
    "papermill": {
     "duration": 0.033399,
     "end_time": "2023-01-22T16:31:24.467789",
     "exception": false,
     "start_time": "2023-01-22T16:31:24.434390",
     "status": "completed"
    },
    "tags": []
   },
   "outputs": [
    {
     "name": "stdout",
     "output_type": "stream",
     "text": [
      "/kaggle/input/researchdata/Paper 2_Wear Depth data.xlsx\n"
     ]
    }
   ],
   "source": [
    "# This Python 3 environment comes with many helpful analytics libraries installed\n",
    "# It is defined by the kaggle/python Docker image: https://github.com/kaggle/docker-python\n",
    "# For example, here's several helpful packages to load\n",
    "\n",
    "import numpy as np # linear algebra\n",
    "import pandas as pd # data processing, CSV file I/O (e.g. pd.read_csv)\n",
    "# Input data files are available in the read-only \"../input/\" directory\n",
    "# For example, running this (by clicking run or pressing Shift+Enter) will list all files under the input directory\n",
    "\n",
    "import os\n",
    "for dirname, _, filenames in os.walk('/kaggle/input'):\n",
    "    for filename in filenames:\n",
    "        print(os.path.join(dirname, filename))\n",
    "\n",
    "# You can write up to 20GB to the current directory (/kaggle/working/) that gets preserved as output when you create a version using \"Save & Run All\" \n",
    "# You can also write temporary files to /kaggle/temp/, but they won't be saved outside of the current session"
   ]
  },
  {
   "cell_type": "code",
   "execution_count": 2,
   "id": "a5e18457",
   "metadata": {
    "execution": {
     "iopub.execute_input": "2023-01-22T16:31:24.479722Z",
     "iopub.status.busy": "2023-01-22T16:31:24.478835Z",
     "iopub.status.idle": "2023-01-22T16:31:24.895496Z",
     "shell.execute_reply": "2023-01-22T16:31:24.894305Z"
    },
    "papermill": {
     "duration": 0.425551,
     "end_time": "2023-01-22T16:31:24.898298",
     "exception": false,
     "start_time": "2023-01-22T16:31:24.472747",
     "status": "completed"
    },
    "tags": []
   },
   "outputs": [],
   "source": [
    "df = pd.read_excel('/kaggle/input/researchdata/Paper 2_Wear Depth data.xlsx')"
   ]
  },
  {
   "cell_type": "code",
   "execution_count": 3,
   "id": "de944e29",
   "metadata": {
    "execution": {
     "iopub.execute_input": "2023-01-22T16:31:24.909848Z",
     "iopub.status.busy": "2023-01-22T16:31:24.909125Z",
     "iopub.status.idle": "2023-01-22T16:31:24.937053Z",
     "shell.execute_reply": "2023-01-22T16:31:24.935753Z"
    },
    "papermill": {
     "duration": 0.036351,
     "end_time": "2023-01-22T16:31:24.939527",
     "exception": false,
     "start_time": "2023-01-22T16:31:24.903176",
     "status": "completed"
    },
    "tags": []
   },
   "outputs": [
    {
     "data": {
      "text/html": [
       "<div>\n",
       "<style scoped>\n",
       "    .dataframe tbody tr th:only-of-type {\n",
       "        vertical-align: middle;\n",
       "    }\n",
       "\n",
       "    .dataframe tbody tr th {\n",
       "        vertical-align: top;\n",
       "    }\n",
       "\n",
       "    .dataframe thead th {\n",
       "        text-align: right;\n",
       "    }\n",
       "</style>\n",
       "<table border=\"1\" class=\"dataframe\">\n",
       "  <thead>\n",
       "    <tr style=\"text-align: right;\">\n",
       "      <th></th>\n",
       "      <th>Rotation Speed (rpm)</th>\n",
       "      <th>Traverse speed (mm/min)</th>\n",
       "      <th>Traverse distance (mm)</th>\n",
       "      <th>Distance from Shoulder (mm)</th>\n",
       "      <th>Wear depth (average), mm</th>\n",
       "    </tr>\n",
       "  </thead>\n",
       "  <tbody>\n",
       "    <tr>\n",
       "      <th>0</th>\n",
       "      <td>800.0</td>\n",
       "      <td>30.0</td>\n",
       "      <td>300.0</td>\n",
       "      <td>0.0085</td>\n",
       "      <td>0.244100</td>\n",
       "    </tr>\n",
       "    <tr>\n",
       "      <th>1</th>\n",
       "      <td>800.0</td>\n",
       "      <td>30.0</td>\n",
       "      <td>300.0</td>\n",
       "      <td>0.3002</td>\n",
       "      <td>0.286150</td>\n",
       "    </tr>\n",
       "    <tr>\n",
       "      <th>2</th>\n",
       "      <td>800.0</td>\n",
       "      <td>30.0</td>\n",
       "      <td>300.0</td>\n",
       "      <td>0.6013</td>\n",
       "      <td>0.319000</td>\n",
       "    </tr>\n",
       "    <tr>\n",
       "      <th>3</th>\n",
       "      <td>800.0</td>\n",
       "      <td>30.0</td>\n",
       "      <td>300.0</td>\n",
       "      <td>0.9024</td>\n",
       "      <td>0.328550</td>\n",
       "    </tr>\n",
       "    <tr>\n",
       "      <th>4</th>\n",
       "      <td>800.0</td>\n",
       "      <td>30.0</td>\n",
       "      <td>300.0</td>\n",
       "      <td>1.2035</td>\n",
       "      <td>0.361150</td>\n",
       "    </tr>\n",
       "    <tr>\n",
       "      <th>...</th>\n",
       "      <td>...</td>\n",
       "      <td>...</td>\n",
       "      <td>...</td>\n",
       "      <td>...</td>\n",
       "      <td>...</td>\n",
       "    </tr>\n",
       "    <tr>\n",
       "      <th>236</th>\n",
       "      <td>1000.0</td>\n",
       "      <td>70.0</td>\n",
       "      <td>1000.0</td>\n",
       "      <td>2.7092</td>\n",
       "      <td>0.499550</td>\n",
       "    </tr>\n",
       "    <tr>\n",
       "      <th>237</th>\n",
       "      <td>1000.0</td>\n",
       "      <td>70.0</td>\n",
       "      <td>1000.0</td>\n",
       "      <td>3.0009</td>\n",
       "      <td>0.715650</td>\n",
       "    </tr>\n",
       "    <tr>\n",
       "      <th>238</th>\n",
       "      <td>1000.0</td>\n",
       "      <td>70.0</td>\n",
       "      <td>1000.0</td>\n",
       "      <td>3.3020</td>\n",
       "      <td>1.032850</td>\n",
       "    </tr>\n",
       "    <tr>\n",
       "      <th>239</th>\n",
       "      <td>1000.0</td>\n",
       "      <td>70.0</td>\n",
       "      <td>1000.0</td>\n",
       "      <td>3.5380</td>\n",
       "      <td>1.430650</td>\n",
       "    </tr>\n",
       "    <tr>\n",
       "      <th>240</th>\n",
       "      <td>1000.0</td>\n",
       "      <td>70.0</td>\n",
       "      <td>1000.0</td>\n",
       "      <td>3.7974</td>\n",
       "      <td>2.723295</td>\n",
       "    </tr>\n",
       "  </tbody>\n",
       "</table>\n",
       "<p>241 rows × 5 columns</p>\n",
       "</div>"
      ],
      "text/plain": [
       "     Rotation Speed (rpm)  Traverse speed (mm/min)  Traverse distance (mm)  \\\n",
       "0                   800.0                     30.0                   300.0   \n",
       "1                   800.0                     30.0                   300.0   \n",
       "2                   800.0                     30.0                   300.0   \n",
       "3                   800.0                     30.0                   300.0   \n",
       "4                   800.0                     30.0                   300.0   \n",
       "..                    ...                      ...                     ...   \n",
       "236                1000.0                     70.0                  1000.0   \n",
       "237                1000.0                     70.0                  1000.0   \n",
       "238                1000.0                     70.0                  1000.0   \n",
       "239                1000.0                     70.0                  1000.0   \n",
       "240                1000.0                     70.0                  1000.0   \n",
       "\n",
       "     Distance from Shoulder (mm)  Wear depth (average), mm  \n",
       "0                         0.0085                  0.244100  \n",
       "1                         0.3002                  0.286150  \n",
       "2                         0.6013                  0.319000  \n",
       "3                         0.9024                  0.328550  \n",
       "4                         1.2035                  0.361150  \n",
       "..                           ...                       ...  \n",
       "236                       2.7092                  0.499550  \n",
       "237                       3.0009                  0.715650  \n",
       "238                       3.3020                  1.032850  \n",
       "239                       3.5380                  1.430650  \n",
       "240                       3.7974                  2.723295  \n",
       "\n",
       "[241 rows x 5 columns]"
      ]
     },
     "execution_count": 3,
     "metadata": {},
     "output_type": "execute_result"
    }
   ],
   "source": [
    "df"
   ]
  },
  {
   "cell_type": "code",
   "execution_count": 4,
   "id": "5aae66a0",
   "metadata": {
    "execution": {
     "iopub.execute_input": "2023-01-22T16:31:24.952428Z",
     "iopub.status.busy": "2023-01-22T16:31:24.951942Z",
     "iopub.status.idle": "2023-01-22T16:31:33.096530Z",
     "shell.execute_reply": "2023-01-22T16:31:33.095502Z"
    },
    "papermill": {
     "duration": 8.154674,
     "end_time": "2023-01-22T16:31:33.099313",
     "exception": false,
     "start_time": "2023-01-22T16:31:24.944639",
     "status": "completed"
    },
    "tags": []
   },
   "outputs": [],
   "source": [
    "import matplotlib.pyplot as plt\n",
    "import plotly_express as px\n",
    "import tensorflow as tf\n",
    "from tensorflow.keras.models import Sequential\n",
    "from tensorflow.keras.layers import Dense, Activation, Dropout\n",
    "from tensorflow.keras.optimizers import SGD"
   ]
  },
  {
   "cell_type": "code",
   "execution_count": 5,
   "id": "66b94863",
   "metadata": {
    "execution": {
     "iopub.execute_input": "2023-01-22T16:31:33.112289Z",
     "iopub.status.busy": "2023-01-22T16:31:33.110860Z",
     "iopub.status.idle": "2023-01-22T16:31:33.119660Z",
     "shell.execute_reply": "2023-01-22T16:31:33.118328Z"
    },
    "papermill": {
     "duration": 0.017636,
     "end_time": "2023-01-22T16:31:33.122085",
     "exception": false,
     "start_time": "2023-01-22T16:31:33.104449",
     "status": "completed"
    },
    "tags": []
   },
   "outputs": [
    {
     "data": {
      "text/plain": [
       "Index(['Rotation Speed (rpm)', 'Traverse speed (mm/min)',\n",
       "       'Traverse distance (mm)', 'Distance from Shoulder (mm)',\n",
       "       'Wear depth (average), mm'],\n",
       "      dtype='object')"
      ]
     },
     "execution_count": 5,
     "metadata": {},
     "output_type": "execute_result"
    }
   ],
   "source": [
    "df.columns"
   ]
  },
  {
   "cell_type": "markdown",
   "id": "769c8810",
   "metadata": {
    "papermill": {
     "duration": 0.004574,
     "end_time": "2023-01-22T16:31:33.131821",
     "exception": false,
     "start_time": "2023-01-22T16:31:33.127247",
     "status": "completed"
    },
    "tags": []
   },
   "source": [
    "# First let's have a overview of relations between various inputs and output"
   ]
  },
  {
   "cell_type": "code",
   "execution_count": 6,
   "id": "539e3195",
   "metadata": {
    "execution": {
     "iopub.execute_input": "2023-01-22T16:31:33.143586Z",
     "iopub.status.busy": "2023-01-22T16:31:33.143090Z",
     "iopub.status.idle": "2023-01-22T16:31:33.383900Z",
     "shell.execute_reply": "2023-01-22T16:31:33.382477Z"
    },
    "papermill": {
     "duration": 0.250336,
     "end_time": "2023-01-22T16:31:33.387030",
     "exception": false,
     "start_time": "2023-01-22T16:31:33.136694",
     "status": "completed"
    },
    "tags": []
   },
   "outputs": [
    {
     "data": {
      "text/plain": [
       "<AxesSubplot:xlabel='Distance from Shoulder (mm)'>"
      ]
     },
     "execution_count": 6,
     "metadata": {},
     "output_type": "execute_result"
    },
    {
     "data": {
      "image/png": "[encoded data removed]",
      "text/plain": [
       "<Figure size 432x288 with 1 Axes>"
      ]
     },
     "metadata": {
      "needs_background": "light"
     },
     "output_type": "display_data"
    }
   ],
   "source": [
    "df.plot(x='Distance from Shoulder (mm)', y='Wear depth (average), mm')"
   ]
  },
  {
   "cell_type": "markdown",
   "id": "868fe00e",
   "metadata": {
    "papermill": {
     "duration": 0.005427,
     "end_time": "2023-01-22T16:31:33.398433",
     "exception": false,
     "start_time": "2023-01-22T16:31:33.393006",
     "status": "completed"
    },
    "tags": []
   },
   "source": [
    "# SVM"
   ]
  },
  {
   "cell_type": "markdown",
   "id": "9ecc1938",
   "metadata": {
    "papermill": {
     "duration": 0.005373,
     "end_time": "2023-01-22T16:31:33.409490",
     "exception": false,
     "start_time": "2023-01-22T16:31:33.404117",
     "status": "completed"
    },
    "tags": []
   },
   "source": [
    "# KNN "
   ]
  },
  {
   "cell_type": "markdown",
   "id": "255328fe",
   "metadata": {
    "papermill": {
     "duration": 0.005426,
     "end_time": "2023-01-22T16:31:33.420618",
     "exception": false,
     "start_time": "2023-01-22T16:31:33.415192",
     "status": "completed"
    },
    "tags": []
   },
   "source": [
    "# Simple ANN using Tensorflow"
   ]
  },
  {
   "cell_type": "code",
   "execution_count": 7,
   "id": "275d0fff",
   "metadata": {
    "execution": {
     "iopub.execute_input": "2023-01-22T16:31:33.434418Z",
     "iopub.status.busy": "2023-01-22T16:31:33.433959Z",
     "iopub.status.idle": "2023-01-22T16:31:33.441065Z",
     "shell.execute_reply": "2023-01-22T16:31:33.439823Z"
    },
    "papermill": {
     "duration": 0.017087,
     "end_time": "2023-01-22T16:31:33.443450",
     "exception": false,
     "start_time": "2023-01-22T16:31:33.426363",
     "status": "completed"
    },
    "tags": []
   },
   "outputs": [],
   "source": [
    "train_x = df[['Rotation Speed (rpm)', 'Traverse speed (mm/min)',\n",
    "       'Traverse distance (mm)', 'Distance from Shoulder (mm)']]\n",
    "train_y = df['Wear depth (average), mm']"
   ]
  },
  {
   "cell_type": "code",
   "execution_count": 8,
   "id": "ea171f1d",
   "metadata": {
    "execution": {
     "iopub.execute_input": "2023-01-22T16:31:33.457613Z",
     "iopub.status.busy": "2023-01-22T16:31:33.457178Z",
     "iopub.status.idle": "2023-01-22T16:31:33.468023Z",
     "shell.execute_reply": "2023-01-22T16:31:33.466749Z"
    },
    "papermill": {
     "duration": 0.021058,
     "end_time": "2023-01-22T16:31:33.470488",
     "exception": false,
     "start_time": "2023-01-22T16:31:33.449430",
     "status": "completed"
    },
    "tags": []
   },
   "outputs": [
    {
     "data": {
      "text/plain": [
       "0       800.0\n",
       "1       800.0\n",
       "2       800.0\n",
       "3       800.0\n",
       "4       800.0\n",
       "        ...  \n",
       "236    1000.0\n",
       "237    1000.0\n",
       "238    1000.0\n",
       "239    1000.0\n",
       "240    1000.0\n",
       "Name: Rotation Speed (rpm), Length: 241, dtype: float64"
      ]
     },
     "execution_count": 8,
     "metadata": {},
     "output_type": "execute_result"
    }
   ],
   "source": [
    "train_x[\"Rotation Speed (rpm)\"]"
   ]
  },
  {
   "cell_type": "code",
   "execution_count": 9,
   "id": "13eaf56e",
   "metadata": {
    "execution": {
     "iopub.execute_input": "2023-01-22T16:31:33.484922Z",
     "iopub.status.busy": "2023-01-22T16:31:33.484456Z",
     "iopub.status.idle": "2023-01-22T16:31:33.491964Z",
     "shell.execute_reply": "2023-01-22T16:31:33.490759Z"
    },
    "papermill": {
     "duration": 0.017481,
     "end_time": "2023-01-22T16:31:33.494239",
     "exception": false,
     "start_time": "2023-01-22T16:31:33.476758",
     "status": "completed"
    },
    "tags": []
   },
   "outputs": [
    {
     "data": {
      "text/plain": [
       "(241,)"
      ]
     },
     "execution_count": 9,
     "metadata": {},
     "output_type": "execute_result"
    }
   ],
   "source": [
    "train_y.shape"
   ]
  },
  {
   "cell_type": "code",
   "execution_count": 10,
   "id": "f13ed142",
   "metadata": {
    "execution": {
     "iopub.execute_input": "2023-01-22T16:31:33.508231Z",
     "iopub.status.busy": "2023-01-22T16:31:33.507723Z",
     "iopub.status.idle": "2023-01-22T16:31:33.632146Z",
     "shell.execute_reply": "2023-01-22T16:31:33.630857Z"
    },
    "papermill": {
     "duration": 0.135321,
     "end_time": "2023-01-22T16:31:33.635494",
     "exception": false,
     "start_time": "2023-01-22T16:31:33.500173",
     "status": "completed"
    },
    "tags": []
   },
   "outputs": [
    {
     "name": "stderr",
     "output_type": "stream",
     "text": [
      "2023-01-22 16:31:33.549770: I tensorflow/core/common_runtime/process_util.cc:146] Creating new thread pool with default inter op setting: 2. Tune using inter_op_parallelism_threads for best performance.\n"
     ]
    }
   ],
   "source": [
    "model = Sequential()\n",
    "\n",
    "model.add(Dense(10, input_shape=(4,), activation='relu'))\n",
    "#model.add(Dense(64, activation='relu'))\n",
    "model.add(Dense(1))"
   ]
  },
  {
   "cell_type": "code",
   "execution_count": 11,
   "id": "b780dc16",
   "metadata": {
    "execution": {
     "iopub.execute_input": "2023-01-22T16:31:33.651303Z",
     "iopub.status.busy": "2023-01-22T16:31:33.650841Z",
     "iopub.status.idle": "2023-01-22T16:31:35.889101Z",
     "shell.execute_reply": "2023-01-22T16:31:35.887645Z"
    },
    "papermill": {
     "duration": 2.249984,
     "end_time": "2023-01-22T16:31:35.891666",
     "exception": false,
     "start_time": "2023-01-22T16:31:33.641682",
     "status": "completed"
    },
    "tags": []
   },
   "outputs": [
    {
     "name": "stderr",
     "output_type": "stream",
     "text": [
      "2023-01-22 16:31:33.763043: I tensorflow/compiler/mlir/mlir_graph_optimization_pass.cc:185] None of the MLIR Optimization Passes are enabled (registered 2)\n"
     ]
    },
    {
     "name": "stdout",
     "output_type": "stream",
     "text": [
      "Epoch 1/100\n",
      "8/8 [==============================] - 1s 2ms/step - loss: nan    \n",
      "Epoch 2/100\n",
      "8/8 [==============================] - 0s 2ms/step - loss: nan\n",
      "Epoch 3/100\n",
      "8/8 [==============================] - 0s 2ms/step - loss: nan\n",
      "Epoch 4/100\n",
      "8/8 [==============================] - 0s 1ms/step - loss: nan\n",
      "Epoch 5/100\n",
      "8/8 [==============================] - 0s 1ms/step - loss: nan\n",
      "Epoch 6/100\n",
      "8/8 [==============================] - 0s 1ms/step - loss: nan\n",
      "Epoch 7/100\n",
      "8/8 [==============================] - 0s 1ms/step - loss: nan\n",
      "Epoch 8/100\n",
      "8/8 [==============================] - 0s 1ms/step - loss: nan\n",
      "Epoch 9/100\n",
      "8/8 [==============================] - 0s 1ms/step - loss: nan\n",
      "Epoch 10/100\n",
      "8/8 [==============================] - 0s 2ms/step - loss: nan\n",
      "Epoch 11/100\n",
      "8/8 [==============================] - 0s 2ms/step - loss: nan\n",
      "Epoch 12/100\n",
      "8/8 [==============================] - 0s 1ms/step - loss: nan\n",
      "Epoch 13/100\n",
      "8/8 [==============================] - 0s 2ms/step - loss: nan\n",
      "Epoch 14/100\n",
      "8/8 [==============================] - 0s 2ms/step - loss: nan\n",
      "Epoch 15/100\n",
      "8/8 [==============================] - 0s 2ms/step - loss: nan\n",
      "Epoch 16/100\n",
      "8/8 [==============================] - 0s 1ms/step - loss: nan\n",
      "Epoch 17/100\n",
      "8/8 [==============================] - 0s 1ms/step - loss: nan\n",
      "Epoch 18/100\n",
      "8/8 [==============================] - 0s 1ms/step - loss: nan\n",
      "Epoch 19/100\n",
      "8/8 [==============================] - 0s 1ms/step - loss: nan\n",
      "Epoch 20/100\n",
      "8/8 [==============================] - 0s 2ms/step - loss: nan\n",
      "Epoch 21/100\n",
      "8/8 [==============================] - 0s 1ms/step - loss: nan\n",
      "Epoch 22/100\n",
      "8/8 [==============================] - 0s 1ms/step - loss: nan\n",
      "Epoch 23/100\n",
      "8/8 [==============================] - 0s 1ms/step - loss: nan\n",
      "Epoch 24/100\n",
      "8/8 [==============================] - 0s 1ms/step - loss: nan\n",
      "Epoch 25/100\n",
      "8/8 [==============================] - 0s 1ms/step - loss: nan\n",
      "Epoch 26/100\n",
      "8/8 [==============================] - 0s 1ms/step - loss: nan\n",
      "Epoch 27/100\n",
      "8/8 [==============================] - 0s 2ms/step - loss: nan\n",
      "Epoch 28/100\n",
      "8/8 [==============================] - 0s 1ms/step - loss: nan\n",
      "Epoch 29/100\n",
      "8/8 [==============================] - 0s 1ms/step - loss: nan\n",
      "Epoch 30/100\n",
      "8/8 [==============================] - 0s 1ms/step - loss: nan\n",
      "Epoch 31/100\n",
      "8/8 [==============================] - 0s 1ms/step - loss: nan\n",
      "Epoch 32/100\n",
      "8/8 [==============================] - 0s 1ms/step - loss: nan\n",
      "Epoch 33/100\n",
      "8/8 [==============================] - 0s 1ms/step - loss: nan\n",
      "Epoch 34/100\n",
      "8/8 [==============================] - 0s 1ms/step - loss: nan\n",
      "Epoch 35/100\n",
      "8/8 [==============================] - 0s 1ms/step - loss: nan\n",
      "Epoch 36/100\n",
      "8/8 [==============================] - 0s 1ms/step - loss: nan\n",
      "Epoch 37/100\n",
      "8/8 [==============================] - 0s 2ms/step - loss: nan\n",
      "Epoch 38/100\n",
      "8/8 [==============================] - 0s 2ms/step - loss: nan\n",
      "Epoch 39/100\n",
      "8/8 [==============================] - 0s 2ms/step - loss: nan\n",
      "Epoch 40/100\n",
      "8/8 [==============================] - 0s 1ms/step - loss: nan\n",
      "Epoch 41/100\n",
      "8/8 [==============================] - 0s 2ms/step - loss: nan\n",
      "Epoch 42/100\n",
      "8/8 [==============================] - 0s 1ms/step - loss: nan\n",
      "Epoch 43/100\n",
      "8/8 [==============================] - 0s 2ms/step - loss: nan\n",
      "Epoch 44/100\n",
      "8/8 [==============================] - 0s 1ms/step - loss: nan\n",
      "Epoch 45/100\n",
      "8/8 [==============================] - 0s 1ms/step - loss: nan\n",
      "Epoch 46/100\n",
      "8/8 [==============================] - 0s 1ms/step - loss: nan\n",
      "Epoch 47/100\n",
      "8/8 [==============================] - 0s 1ms/step - loss: nan\n",
      "Epoch 48/100\n",
      "8/8 [==============================] - 0s 1ms/step - loss: nan\n",
      "Epoch 49/100\n",
      "8/8 [==============================] - 0s 1ms/step - loss: nan\n",
      "Epoch 50/100\n",
      "8/8 [==============================] - 0s 2ms/step - loss: nan\n",
      "Epoch 51/100\n",
      "8/8 [==============================] - 0s 2ms/step - loss: nan\n",
      "Epoch 52/100\n",
      "8/8 [==============================] - 0s 1ms/step - loss: nan\n",
      "Epoch 53/100\n",
      "8/8 [==============================] - 0s 1ms/step - loss: nan\n",
      "Epoch 54/100\n",
      "8/8 [==============================] - 0s 1ms/step - loss: nan\n",
      "Epoch 55/100\n",
      "8/8 [==============================] - 0s 2ms/step - loss: nan\n",
      "Epoch 56/100\n",
      "8/8 [==============================] - 0s 2ms/step - loss: nan\n",
      "Epoch 57/100\n",
      "8/8 [==============================] - 0s 2ms/step - loss: nan\n",
      "Epoch 58/100\n",
      "8/8 [==============================] - 0s 2ms/step - loss: nan\n",
      "Epoch 59/100\n",
      "8/8 [==============================] - 0s 2ms/step - loss: nan\n",
      "Epoch 60/100\n",
      "8/8 [==============================] - 0s 1ms/step - loss: nan\n",
      "Epoch 61/100\n",
      "8/8 [==============================] - 0s 1ms/step - loss: nan\n",
      "Epoch 62/100\n",
      "8/8 [==============================] - 0s 2ms/step - loss: nan\n",
      "Epoch 63/100\n",
      "8/8 [==============================] - 0s 1ms/step - loss: nan\n",
      "Epoch 64/100\n",
      "8/8 [==============================] - 0s 1ms/step - loss: nan\n",
      "Epoch 65/100\n",
      "8/8 [==============================] - 0s 1ms/step - loss: nan\n",
      "Epoch 66/100\n",
      "8/8 [==============================] - 0s 1ms/step - loss: nan\n",
      "Epoch 67/100\n",
      "8/8 [==============================] - 0s 2ms/step - loss: nan\n",
      "Epoch 68/100\n",
      "8/8 [==============================] - 0s 2ms/step - loss: nan\n",
      "Epoch 69/100\n",
      "8/8 [==============================] - 0s 2ms/step - loss: nan\n",
      "Epoch 70/100\n",
      "8/8 [==============================] - 0s 2ms/step - loss: nan\n",
      "Epoch 71/100\n",
      "8/8 [==============================] - 0s 1ms/step - loss: nan\n",
      "Epoch 72/100\n",
      "8/8 [==============================] - 0s 1ms/step - loss: nan\n",
      "Epoch 73/100\n",
      "8/8 [==============================] - 0s 1ms/step - loss: nan\n",
      "Epoch 74/100\n",
      "8/8 [==============================] - 0s 2ms/step - loss: nan\n",
      "Epoch 75/100\n",
      "8/8 [==============================] - 0s 2ms/step - loss: nan\n",
      "Epoch 76/100\n",
      "8/8 [==============================] - 0s 1ms/step - loss: nan\n",
      "Epoch 77/100\n",
      "8/8 [==============================] - 0s 1ms/step - loss: nan\n",
      "Epoch 78/100\n",
      "8/8 [==============================] - 0s 2ms/step - loss: nan\n",
      "Epoch 79/100\n",
      "8/8 [==============================] - 0s 2ms/step - loss: nan\n",
      "Epoch 80/100\n",
      "8/8 [==============================] - 0s 1ms/step - loss: nan\n",
      "Epoch 81/100\n",
      "8/8 [==============================] - 0s 1ms/step - loss: nan\n",
      "Epoch 82/100\n",
      "8/8 [==============================] - 0s 1ms/step - loss: nan\n",
      "Epoch 83/100\n",
      "8/8 [==============================] - 0s 1ms/step - loss: nan\n",
      "Epoch 84/100\n",
      "8/8 [==============================] - 0s 2ms/step - loss: nan\n",
      "Epoch 85/100\n",
      "8/8 [==============================] - 0s 1ms/step - loss: nan\n",
      "Epoch 86/100\n",
      "8/8 [==============================] - 0s 2ms/step - loss: nan\n",
      "Epoch 87/100\n",
      "8/8 [==============================] - 0s 2ms/step - loss: nan\n",
      "Epoch 88/100\n",
      "8/8 [==============================] - 0s 1ms/step - loss: nan\n",
      "Epoch 89/100\n",
      "8/8 [==============================] - 0s 1ms/step - loss: nan\n",
      "Epoch 90/100\n",
      "8/8 [==============================] - 0s 1ms/step - loss: nan\n",
      "Epoch 91/100\n",
      "8/8 [==============================] - 0s 1ms/step - loss: nan\n",
      "Epoch 92/100\n",
      "8/8 [==============================] - 0s 1ms/step - loss: nan\n",
      "Epoch 93/100\n",
      "8/8 [==============================] - 0s 1ms/step - loss: nan\n",
      "Epoch 94/100\n",
      "8/8 [==============================] - 0s 1ms/step - loss: nan\n",
      "Epoch 95/100\n",
      "8/8 [==============================] - 0s 1ms/step - loss: nan\n",
      "Epoch 96/100\n",
      "8/8 [==============================] - 0s 1ms/step - loss: nan\n",
      "Epoch 97/100\n",
      "8/8 [==============================] - 0s 1ms/step - loss: nan\n",
      "Epoch 98/100\n",
      "8/8 [==============================] - 0s 1ms/step - loss: nan\n",
      "Epoch 99/100\n",
      "8/8 [==============================] - 0s 2ms/step - loss: nan\n",
      "Epoch 100/100\n",
      "8/8 [==============================] - 0s 1ms/step - loss: nan\n"
     ]
    },
    {
     "data": {
      "text/plain": [
       "<keras.callbacks.History at 0x7f5623892a10>"
      ]
     },
     "execution_count": 11,
     "metadata": {},
     "output_type": "execute_result"
    }
   ],
   "source": [
    "model.compile(loss='mean_squared_error', optimizer='adam')\n",
    "\n",
    "model.fit(train_x, train_y, epochs=100)"
   ]
  },
  {
   "cell_type": "code",
   "execution_count": null,
   "id": "f5e33915",
   "metadata": {
    "papermill": {
     "duration": 0.019482,
     "end_time": "2023-01-22T16:31:35.932029",
     "exception": false,
     "start_time": "2023-01-22T16:31:35.912547",
     "status": "completed"
    },
    "tags": []
   },
   "outputs": [],
   "source": []
  },
  {
   "cell_type": "code",
   "execution_count": null,
   "id": "1d9c5f50",
   "metadata": {
    "papermill": {
     "duration": 0.019869,
     "end_time": "2023-01-22T16:31:35.971618",
     "exception": false,
     "start_time": "2023-01-22T16:31:35.951749",
     "status": "completed"
    },
    "tags": []
   },
   "outputs": [],
   "source": []
  }
 ],
 "metadata": {
  "kernelspec": {
   "display_name": "Python 3",
   "language": "python",
   "name": "python3"
  },
  "language_info": {
   "codemirror_mode": {
    "name": "ipython",
    "version": 3
   },
   "file_extension": ".py",
   "mimetype": "text/x-python",
   "name": "python",
   "nbconvert_exporter": "python",
   "pygments_lexer": "ipython3",
   "version": "3.7.12"
  },
  "papermill": {
   "default_parameters": {},
   "duration": 24.287179,
   "end_time": "2023-01-22T16:31:39.579594",
   "environment_variables": {},
   "exception": null,
   "input_path": "__notebook__.ipynb",
   "output_path": "__notebook__.ipynb",
   "parameters": {},
   "start_time": "2023-01-22T16:31:15.292415",
   "version": "2.3.4"
  }
 },
 "nbformat": 4,
 "nbformat_minor": 5
}
