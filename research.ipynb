{
 "cells": [
  {
   "cell_type": "code",
   "execution_count": 1,
   "id": "1dda7eec",
   "metadata": {
    "_cell_guid": "ee37a71b-d5f0-4a69-97b4-479edd6cafd1",
    "_uuid": "33a3294e-47f9-422d-a6d8-dade344b05c8",
    "collapsed": false,
    "execution": {
     "iopub.execute_input": "2023-01-25T05:20:10.643189Z",
     "iopub.status.busy": "2023-01-25T05:20:10.642038Z",
     "iopub.status.idle": "2023-01-25T05:20:10.662603Z",
     "shell.execute_reply": "2023-01-25T05:20:10.661573Z"
    },
    "jupyter": {
     "outputs_hidden": false
    },
    "papermill": {
     "duration": 0.036262,
     "end_time": "2023-01-25T05:20:10.665763",
     "exception": false,
     "start_time": "2023-01-25T05:20:10.629501",
     "status": "completed"
    },
    "tags": []
   },
   "outputs": [
    {
     "name": "stdout",
     "output_type": "stream",
     "text": [
      "/kaggle/input/researchdata/Paper 2_Wear Depth data.xlsx\n"
     ]
    }
   ],
   "source": [
    "# This Python 3 environment comes with many helpful analytics libraries installed\n",
    "# It is defined by the kaggle/python Docker image: https://github.com/kaggle/docker-python\n",
    "# For example, here's several helpful packages to load\n",
    "\n",
    "import numpy as np # linear algebra\n",
    "import pandas as pd # data processing, CSV file I/O (e.g. pd.read_csv)\n",
    "# Input data files are available in the read-only \"../input/\" directory\n",
    "# For example, running this (by clicking run or pressing Shift+Enter) will list all files under the input directory\n",
    "\n",
    "import os\n",
    "for dirname, _, filenames in os.walk('/kaggle/input'):\n",
    "    for filename in filenames:\n",
    "        print(os.path.join(dirname, filename))\n",
    "\n",
    "# You can write up to 20GB to the current directory (/kaggle/working/) that gets preserved as output when you create a version using \"Save & Run All\" \n",
    "# You can also write temporary files to /kaggle/temp/, but they won't be saved outside of the current session"
   ]
  },
  {
   "cell_type": "code",
   "execution_count": 2,
   "id": "cd326df5",
   "metadata": {
    "execution": {
     "iopub.execute_input": "2023-01-25T05:20:10.688908Z",
     "iopub.status.busy": "2023-01-25T05:20:10.688231Z",
     "iopub.status.idle": "2023-01-25T05:20:11.084626Z",
     "shell.execute_reply": "2023-01-25T05:20:11.083483Z"
    },
    "papermill": {
     "duration": 0.410677,
     "end_time": "2023-01-25T05:20:11.087615",
     "exception": false,
     "start_time": "2023-01-25T05:20:10.676938",
     "status": "completed"
    },
    "tags": []
   },
   "outputs": [],
   "source": [
    "df = pd.read_excel('/kaggle/input/researchdata/Paper 2_Wear Depth data.xlsx')"
   ]
  },
  {
   "cell_type": "code",
   "execution_count": 3,
   "id": "9c7d236a",
   "metadata": {
    "execution": {
     "iopub.execute_input": "2023-01-25T05:20:11.111484Z",
     "iopub.status.busy": "2023-01-25T05:20:11.110265Z",
     "iopub.status.idle": "2023-01-25T05:20:11.137948Z",
     "shell.execute_reply": "2023-01-25T05:20:11.136756Z"
    },
    "papermill": {
     "duration": 0.044476,
     "end_time": "2023-01-25T05:20:11.141843",
     "exception": false,
     "start_time": "2023-01-25T05:20:11.097367",
     "status": "completed"
    },
    "tags": []
   },
   "outputs": [
    {
     "data": {
      "text/html": [
       "<div>\n",
       "<style scoped>\n",
       "    .dataframe tbody tr th:only-of-type {\n",
       "        vertical-align: middle;\n",
       "    }\n",
       "\n",
       "    .dataframe tbody tr th {\n",
       "        vertical-align: top;\n",
       "    }\n",
       "\n",
       "    .dataframe thead th {\n",
       "        text-align: right;\n",
       "    }\n",
       "</style>\n",
       "<table border=\"1\" class=\"dataframe\">\n",
       "  <thead>\n",
       "    <tr style=\"text-align: right;\">\n",
       "      <th></th>\n",
       "      <th>Rotation Speed (rpm)</th>\n",
       "      <th>Traverse speed (mm/min)</th>\n",
       "      <th>Traverse distance (mm)</th>\n",
       "      <th>Distance from Shoulder (mm)</th>\n",
       "      <th>Wear depth (average), mm</th>\n",
       "    </tr>\n",
       "  </thead>\n",
       "  <tbody>\n",
       "    <tr>\n",
       "      <th>0</th>\n",
       "      <td>800.0</td>\n",
       "      <td>30.0</td>\n",
       "      <td>300.0</td>\n",
       "      <td>0.0085</td>\n",
       "      <td>0.244100</td>\n",
       "    </tr>\n",
       "    <tr>\n",
       "      <th>1</th>\n",
       "      <td>800.0</td>\n",
       "      <td>30.0</td>\n",
       "      <td>300.0</td>\n",
       "      <td>0.3002</td>\n",
       "      <td>0.286150</td>\n",
       "    </tr>\n",
       "    <tr>\n",
       "      <th>2</th>\n",
       "      <td>800.0</td>\n",
       "      <td>30.0</td>\n",
       "      <td>300.0</td>\n",
       "      <td>0.6013</td>\n",
       "      <td>0.319000</td>\n",
       "    </tr>\n",
       "    <tr>\n",
       "      <th>3</th>\n",
       "      <td>800.0</td>\n",
       "      <td>30.0</td>\n",
       "      <td>300.0</td>\n",
       "      <td>0.9024</td>\n",
       "      <td>0.328550</td>\n",
       "    </tr>\n",
       "    <tr>\n",
       "      <th>4</th>\n",
       "      <td>800.0</td>\n",
       "      <td>30.0</td>\n",
       "      <td>300.0</td>\n",
       "      <td>1.2035</td>\n",
       "      <td>0.361150</td>\n",
       "    </tr>\n",
       "    <tr>\n",
       "      <th>...</th>\n",
       "      <td>...</td>\n",
       "      <td>...</td>\n",
       "      <td>...</td>\n",
       "      <td>...</td>\n",
       "      <td>...</td>\n",
       "    </tr>\n",
       "    <tr>\n",
       "      <th>236</th>\n",
       "      <td>1000.0</td>\n",
       "      <td>70.0</td>\n",
       "      <td>1000.0</td>\n",
       "      <td>2.7092</td>\n",
       "      <td>0.499550</td>\n",
       "    </tr>\n",
       "    <tr>\n",
       "      <th>237</th>\n",
       "      <td>1000.0</td>\n",
       "      <td>70.0</td>\n",
       "      <td>1000.0</td>\n",
       "      <td>3.0009</td>\n",
       "      <td>0.715650</td>\n",
       "    </tr>\n",
       "    <tr>\n",
       "      <th>238</th>\n",
       "      <td>1000.0</td>\n",
       "      <td>70.0</td>\n",
       "      <td>1000.0</td>\n",
       "      <td>3.3020</td>\n",
       "      <td>1.032850</td>\n",
       "    </tr>\n",
       "    <tr>\n",
       "      <th>239</th>\n",
       "      <td>1000.0</td>\n",
       "      <td>70.0</td>\n",
       "      <td>1000.0</td>\n",
       "      <td>3.5380</td>\n",
       "      <td>1.430650</td>\n",
       "    </tr>\n",
       "    <tr>\n",
       "      <th>240</th>\n",
       "      <td>1000.0</td>\n",
       "      <td>70.0</td>\n",
       "      <td>1000.0</td>\n",
       "      <td>3.7974</td>\n",
       "      <td>2.723295</td>\n",
       "    </tr>\n",
       "  </tbody>\n",
       "</table>\n",
       "<p>241 rows × 5 columns</p>\n",
       "</div>"
      ],
      "text/plain": [
       "     Rotation Speed (rpm)  Traverse speed (mm/min)  Traverse distance (mm)  \\\n",
       "0                   800.0                     30.0                   300.0   \n",
       "1                   800.0                     30.0                   300.0   \n",
       "2                   800.0                     30.0                   300.0   \n",
       "3                   800.0                     30.0                   300.0   \n",
       "4                   800.0                     30.0                   300.0   \n",
       "..                    ...                      ...                     ...   \n",
       "236                1000.0                     70.0                  1000.0   \n",
       "237                1000.0                     70.0                  1000.0   \n",
       "238                1000.0                     70.0                  1000.0   \n",
       "239                1000.0                     70.0                  1000.0   \n",
       "240                1000.0                     70.0                  1000.0   \n",
       "\n",
       "     Distance from Shoulder (mm)  Wear depth (average), mm  \n",
       "0                         0.0085                  0.244100  \n",
       "1                         0.3002                  0.286150  \n",
       "2                         0.6013                  0.319000  \n",
       "3                         0.9024                  0.328550  \n",
       "4                         1.2035                  0.361150  \n",
       "..                           ...                       ...  \n",
       "236                       2.7092                  0.499550  \n",
       "237                       3.0009                  0.715650  \n",
       "238                       3.3020                  1.032850  \n",
       "239                       3.5380                  1.430650  \n",
       "240                       3.7974                  2.723295  \n",
       "\n",
       "[241 rows x 5 columns]"
      ]
     },
     "execution_count": 3,
     "metadata": {},
     "output_type": "execute_result"
    }
   ],
   "source": [
    "df"
   ]
  },
  {
   "cell_type": "code",
   "execution_count": 4,
   "id": "f7c971ac",
   "metadata": {
    "execution": {
     "iopub.execute_input": "2023-01-25T05:20:11.164714Z",
     "iopub.status.busy": "2023-01-25T05:20:11.164193Z",
     "iopub.status.idle": "2023-01-25T05:20:20.147848Z",
     "shell.execute_reply": "2023-01-25T05:20:20.146505Z"
    },
    "papermill": {
     "duration": 8.998009,
     "end_time": "2023-01-25T05:20:20.150807",
     "exception": false,
     "start_time": "2023-01-25T05:20:11.152798",
     "status": "completed"
    },
    "tags": []
   },
   "outputs": [],
   "source": [
    "import matplotlib.pyplot as plt\n",
    "import plotly_express as px\n",
    "from sklearn import svm\n",
    "import tensorflow as tf\n",
    "from tensorflow.keras.models import Sequential\n",
    "from tensorflow.keras.layers import Dense, Activation, Dropout\n",
    "from tensorflow.keras.optimizers import SGD\n",
    "import seaborn as sns"
   ]
  },
  {
   "cell_type": "code",
   "execution_count": 5,
   "id": "7144dafe",
   "metadata": {
    "execution": {
     "iopub.execute_input": "2023-01-25T05:20:20.173787Z",
     "iopub.status.busy": "2023-01-25T05:20:20.172220Z",
     "iopub.status.idle": "2023-01-25T05:20:20.179500Z",
     "shell.execute_reply": "2023-01-25T05:20:20.178648Z"
    },
    "papermill": {
     "duration": 0.020694,
     "end_time": "2023-01-25T05:20:20.181539",
     "exception": false,
     "start_time": "2023-01-25T05:20:20.160845",
     "status": "completed"
    },
    "tags": []
   },
   "outputs": [
    {
     "data": {
      "text/plain": [
       "Index(['Rotation Speed (rpm)', 'Traverse speed (mm/min)',\n",
       "       'Traverse distance (mm)', 'Distance from Shoulder (mm)',\n",
       "       'Wear depth (average), mm'],\n",
       "      dtype='object')"
      ]
     },
     "execution_count": 5,
     "metadata": {},
     "output_type": "execute_result"
    }
   ],
   "source": [
    "df.columns"
   ]
  },
  {
   "cell_type": "markdown",
   "id": "27d0b6d7",
   "metadata": {
    "papermill": {
     "duration": 0.009506,
     "end_time": "2023-01-25T05:20:20.201093",
     "exception": false,
     "start_time": "2023-01-25T05:20:20.191587",
     "status": "completed"
    },
    "tags": []
   },
   "source": [
    "# Data Cleaning"
   ]
  },
  {
   "cell_type": "code",
   "execution_count": 6,
   "id": "04ed0d84",
   "metadata": {
    "execution": {
     "iopub.execute_input": "2023-01-25T05:20:20.223293Z",
     "iopub.status.busy": "2023-01-25T05:20:20.222603Z",
     "iopub.status.idle": "2023-01-25T05:20:20.232388Z",
     "shell.execute_reply": "2023-01-25T05:20:20.231493Z"
    },
    "papermill": {
     "duration": 0.023881,
     "end_time": "2023-01-25T05:20:20.234877",
     "exception": false,
     "start_time": "2023-01-25T05:20:20.210996",
     "status": "completed"
    },
    "tags": []
   },
   "outputs": [],
   "source": [
    " df = df.dropna() "
   ]
  },
  {
   "cell_type": "markdown",
   "id": "0a0412c6",
   "metadata": {
    "papermill": {
     "duration": 0.009561,
     "end_time": "2023-01-25T05:20:20.254375",
     "exception": false,
     "start_time": "2023-01-25T05:20:20.244814",
     "status": "completed"
    },
    "tags": []
   },
   "source": [
    "# First let's have a overview of relations between various inputs and output"
   ]
  },
  {
   "cell_type": "code",
   "execution_count": 7,
   "id": "665c04b8",
   "metadata": {
    "execution": {
     "iopub.execute_input": "2023-01-25T05:20:20.276576Z",
     "iopub.status.busy": "2023-01-25T05:20:20.275831Z",
     "iopub.status.idle": "2023-01-25T05:20:20.519124Z",
     "shell.execute_reply": "2023-01-25T05:20:20.517997Z"
    },
    "papermill": {
     "duration": 0.257554,
     "end_time": "2023-01-25T05:20:20.521763",
     "exception": false,
     "start_time": "2023-01-25T05:20:20.264209",
     "status": "completed"
    },
    "tags": []
   },
   "outputs": [
    {
     "data": {
      "text/plain": [
       "<matplotlib.collections.PathCollection at 0x7fa4e774e610>"
      ]
     },
     "execution_count": 7,
     "metadata": {},
     "output_type": "execute_result"
    },
    {
     "data": {
      "image/png": "[encoded data removed]",
      "text/plain": [
       "<Figure size 1008x648 with 1 Axes>"
      ]
     },
     "metadata": {
      "needs_background": "light"
     },
     "output_type": "display_data"
    }
   ],
   "source": [
    "plt.figure(figsize=(14,9))\n",
    "plt.scatter(x=df['Distance from Shoulder (mm)'], y=df['Wear depth (average), mm'], s=50)"
   ]
  },
  {
   "cell_type": "markdown",
   "id": "d50c5c71",
   "metadata": {
    "papermill": {
     "duration": 0.011096,
     "end_time": "2023-01-25T05:20:20.543403",
     "exception": false,
     "start_time": "2023-01-25T05:20:20.532307",
     "status": "completed"
    },
    "tags": []
   },
   "source": [
    "From the above plot, we can colclude that with increase in distance form shoulder, the wear depth is expected to increase, it also depends on other varibales. And we are seeing a rapid rise in wear-depth after distance form should becomes greater than 3 mm"
   ]
  },
  {
   "cell_type": "code",
   "execution_count": 8,
   "id": "9d1838f1",
   "metadata": {
    "execution": {
     "iopub.execute_input": "2023-01-25T05:20:20.566801Z",
     "iopub.status.busy": "2023-01-25T05:20:20.565927Z",
     "iopub.status.idle": "2023-01-25T05:20:21.184321Z",
     "shell.execute_reply": "2023-01-25T05:20:21.182957Z"
    },
    "papermill": {
     "duration": 0.633619,
     "end_time": "2023-01-25T05:20:21.187514",
     "exception": false,
     "start_time": "2023-01-25T05:20:20.553895",
     "status": "completed"
    },
    "tags": []
   },
   "outputs": [
    {
     "data": {
      "text/plain": [
       "<seaborn.axisgrid.JointGrid at 0x7fa52ef3a510>"
      ]
     },
     "execution_count": 8,
     "metadata": {},
     "output_type": "execute_result"
    },
    {
     "data": {
      "image/png": "[encoded data removed]",
      "text/plain": [
       "<Figure size 504x504 with 3 Axes>"
      ]
     },
     "metadata": {
      "needs_background": "light"
     },
     "output_type": "display_data"
    }
   ],
   "source": [
    "sns.jointplot(x='Distance from Shoulder (mm)', y='Wear depth (average), mm', data=df, hue=\"Rotation Speed (rpm)\", palette=sns.color_palette(\"hls\", 3), height=7)"
   ]
  },
  {
   "cell_type": "markdown",
   "id": "bb351e64",
   "metadata": {
    "papermill": {
     "duration": 0.011056,
     "end_time": "2023-01-25T05:20:21.210267",
     "exception": false,
     "start_time": "2023-01-25T05:20:21.199211",
     "status": "completed"
    },
    "tags": []
   },
   "source": [
    "We also get an interesting observation that, rotating speed around 1000RPM seems ideal, any directional change from here can increase the wear-depth. However the decrease in rotating speed seems more harmful than increase in rotating speed from 1000RPM."
   ]
  },
  {
   "cell_type": "code",
   "execution_count": 9,
   "id": "a2115810",
   "metadata": {
    "execution": {
     "iopub.execute_input": "2023-01-25T05:20:21.235199Z",
     "iopub.status.busy": "2023-01-25T05:20:21.234438Z",
     "iopub.status.idle": "2023-01-25T05:20:21.821083Z",
     "shell.execute_reply": "2023-01-25T05:20:21.819806Z"
    },
    "papermill": {
     "duration": 0.601869,
     "end_time": "2023-01-25T05:20:21.823637",
     "exception": false,
     "start_time": "2023-01-25T05:20:21.221768",
     "status": "completed"
    },
    "tags": []
   },
   "outputs": [
    {
     "data": {
      "text/plain": [
       "<seaborn.axisgrid.JointGrid at 0x7fa4e5584450>"
      ]
     },
     "execution_count": 9,
     "metadata": {},
     "output_type": "execute_result"
    },
    {
     "data": {
      "image/png": "[encoded data removed]",
      "text/plain": [
       "<Figure size 504x504 with 3 Axes>"
      ]
     },
     "metadata": {
      "needs_background": "light"
     },
     "output_type": "display_data"
    }
   ],
   "source": [
    "sns.jointplot(x='Distance from Shoulder (mm)', y='Wear depth (average), mm', data=df, hue=\"Traverse speed (mm/min)\", palette=sns.color_palette(\"hls\", 3), height=7)"
   ]
  },
  {
   "cell_type": "markdown",
   "id": "e49cfacc",
   "metadata": {
    "papermill": {
     "duration": 0.01203,
     "end_time": "2023-01-25T05:20:21.848162",
     "exception": false,
     "start_time": "2023-01-25T05:20:21.836132",
     "status": "completed"
    },
    "tags": []
   },
   "source": [
    "Here we can see that with increase in transverse speed, the wear depth may decrease"
   ]
  },
  {
   "cell_type": "code",
   "execution_count": 10,
   "id": "43509286",
   "metadata": {
    "execution": {
     "iopub.execute_input": "2023-01-25T05:20:21.875065Z",
     "iopub.status.busy": "2023-01-25T05:20:21.874638Z",
     "iopub.status.idle": "2023-01-25T05:20:22.723872Z",
     "shell.execute_reply": "2023-01-25T05:20:22.722605Z"
    },
    "papermill": {
     "duration": 0.866259,
     "end_time": "2023-01-25T05:20:22.726953",
     "exception": false,
     "start_time": "2023-01-25T05:20:21.860694",
     "status": "completed"
    },
    "tags": []
   },
   "outputs": [
    {
     "data": {
      "text/plain": [
       "<seaborn.axisgrid.JointGrid at 0x7fa52eeb7190>"
      ]
     },
     "execution_count": 10,
     "metadata": {},
     "output_type": "execute_result"
    },
    {
     "data": {
      "image/png": "[encoded data removed]",
      "text/plain": [
       "<Figure size 504x504 with 3 Axes>"
      ]
     },
     "metadata": {
      "needs_background": "light"
     },
     "output_type": "display_data"
    }
   ],
   "source": [
    "sns.jointplot(x='Distance from Shoulder (mm)', y='Wear depth (average), mm', data=df, hue=\"Traverse distance (mm)\", palette=sns.color_palette(\"hls\", 3), height=7)"
   ]
  },
  {
   "cell_type": "markdown",
   "id": "01305dca",
   "metadata": {
    "papermill": {
     "duration": 0.013274,
     "end_time": "2023-01-25T05:20:22.753526",
     "exception": false,
     "start_time": "2023-01-25T05:20:22.740252",
     "status": "completed"
    },
    "tags": []
   },
   "source": [
    "It seems that the transvers distance has some strange realtionship with wear depth, however it is clearly seen that, the higher wear depth is seen iwth high traverse distance"
   ]
  },
  {
   "cell_type": "markdown",
   "id": "417791b8",
   "metadata": {
    "papermill": {
     "duration": 0.012802,
     "end_time": "2023-01-25T05:20:22.779610",
     "exception": false,
     "start_time": "2023-01-25T05:20:22.766808",
     "status": "completed"
    },
    "tags": []
   },
   "source": [
    "### As we are seeing the variation for distance_from_shoulder > 3mm becoming overwhelming, let's first analyze the data upto 3mm"
   ]
  },
  {
   "cell_type": "code",
   "execution_count": 11,
   "id": "0bc13e9f",
   "metadata": {
    "execution": {
     "iopub.execute_input": "2023-01-25T05:20:22.809058Z",
     "iopub.status.busy": "2023-01-25T05:20:22.808181Z",
     "iopub.status.idle": "2023-01-25T05:20:22.814693Z",
     "shell.execute_reply": "2023-01-25T05:20:22.813751Z"
    },
    "papermill": {
     "duration": 0.023462,
     "end_time": "2023-01-25T05:20:22.816854",
     "exception": false,
     "start_time": "2023-01-25T05:20:22.793392",
     "status": "completed"
    },
    "tags": []
   },
   "outputs": [],
   "source": [
    "df = df.loc[df['Distance from Shoulder (mm)'] < 3]"
   ]
  },
  {
   "cell_type": "code",
   "execution_count": 12,
   "id": "0772a912",
   "metadata": {
    "execution": {
     "iopub.execute_input": "2023-01-25T05:20:22.845784Z",
     "iopub.status.busy": "2023-01-25T05:20:22.844938Z",
     "iopub.status.idle": "2023-01-25T05:20:22.863378Z",
     "shell.execute_reply": "2023-01-25T05:20:22.862139Z"
    },
    "papermill": {
     "duration": 0.035817,
     "end_time": "2023-01-25T05:20:22.865994",
     "exception": false,
     "start_time": "2023-01-25T05:20:22.830177",
     "status": "completed"
    },
    "tags": []
   },
   "outputs": [
    {
     "data": {
      "text/html": [
       "<div>\n",
       "<style scoped>\n",
       "    .dataframe tbody tr th:only-of-type {\n",
       "        vertical-align: middle;\n",
       "    }\n",
       "\n",
       "    .dataframe tbody tr th {\n",
       "        vertical-align: top;\n",
       "    }\n",
       "\n",
       "    .dataframe thead th {\n",
       "        text-align: right;\n",
       "    }\n",
       "</style>\n",
       "<table border=\"1\" class=\"dataframe\">\n",
       "  <thead>\n",
       "    <tr style=\"text-align: right;\">\n",
       "      <th></th>\n",
       "      <th>Rotation Speed (rpm)</th>\n",
       "      <th>Traverse speed (mm/min)</th>\n",
       "      <th>Traverse distance (mm)</th>\n",
       "      <th>Distance from Shoulder (mm)</th>\n",
       "      <th>Wear depth (average), mm</th>\n",
       "    </tr>\n",
       "  </thead>\n",
       "  <tbody>\n",
       "    <tr>\n",
       "      <th>0</th>\n",
       "      <td>800.0</td>\n",
       "      <td>30.0</td>\n",
       "      <td>300.0</td>\n",
       "      <td>0.0085</td>\n",
       "      <td>0.24410</td>\n",
       "    </tr>\n",
       "    <tr>\n",
       "      <th>1</th>\n",
       "      <td>800.0</td>\n",
       "      <td>30.0</td>\n",
       "      <td>300.0</td>\n",
       "      <td>0.3002</td>\n",
       "      <td>0.28615</td>\n",
       "    </tr>\n",
       "    <tr>\n",
       "      <th>2</th>\n",
       "      <td>800.0</td>\n",
       "      <td>30.0</td>\n",
       "      <td>300.0</td>\n",
       "      <td>0.6013</td>\n",
       "      <td>0.31900</td>\n",
       "    </tr>\n",
       "    <tr>\n",
       "      <th>3</th>\n",
       "      <td>800.0</td>\n",
       "      <td>30.0</td>\n",
       "      <td>300.0</td>\n",
       "      <td>0.9024</td>\n",
       "      <td>0.32855</td>\n",
       "    </tr>\n",
       "    <tr>\n",
       "      <th>4</th>\n",
       "      <td>800.0</td>\n",
       "      <td>30.0</td>\n",
       "      <td>300.0</td>\n",
       "      <td>1.2035</td>\n",
       "      <td>0.36115</td>\n",
       "    </tr>\n",
       "    <tr>\n",
       "      <th>...</th>\n",
       "      <td>...</td>\n",
       "      <td>...</td>\n",
       "      <td>...</td>\n",
       "      <td>...</td>\n",
       "      <td>...</td>\n",
       "    </tr>\n",
       "    <tr>\n",
       "      <th>232</th>\n",
       "      <td>1000.0</td>\n",
       "      <td>70.0</td>\n",
       "      <td>1000.0</td>\n",
       "      <td>1.5047</td>\n",
       "      <td>0.09340</td>\n",
       "    </tr>\n",
       "    <tr>\n",
       "      <th>233</th>\n",
       "      <td>1000.0</td>\n",
       "      <td>70.0</td>\n",
       "      <td>1000.0</td>\n",
       "      <td>1.8058</td>\n",
       "      <td>0.12350</td>\n",
       "    </tr>\n",
       "    <tr>\n",
       "      <th>234</th>\n",
       "      <td>1000.0</td>\n",
       "      <td>70.0</td>\n",
       "      <td>1000.0</td>\n",
       "      <td>2.1069</td>\n",
       "      <td>0.21920</td>\n",
       "    </tr>\n",
       "    <tr>\n",
       "      <th>235</th>\n",
       "      <td>1000.0</td>\n",
       "      <td>70.0</td>\n",
       "      <td>1000.0</td>\n",
       "      <td>2.4081</td>\n",
       "      <td>0.26215</td>\n",
       "    </tr>\n",
       "    <tr>\n",
       "      <th>236</th>\n",
       "      <td>1000.0</td>\n",
       "      <td>70.0</td>\n",
       "      <td>1000.0</td>\n",
       "      <td>2.7092</td>\n",
       "      <td>0.49955</td>\n",
       "    </tr>\n",
       "  </tbody>\n",
       "</table>\n",
       "<p>151 rows × 5 columns</p>\n",
       "</div>"
      ],
      "text/plain": [
       "     Rotation Speed (rpm)  Traverse speed (mm/min)  Traverse distance (mm)  \\\n",
       "0                   800.0                     30.0                   300.0   \n",
       "1                   800.0                     30.0                   300.0   \n",
       "2                   800.0                     30.0                   300.0   \n",
       "3                   800.0                     30.0                   300.0   \n",
       "4                   800.0                     30.0                   300.0   \n",
       "..                    ...                      ...                     ...   \n",
       "232                1000.0                     70.0                  1000.0   \n",
       "233                1000.0                     70.0                  1000.0   \n",
       "234                1000.0                     70.0                  1000.0   \n",
       "235                1000.0                     70.0                  1000.0   \n",
       "236                1000.0                     70.0                  1000.0   \n",
       "\n",
       "     Distance from Shoulder (mm)  Wear depth (average), mm  \n",
       "0                         0.0085                   0.24410  \n",
       "1                         0.3002                   0.28615  \n",
       "2                         0.6013                   0.31900  \n",
       "3                         0.9024                   0.32855  \n",
       "4                         1.2035                   0.36115  \n",
       "..                           ...                       ...  \n",
       "232                       1.5047                   0.09340  \n",
       "233                       1.8058                   0.12350  \n",
       "234                       2.1069                   0.21920  \n",
       "235                       2.4081                   0.26215  \n",
       "236                       2.7092                   0.49955  \n",
       "\n",
       "[151 rows x 5 columns]"
      ]
     },
     "execution_count": 12,
     "metadata": {},
     "output_type": "execute_result"
    }
   ],
   "source": [
    "df"
   ]
  },
  {
   "cell_type": "code",
   "execution_count": 13,
   "id": "cbfa4806",
   "metadata": {
    "execution": {
     "iopub.execute_input": "2023-01-25T05:20:22.895933Z",
     "iopub.status.busy": "2023-01-25T05:20:22.895500Z",
     "iopub.status.idle": "2023-01-25T05:20:22.902084Z",
     "shell.execute_reply": "2023-01-25T05:20:22.900805Z"
    },
    "papermill": {
     "duration": 0.024708,
     "end_time": "2023-01-25T05:20:22.904445",
     "exception": false,
     "start_time": "2023-01-25T05:20:22.879737",
     "status": "completed"
    },
    "tags": []
   },
   "outputs": [],
   "source": [
    "X = df[['Rotation Speed (rpm)', 'Traverse speed (mm/min)',\n",
    "       'Traverse distance (mm)', 'Distance from Shoulder (mm)']]\n",
    "y = df['Wear depth (average), mm']"
   ]
  },
  {
   "cell_type": "code",
   "execution_count": 14,
   "id": "d11a2084",
   "metadata": {
    "execution": {
     "iopub.execute_input": "2023-01-25T05:20:22.934997Z",
     "iopub.status.busy": "2023-01-25T05:20:22.933487Z",
     "iopub.status.idle": "2023-01-25T05:20:22.952216Z",
     "shell.execute_reply": "2023-01-25T05:20:22.951085Z"
    },
    "papermill": {
     "duration": 0.036269,
     "end_time": "2023-01-25T05:20:22.954699",
     "exception": false,
     "start_time": "2023-01-25T05:20:22.918430",
     "status": "completed"
    },
    "tags": []
   },
   "outputs": [
    {
     "data": {
      "text/html": [
       "<div>\n",
       "<style scoped>\n",
       "    .dataframe tbody tr th:only-of-type {\n",
       "        vertical-align: middle;\n",
       "    }\n",
       "\n",
       "    .dataframe tbody tr th {\n",
       "        vertical-align: top;\n",
       "    }\n",
       "\n",
       "    .dataframe thead th {\n",
       "        text-align: right;\n",
       "    }\n",
       "</style>\n",
       "<table border=\"1\" class=\"dataframe\">\n",
       "  <thead>\n",
       "    <tr style=\"text-align: right;\">\n",
       "      <th></th>\n",
       "      <th>Rotation Speed (rpm)</th>\n",
       "      <th>Traverse speed (mm/min)</th>\n",
       "      <th>Traverse distance (mm)</th>\n",
       "      <th>Distance from Shoulder (mm)</th>\n",
       "    </tr>\n",
       "  </thead>\n",
       "  <tbody>\n",
       "    <tr>\n",
       "      <th>0</th>\n",
       "      <td>800.0</td>\n",
       "      <td>30.0</td>\n",
       "      <td>300.0</td>\n",
       "      <td>0.0085</td>\n",
       "    </tr>\n",
       "    <tr>\n",
       "      <th>1</th>\n",
       "      <td>800.0</td>\n",
       "      <td>30.0</td>\n",
       "      <td>300.0</td>\n",
       "      <td>0.3002</td>\n",
       "    </tr>\n",
       "    <tr>\n",
       "      <th>2</th>\n",
       "      <td>800.0</td>\n",
       "      <td>30.0</td>\n",
       "      <td>300.0</td>\n",
       "      <td>0.6013</td>\n",
       "    </tr>\n",
       "    <tr>\n",
       "      <th>3</th>\n",
       "      <td>800.0</td>\n",
       "      <td>30.0</td>\n",
       "      <td>300.0</td>\n",
       "      <td>0.9024</td>\n",
       "    </tr>\n",
       "    <tr>\n",
       "      <th>4</th>\n",
       "      <td>800.0</td>\n",
       "      <td>30.0</td>\n",
       "      <td>300.0</td>\n",
       "      <td>1.2035</td>\n",
       "    </tr>\n",
       "    <tr>\n",
       "      <th>...</th>\n",
       "      <td>...</td>\n",
       "      <td>...</td>\n",
       "      <td>...</td>\n",
       "      <td>...</td>\n",
       "    </tr>\n",
       "    <tr>\n",
       "      <th>232</th>\n",
       "      <td>1000.0</td>\n",
       "      <td>70.0</td>\n",
       "      <td>1000.0</td>\n",
       "      <td>1.5047</td>\n",
       "    </tr>\n",
       "    <tr>\n",
       "      <th>233</th>\n",
       "      <td>1000.0</td>\n",
       "      <td>70.0</td>\n",
       "      <td>1000.0</td>\n",
       "      <td>1.8058</td>\n",
       "    </tr>\n",
       "    <tr>\n",
       "      <th>234</th>\n",
       "      <td>1000.0</td>\n",
       "      <td>70.0</td>\n",
       "      <td>1000.0</td>\n",
       "      <td>2.1069</td>\n",
       "    </tr>\n",
       "    <tr>\n",
       "      <th>235</th>\n",
       "      <td>1000.0</td>\n",
       "      <td>70.0</td>\n",
       "      <td>1000.0</td>\n",
       "      <td>2.4081</td>\n",
       "    </tr>\n",
       "    <tr>\n",
       "      <th>236</th>\n",
       "      <td>1000.0</td>\n",
       "      <td>70.0</td>\n",
       "      <td>1000.0</td>\n",
       "      <td>2.7092</td>\n",
       "    </tr>\n",
       "  </tbody>\n",
       "</table>\n",
       "<p>151 rows × 4 columns</p>\n",
       "</div>"
      ],
      "text/plain": [
       "     Rotation Speed (rpm)  Traverse speed (mm/min)  Traverse distance (mm)  \\\n",
       "0                   800.0                     30.0                   300.0   \n",
       "1                   800.0                     30.0                   300.0   \n",
       "2                   800.0                     30.0                   300.0   \n",
       "3                   800.0                     30.0                   300.0   \n",
       "4                   800.0                     30.0                   300.0   \n",
       "..                    ...                      ...                     ...   \n",
       "232                1000.0                     70.0                  1000.0   \n",
       "233                1000.0                     70.0                  1000.0   \n",
       "234                1000.0                     70.0                  1000.0   \n",
       "235                1000.0                     70.0                  1000.0   \n",
       "236                1000.0                     70.0                  1000.0   \n",
       "\n",
       "     Distance from Shoulder (mm)  \n",
       "0                         0.0085  \n",
       "1                         0.3002  \n",
       "2                         0.6013  \n",
       "3                         0.9024  \n",
       "4                         1.2035  \n",
       "..                           ...  \n",
       "232                       1.5047  \n",
       "233                       1.8058  \n",
       "234                       2.1069  \n",
       "235                       2.4081  \n",
       "236                       2.7092  \n",
       "\n",
       "[151 rows x 4 columns]"
      ]
     },
     "execution_count": 14,
     "metadata": {},
     "output_type": "execute_result"
    }
   ],
   "source": [
    "X"
   ]
  },
  {
   "cell_type": "markdown",
   "id": "928556b1",
   "metadata": {
    "papermill": {
     "duration": 0.013413,
     "end_time": "2023-01-25T05:20:22.982127",
     "exception": false,
     "start_time": "2023-01-25T05:20:22.968714",
     "status": "completed"
    },
    "tags": []
   },
   "source": [
    "# Regression and others"
   ]
  },
  {
   "cell_type": "markdown",
   "id": "b727ba3c",
   "metadata": {
    "papermill": {
     "duration": 0.01395,
     "end_time": "2023-01-25T05:20:23.010025",
     "exception": false,
     "start_time": "2023-01-25T05:20:22.996075",
     "status": "completed"
    },
    "tags": []
   },
   "source": [
    "# SVM"
   ]
  },
  {
   "cell_type": "code",
   "execution_count": 15,
   "id": "d927f728",
   "metadata": {
    "execution": {
     "iopub.execute_input": "2023-01-25T05:20:23.039637Z",
     "iopub.status.busy": "2023-01-25T05:20:23.038884Z",
     "iopub.status.idle": "2023-01-25T05:20:23.044511Z",
     "shell.execute_reply": "2023-01-25T05:20:23.043354Z"
    },
    "papermill": {
     "duration": 0.022914,
     "end_time": "2023-01-25T05:20:23.046686",
     "exception": false,
     "start_time": "2023-01-25T05:20:23.023772",
     "status": "completed"
    },
    "tags": []
   },
   "outputs": [],
   "source": [
    "from sklearn.svm import SVR\n",
    "from sklearn.metrics import accuracy_score\n",
    "from sklearn.model_selection import train_test_split\n",
    "from sklearn import preprocessing\n",
    "from sklearn.metrics import mean_squared_error"
   ]
  },
  {
   "cell_type": "code",
   "execution_count": 16,
   "id": "7b090c1c",
   "metadata": {
    "execution": {
     "iopub.execute_input": "2023-01-25T05:20:23.076209Z",
     "iopub.status.busy": "2023-01-25T05:20:23.075765Z",
     "iopub.status.idle": "2023-01-25T05:20:23.082925Z",
     "shell.execute_reply": "2023-01-25T05:20:23.081627Z"
    },
    "papermill": {
     "duration": 0.02493,
     "end_time": "2023-01-25T05:20:23.085311",
     "exception": false,
     "start_time": "2023-01-25T05:20:23.060381",
     "status": "completed"
    },
    "tags": []
   },
   "outputs": [],
   "source": [
    "X_train, X_test, y_train, y_test = train_test_split(X, y, test_size=0.2, random_state=42)"
   ]
  },
  {
   "cell_type": "code",
   "execution_count": 17,
   "id": "becfa12b",
   "metadata": {
    "execution": {
     "iopub.execute_input": "2023-01-25T05:20:23.115270Z",
     "iopub.status.busy": "2023-01-25T05:20:23.114822Z",
     "iopub.status.idle": "2023-01-25T05:20:23.120728Z",
     "shell.execute_reply": "2023-01-25T05:20:23.119506Z"
    },
    "papermill": {
     "duration": 0.023732,
     "end_time": "2023-01-25T05:20:23.122929",
     "exception": false,
     "start_time": "2023-01-25T05:20:23.099197",
     "status": "completed"
    },
    "tags": []
   },
   "outputs": [],
   "source": [
    "lab = preprocessing.LabelEncoder()\n",
    "y_transformed = lab.fit_transform(y_train)"
   ]
  },
  {
   "cell_type": "code",
   "execution_count": 18,
   "id": "abf9cd74",
   "metadata": {
    "execution": {
     "iopub.execute_input": "2023-01-25T05:20:23.152416Z",
     "iopub.status.busy": "2023-01-25T05:20:23.151932Z",
     "iopub.status.idle": "2023-01-25T05:20:23.164105Z",
     "shell.execute_reply": "2023-01-25T05:20:23.163213Z"
    },
    "papermill": {
     "duration": 0.029379,
     "end_time": "2023-01-25T05:20:23.166243",
     "exception": false,
     "start_time": "2023-01-25T05:20:23.136864",
     "status": "completed"
    },
    "tags": []
   },
   "outputs": [
    {
     "data": {
      "text/plain": [
       "SVR()"
      ]
     },
     "execution_count": 18,
     "metadata": {},
     "output_type": "execute_result"
    }
   ],
   "source": [
    "svm = SVR()\n",
    "svm.fit(X_train, y_train)"
   ]
  },
  {
   "cell_type": "code",
   "execution_count": 19,
   "id": "a096e151",
   "metadata": {
    "execution": {
     "iopub.execute_input": "2023-01-25T05:20:23.196099Z",
     "iopub.status.busy": "2023-01-25T05:20:23.195658Z",
     "iopub.status.idle": "2023-01-25T05:20:23.202816Z",
     "shell.execute_reply": "2023-01-25T05:20:23.201783Z"
    },
    "papermill": {
     "duration": 0.025053,
     "end_time": "2023-01-25T05:20:23.205218",
     "exception": false,
     "start_time": "2023-01-25T05:20:23.180165",
     "status": "completed"
    },
    "tags": []
   },
   "outputs": [],
   "source": [
    "y_pred = svm.predict(X_test)"
   ]
  },
  {
   "cell_type": "code",
   "execution_count": 20,
   "id": "96c7f8e5",
   "metadata": {
    "execution": {
     "iopub.execute_input": "2023-01-25T05:20:23.235253Z",
     "iopub.status.busy": "2023-01-25T05:20:23.234799Z",
     "iopub.status.idle": "2023-01-25T05:20:23.241232Z",
     "shell.execute_reply": "2023-01-25T05:20:23.240435Z"
    },
    "papermill": {
     "duration": 0.024788,
     "end_time": "2023-01-25T05:20:23.243898",
     "exception": false,
     "start_time": "2023-01-25T05:20:23.219110",
     "status": "completed"
    },
    "tags": []
   },
   "outputs": [
    {
     "name": "stdout",
     "output_type": "stream",
     "text": [
      "Mean Squared Error: 0.019051303451814054\n"
     ]
    }
   ],
   "source": [
    "mse = mean_squared_error(y_test, y_pred)\n",
    "print(\"Mean Squared Error:\", mse)"
   ]
  },
  {
   "cell_type": "markdown",
   "id": "aa306b98",
   "metadata": {
    "papermill": {
     "duration": 0.013426,
     "end_time": "2023-01-25T05:20:23.271216",
     "exception": false,
     "start_time": "2023-01-25T05:20:23.257790",
     "status": "completed"
    },
    "tags": []
   },
   "source": [
    "# KNN "
   ]
  },
  {
   "cell_type": "code",
   "execution_count": 21,
   "id": "da7a8e00",
   "metadata": {
    "execution": {
     "iopub.execute_input": "2023-01-25T05:20:23.300939Z",
     "iopub.status.busy": "2023-01-25T05:20:23.300507Z",
     "iopub.status.idle": "2023-01-25T05:20:23.355060Z",
     "shell.execute_reply": "2023-01-25T05:20:23.353906Z"
    },
    "papermill": {
     "duration": 0.072739,
     "end_time": "2023-01-25T05:20:23.357870",
     "exception": false,
     "start_time": "2023-01-25T05:20:23.285131",
     "status": "completed"
    },
    "tags": []
   },
   "outputs": [],
   "source": [
    "from sklearn.neighbors import KNeighborsRegressor\n",
    "from sklearn.model_selection import train_test_split\n",
    "from sklearn.metrics import mean_squared_error"
   ]
  },
  {
   "cell_type": "code",
   "execution_count": 22,
   "id": "425c0d4d",
   "metadata": {
    "execution": {
     "iopub.execute_input": "2023-01-25T05:20:23.388360Z",
     "iopub.status.busy": "2023-01-25T05:20:23.387908Z",
     "iopub.status.idle": "2023-01-25T05:20:23.395271Z",
     "shell.execute_reply": "2023-01-25T05:20:23.394233Z"
    },
    "papermill": {
     "duration": 0.025605,
     "end_time": "2023-01-25T05:20:23.397654",
     "exception": false,
     "start_time": "2023-01-25T05:20:23.372049",
     "status": "completed"
    },
    "tags": []
   },
   "outputs": [],
   "source": [
    "X_train, X_test, y_train, y_test = train_test_split(X, y, test_size=0.2, random_state=42)"
   ]
  },
  {
   "cell_type": "code",
   "execution_count": 23,
   "id": "902015b5",
   "metadata": {
    "execution": {
     "iopub.execute_input": "2023-01-25T05:20:23.427507Z",
     "iopub.status.busy": "2023-01-25T05:20:23.427019Z",
     "iopub.status.idle": "2023-01-25T05:20:23.437818Z",
     "shell.execute_reply": "2023-01-25T05:20:23.436421Z"
    },
    "papermill": {
     "duration": 0.028465,
     "end_time": "2023-01-25T05:20:23.440221",
     "exception": false,
     "start_time": "2023-01-25T05:20:23.411756",
     "status": "completed"
    },
    "tags": []
   },
   "outputs": [
    {
     "data": {
      "text/plain": [
       "KNeighborsRegressor(n_neighbors=3)"
      ]
     },
     "execution_count": 23,
     "metadata": {},
     "output_type": "execute_result"
    }
   ],
   "source": [
    "knn = KNeighborsRegressor(n_neighbors=3)\n",
    "knn.fit(X_train, y_train)"
   ]
  },
  {
   "cell_type": "code",
   "execution_count": 24,
   "id": "8fcf422a",
   "metadata": {
    "execution": {
     "iopub.execute_input": "2023-01-25T05:20:23.470190Z",
     "iopub.status.busy": "2023-01-25T05:20:23.469738Z",
     "iopub.status.idle": "2023-01-25T05:20:23.478215Z",
     "shell.execute_reply": "2023-01-25T05:20:23.477006Z"
    },
    "papermill": {
     "duration": 0.026589,
     "end_time": "2023-01-25T05:20:23.480847",
     "exception": false,
     "start_time": "2023-01-25T05:20:23.454258",
     "status": "completed"
    },
    "tags": []
   },
   "outputs": [],
   "source": [
    "y_pred = knn.predict(X_test)"
   ]
  },
  {
   "cell_type": "code",
   "execution_count": 25,
   "id": "160ce27e",
   "metadata": {
    "execution": {
     "iopub.execute_input": "2023-01-25T05:20:23.511764Z",
     "iopub.status.busy": "2023-01-25T05:20:23.511338Z",
     "iopub.status.idle": "2023-01-25T05:20:23.517407Z",
     "shell.execute_reply": "2023-01-25T05:20:23.516321Z"
    },
    "papermill": {
     "duration": 0.025561,
     "end_time": "2023-01-25T05:20:23.520888",
     "exception": false,
     "start_time": "2023-01-25T05:20:23.495327",
     "status": "completed"
    },
    "tags": []
   },
   "outputs": [
    {
     "name": "stdout",
     "output_type": "stream",
     "text": [
      "Mean Squared Error: 0.0038314655465949816\n"
     ]
    }
   ],
   "source": [
    "mse = mean_squared_error(y_test, y_pred)\n",
    "print(\"Mean Squared Error:\", mse)"
   ]
  },
  {
   "cell_type": "markdown",
   "id": "f8b519e6",
   "metadata": {
    "papermill": {
     "duration": 0.013793,
     "end_time": "2023-01-25T05:20:23.550011",
     "exception": false,
     "start_time": "2023-01-25T05:20:23.536218",
     "status": "completed"
    },
    "tags": []
   },
   "source": [
    "# Simple ANN using Tensorflow"
   ]
  },
  {
   "cell_type": "code",
   "execution_count": 26,
   "id": "394a1be2",
   "metadata": {
    "execution": {
     "iopub.execute_input": "2023-01-25T05:20:23.579996Z",
     "iopub.status.busy": "2023-01-25T05:20:23.579547Z",
     "iopub.status.idle": "2023-01-25T05:20:23.586632Z",
     "shell.execute_reply": "2023-01-25T05:20:23.585241Z"
    },
    "papermill": {
     "duration": 0.024972,
     "end_time": "2023-01-25T05:20:23.589005",
     "exception": false,
     "start_time": "2023-01-25T05:20:23.564033",
     "status": "completed"
    },
    "tags": []
   },
   "outputs": [],
   "source": [
    "train_x = df[['Rotation Speed (rpm)', 'Traverse speed (mm/min)',\n",
    "       'Traverse distance (mm)', 'Distance from Shoulder (mm)']]\n",
    "train_y = df['Wear depth (average), mm']"
   ]
  },
  {
   "cell_type": "code",
   "execution_count": 27,
   "id": "a4933cd4",
   "metadata": {
    "execution": {
     "iopub.execute_input": "2023-01-25T05:20:23.620649Z",
     "iopub.status.busy": "2023-01-25T05:20:23.619469Z",
     "iopub.status.idle": "2023-01-25T05:20:23.625157Z",
     "shell.execute_reply": "2023-01-25T05:20:23.624035Z"
    },
    "papermill": {
     "duration": 0.024238,
     "end_time": "2023-01-25T05:20:23.627574",
     "exception": false,
     "start_time": "2023-01-25T05:20:23.603336",
     "status": "completed"
    },
    "tags": []
   },
   "outputs": [],
   "source": [
    "from sklearn.model_selection import train_test_split\n",
    "from sklearn.metrics import mean_squared_error"
   ]
  },
  {
   "cell_type": "code",
   "execution_count": 28,
   "id": "812841af",
   "metadata": {
    "execution": {
     "iopub.execute_input": "2023-01-25T05:20:23.657884Z",
     "iopub.status.busy": "2023-01-25T05:20:23.657419Z",
     "iopub.status.idle": "2023-01-25T05:20:23.664611Z",
     "shell.execute_reply": "2023-01-25T05:20:23.663397Z"
    },
    "papermill": {
     "duration": 0.024929,
     "end_time": "2023-01-25T05:20:23.666766",
     "exception": false,
     "start_time": "2023-01-25T05:20:23.641837",
     "status": "completed"
    },
    "tags": []
   },
   "outputs": [],
   "source": [
    "X_train, X_test, y_train, y_test = train_test_split(X, y, test_size=0.2, random_state=42)"
   ]
  },
  {
   "cell_type": "code",
   "execution_count": 29,
   "id": "75b63ab1",
   "metadata": {
    "execution": {
     "iopub.execute_input": "2023-01-25T05:20:23.697194Z",
     "iopub.status.busy": "2023-01-25T05:20:23.696382Z",
     "iopub.status.idle": "2023-01-25T05:20:23.844231Z",
     "shell.execute_reply": "2023-01-25T05:20:23.843369Z"
    },
    "papermill": {
     "duration": 0.16679,
     "end_time": "2023-01-25T05:20:23.847778",
     "exception": false,
     "start_time": "2023-01-25T05:20:23.680988",
     "status": "completed"
    },
    "tags": []
   },
   "outputs": [
    {
     "name": "stderr",
     "output_type": "stream",
     "text": [
      "2023-01-25 05:20:23.743086: I tensorflow/core/common_runtime/process_util.cc:146] Creating new thread pool with default inter op setting: 2. Tune using inter_op_parallelism_threads for best performance.\n"
     ]
    }
   ],
   "source": [
    "model = Sequential()\n",
    "\n",
    "model.add(Dense(81, input_shape=(4,), activation='relu'))\n",
    "model.add(Dense(27, activation='relu'))\n",
    "model.add(Dense(9, activation='relu'))\n",
    "model.add(Dense(3, activation='relu'))\n",
    "model.add(Dense(1))"
   ]
  },
  {
   "cell_type": "code",
   "execution_count": 30,
   "id": "5da9728e",
   "metadata": {
    "execution": {
     "iopub.execute_input": "2023-01-25T05:20:23.889090Z",
     "iopub.status.busy": "2023-01-25T05:20:23.887990Z",
     "iopub.status.idle": "2023-01-25T05:20:29.741668Z",
     "shell.execute_reply": "2023-01-25T05:20:29.740356Z"
    },
    "papermill": {
     "duration": 5.873305,
     "end_time": "2023-01-25T05:20:29.744991",
     "exception": false,
     "start_time": "2023-01-25T05:20:23.871686",
     "status": "completed"
    },
    "tags": []
   },
   "outputs": [
    {
     "name": "stderr",
     "output_type": "stream",
     "text": [
      "2023-01-25 05:20:23.996208: I tensorflow/compiler/mlir/mlir_graph_optimization_pass.cc:185] None of the MLIR Optimization Passes are enabled (registered 2)\n"
     ]
    },
    {
     "name": "stdout",
     "output_type": "stream",
     "text": [
      "Epoch 1/180\n",
      "4/4 [==============================] - 1s 4ms/step - loss: 9562.6074\n",
      "Epoch 2/180\n",
      "4/4 [==============================] - 0s 3ms/step - loss: 3203.0349\n",
      "Epoch 3/180\n",
      "4/4 [==============================] - 0s 3ms/step - loss: 1436.4004\n",
      "Epoch 4/180\n",
      "4/4 [==============================] - 0s 3ms/step - loss: 657.9343\n",
      "Epoch 5/180\n",
      "4/4 [==============================] - 0s 4ms/step - loss: 260.5940\n",
      "Epoch 6/180\n",
      "4/4 [==============================] - 0s 3ms/step - loss: 91.6517\n",
      "Epoch 7/180\n",
      "4/4 [==============================] - 0s 3ms/step - loss: 38.4685\n",
      "Epoch 8/180\n",
      "4/4 [==============================] - 0s 2ms/step - loss: 26.4420\n",
      "Epoch 9/180\n",
      "4/4 [==============================] - 0s 2ms/step - loss: 23.0228\n",
      "Epoch 10/180\n",
      "4/4 [==============================] - 0s 3ms/step - loss: 20.5020\n",
      "Epoch 11/180\n",
      "4/4 [==============================] - 0s 3ms/step - loss: 18.6007\n",
      "Epoch 12/180\n",
      "4/4 [==============================] - 0s 2ms/step - loss: 17.1340\n",
      "Epoch 13/180\n",
      "4/4 [==============================] - 0s 3ms/step - loss: 15.8511\n",
      "Epoch 14/180\n",
      "4/4 [==============================] - 0s 2ms/step - loss: 14.6907\n",
      "Epoch 15/180\n",
      "4/4 [==============================] - 0s 3ms/step - loss: 13.6544\n",
      "Epoch 16/180\n",
      "4/4 [==============================] - 0s 3ms/step - loss: 12.6854\n",
      "Epoch 17/180\n",
      "4/4 [==============================] - 0s 2ms/step - loss: 11.7918\n",
      "Epoch 18/180\n",
      "4/4 [==============================] - 0s 3ms/step - loss: 10.9484\n",
      "Epoch 19/180\n",
      "4/4 [==============================] - 0s 3ms/step - loss: 10.1584\n",
      "Epoch 20/180\n",
      "4/4 [==============================] - 0s 3ms/step - loss: 9.3778\n",
      "Epoch 21/180\n",
      "4/4 [==============================] - 0s 3ms/step - loss: 8.6560\n",
      "Epoch 22/180\n",
      "4/4 [==============================] - 0s 3ms/step - loss: 7.9589\n",
      "Epoch 23/180\n",
      "4/4 [==============================] - 0s 3ms/step - loss: 7.2933\n",
      "Epoch 24/180\n",
      "4/4 [==============================] - 0s 3ms/step - loss: 6.6636\n",
      "Epoch 25/180\n",
      "4/4 [==============================] - 0s 2ms/step - loss: 6.0570\n",
      "Epoch 26/180\n",
      "4/4 [==============================] - 0s 3ms/step - loss: 5.5009\n",
      "Epoch 27/180\n",
      "4/4 [==============================] - 0s 2ms/step - loss: 4.9675\n",
      "Epoch 28/180\n",
      "4/4 [==============================] - 0s 2ms/step - loss: 4.4773\n",
      "Epoch 29/180\n",
      "4/4 [==============================] - 0s 2ms/step - loss: 4.0112\n",
      "Epoch 30/180\n",
      "4/4 [==============================] - 0s 3ms/step - loss: 3.5817\n",
      "Epoch 31/180\n",
      "4/4 [==============================] - 0s 2ms/step - loss: 3.1913\n",
      "Epoch 32/180\n",
      "4/4 [==============================] - 0s 3ms/step - loss: 2.8298\n",
      "Epoch 33/180\n",
      "4/4 [==============================] - 0s 3ms/step - loss: 2.5072\n",
      "Epoch 34/180\n",
      "4/4 [==============================] - 0s 3ms/step - loss: 2.2128\n",
      "Epoch 35/180\n",
      "4/4 [==============================] - 0s 2ms/step - loss: 1.9509\n",
      "Epoch 36/180\n",
      "4/4 [==============================] - 0s 2ms/step - loss: 1.7127\n",
      "Epoch 37/180\n",
      "4/4 [==============================] - 0s 2ms/step - loss: 1.5004\n",
      "Epoch 38/180\n",
      "4/4 [==============================] - 0s 3ms/step - loss: 1.3183\n",
      "Epoch 39/180\n",
      "4/4 [==============================] - 0s 2ms/step - loss: 1.1655\n",
      "Epoch 40/180\n",
      "4/4 [==============================] - 0s 2ms/step - loss: 1.0253\n",
      "Epoch 41/180\n",
      "4/4 [==============================] - 0s 3ms/step - loss: 0.9002\n",
      "Epoch 42/180\n",
      "4/4 [==============================] - 0s 3ms/step - loss: 0.7940\n",
      "Epoch 43/180\n",
      "4/4 [==============================] - 0s 3ms/step - loss: 0.7009\n",
      "Epoch 44/180\n",
      "4/4 [==============================] - 0s 3ms/step - loss: 0.6171\n",
      "Epoch 45/180\n",
      "4/4 [==============================] - 0s 3ms/step - loss: 0.5451\n",
      "Epoch 46/180\n",
      "4/4 [==============================] - 0s 3ms/step - loss: 0.4850\n",
      "Epoch 47/180\n",
      "4/4 [==============================] - 0s 3ms/step - loss: 0.4321\n",
      "Epoch 48/180\n",
      "4/4 [==============================] - 0s 2ms/step - loss: 0.3864\n",
      "Epoch 49/180\n",
      "4/4 [==============================] - 0s 3ms/step - loss: 0.3471\n",
      "Epoch 50/180\n",
      "4/4 [==============================] - 0s 3ms/step - loss: 0.3126\n",
      "Epoch 51/180\n",
      "4/4 [==============================] - 0s 3ms/step - loss: 0.2815\n",
      "Epoch 52/180\n",
      "4/4 [==============================] - 0s 3ms/step - loss: 0.2543\n",
      "Epoch 53/180\n",
      "4/4 [==============================] - 0s 3ms/step - loss: 0.2305\n",
      "Epoch 54/180\n",
      "4/4 [==============================] - 0s 2ms/step - loss: 0.2081\n",
      "Epoch 55/180\n",
      "4/4 [==============================] - 0s 3ms/step - loss: 0.1893\n",
      "Epoch 56/180\n",
      "4/4 [==============================] - 0s 3ms/step - loss: 0.1740\n",
      "Epoch 57/180\n",
      "4/4 [==============================] - 0s 3ms/step - loss: 0.1621\n",
      "Epoch 58/180\n",
      "4/4 [==============================] - 0s 3ms/step - loss: 0.1519\n",
      "Epoch 59/180\n",
      "4/4 [==============================] - 0s 3ms/step - loss: 0.1430\n",
      "Epoch 60/180\n",
      "4/4 [==============================] - 0s 2ms/step - loss: 0.1351\n",
      "Epoch 61/180\n",
      "4/4 [==============================] - 0s 2ms/step - loss: 0.1286\n",
      "Epoch 62/180\n",
      "4/4 [==============================] - 0s 2ms/step - loss: 0.1226\n",
      "Epoch 63/180\n",
      "4/4 [==============================] - 0s 2ms/step - loss: 0.1167\n",
      "Epoch 64/180\n",
      "4/4 [==============================] - 0s 3ms/step - loss: 0.1119\n",
      "Epoch 65/180\n",
      "4/4 [==============================] - 0s 3ms/step - loss: 0.1069\n",
      "Epoch 66/180\n",
      "4/4 [==============================] - 0s 3ms/step - loss: 0.1027\n",
      "Epoch 67/180\n",
      "4/4 [==============================] - 0s 3ms/step - loss: 0.0992\n",
      "Epoch 68/180\n",
      "4/4 [==============================] - 0s 3ms/step - loss: 0.0963\n",
      "Epoch 69/180\n",
      "4/4 [==============================] - 0s 3ms/step - loss: 0.0941\n",
      "Epoch 70/180\n",
      "4/4 [==============================] - 0s 2ms/step - loss: 0.0923\n",
      "Epoch 71/180\n",
      "4/4 [==============================] - 0s 2ms/step - loss: 0.0914\n",
      "Epoch 72/180\n",
      "4/4 [==============================] - 0s 2ms/step - loss: 0.0911\n",
      "Epoch 73/180\n",
      "4/4 [==============================] - 0s 2ms/step - loss: 0.0909\n",
      "Epoch 74/180\n",
      "4/4 [==============================] - 0s 3ms/step - loss: 0.0906\n",
      "Epoch 75/180\n",
      "4/4 [==============================] - 0s 3ms/step - loss: 0.0903\n",
      "Epoch 76/180\n",
      "4/4 [==============================] - 0s 3ms/step - loss: 0.0897\n",
      "Epoch 77/180\n",
      "4/4 [==============================] - 0s 2ms/step - loss: 0.0895\n",
      "Epoch 78/180\n",
      "4/4 [==============================] - 0s 3ms/step - loss: 0.0894\n",
      "Epoch 79/180\n",
      "4/4 [==============================] - 0s 3ms/step - loss: 0.0892\n",
      "Epoch 80/180\n",
      "4/4 [==============================] - 0s 2ms/step - loss: 0.0890\n",
      "Epoch 81/180\n",
      "4/4 [==============================] - 0s 3ms/step - loss: 0.0888\n",
      "Epoch 82/180\n",
      "4/4 [==============================] - 0s 3ms/step - loss: 0.0885\n",
      "Epoch 83/180\n",
      "4/4 [==============================] - 0s 3ms/step - loss: 0.0882\n",
      "Epoch 84/180\n",
      "4/4 [==============================] - 0s 3ms/step - loss: 0.0880\n",
      "Epoch 85/180\n",
      "4/4 [==============================] - 0s 3ms/step - loss: 0.0878\n",
      "Epoch 86/180\n",
      "4/4 [==============================] - 0s 3ms/step - loss: 0.0876\n",
      "Epoch 87/180\n",
      "4/4 [==============================] - 0s 3ms/step - loss: 0.0874\n",
      "Epoch 88/180\n",
      "4/4 [==============================] - 0s 3ms/step - loss: 0.0871\n",
      "Epoch 89/180\n",
      "4/4 [==============================] - 0s 3ms/step - loss: 0.0869\n",
      "Epoch 90/180\n",
      "4/4 [==============================] - 0s 3ms/step - loss: 0.0867\n",
      "Epoch 91/180\n",
      "4/4 [==============================] - 0s 3ms/step - loss: 0.0865\n",
      "Epoch 92/180\n",
      "4/4 [==============================] - 0s 3ms/step - loss: 0.0863\n",
      "Epoch 93/180\n",
      "4/4 [==============================] - 0s 3ms/step - loss: 0.0861\n",
      "Epoch 94/180\n",
      "4/4 [==============================] - 0s 3ms/step - loss: 0.0859\n",
      "Epoch 95/180\n",
      "4/4 [==============================] - 0s 3ms/step - loss: 0.0857\n",
      "Epoch 96/180\n",
      "4/4 [==============================] - 0s 3ms/step - loss: 0.0854\n",
      "Epoch 97/180\n",
      "4/4 [==============================] - 0s 3ms/step - loss: 0.0852\n",
      "Epoch 98/180\n",
      "4/4 [==============================] - 0s 2ms/step - loss: 0.0850\n",
      "Epoch 99/180\n",
      "4/4 [==============================] - 0s 3ms/step - loss: 0.0848\n",
      "Epoch 100/180\n",
      "4/4 [==============================] - 0s 3ms/step - loss: 0.0846\n",
      "Epoch 101/180\n",
      "4/4 [==============================] - 0s 3ms/step - loss: 0.0843\n",
      "Epoch 102/180\n",
      "4/4 [==============================] - 0s 3ms/step - loss: 0.0841\n",
      "Epoch 103/180\n",
      "4/4 [==============================] - 0s 3ms/step - loss: 0.0839\n",
      "Epoch 104/180\n",
      "4/4 [==============================] - 0s 3ms/step - loss: 0.0837\n",
      "Epoch 105/180\n",
      "4/4 [==============================] - 0s 3ms/step - loss: 0.0835\n",
      "Epoch 106/180\n",
      "4/4 [==============================] - 0s 2ms/step - loss: 0.0832\n",
      "Epoch 107/180\n",
      "4/4 [==============================] - 0s 3ms/step - loss: 0.0830\n",
      "Epoch 108/180\n",
      "4/4 [==============================] - 0s 3ms/step - loss: 0.0828\n",
      "Epoch 109/180\n",
      "4/4 [==============================] - 0s 3ms/step - loss: 0.0826\n",
      "Epoch 110/180\n",
      "4/4 [==============================] - 0s 3ms/step - loss: 0.0824\n",
      "Epoch 111/180\n",
      "4/4 [==============================] - 0s 3ms/step - loss: 0.0822\n",
      "Epoch 112/180\n",
      "4/4 [==============================] - 0s 3ms/step - loss: 0.0819\n",
      "Epoch 113/180\n",
      "4/4 [==============================] - 0s 2ms/step - loss: 0.0817\n",
      "Epoch 114/180\n",
      "4/4 [==============================] - 0s 3ms/step - loss: 0.0815\n",
      "Epoch 115/180\n",
      "4/4 [==============================] - 0s 3ms/step - loss: 0.0812\n",
      "Epoch 116/180\n",
      "4/4 [==============================] - 0s 3ms/step - loss: 0.0810\n",
      "Epoch 117/180\n",
      "4/4 [==============================] - 0s 3ms/step - loss: 0.0808\n",
      "Epoch 118/180\n",
      "4/4 [==============================] - 0s 3ms/step - loss: 0.0806\n",
      "Epoch 119/180\n",
      "4/4 [==============================] - 0s 3ms/step - loss: 0.0803\n",
      "Epoch 120/180\n",
      "4/4 [==============================] - 0s 3ms/step - loss: 0.0801\n",
      "Epoch 121/180\n",
      "4/4 [==============================] - 0s 3ms/step - loss: 0.0799\n",
      "Epoch 122/180\n",
      "4/4 [==============================] - 0s 3ms/step - loss: 0.0797\n",
      "Epoch 123/180\n",
      "4/4 [==============================] - 0s 3ms/step - loss: 0.0794\n",
      "Epoch 124/180\n",
      "4/4 [==============================] - 0s 3ms/step - loss: 0.0792\n",
      "Epoch 125/180\n",
      "4/4 [==============================] - 0s 3ms/step - loss: 0.0790\n",
      "Epoch 126/180\n",
      "4/4 [==============================] - 0s 3ms/step - loss: 0.0787\n",
      "Epoch 127/180\n",
      "4/4 [==============================] - 0s 3ms/step - loss: 0.0785\n",
      "Epoch 128/180\n",
      "4/4 [==============================] - 0s 3ms/step - loss: 0.0783\n",
      "Epoch 129/180\n",
      "4/4 [==============================] - 0s 3ms/step - loss: 0.0781\n",
      "Epoch 130/180\n",
      "4/4 [==============================] - 0s 3ms/step - loss: 0.0778\n",
      "Epoch 131/180\n",
      "4/4 [==============================] - 0s 3ms/step - loss: 0.0776\n",
      "Epoch 132/180\n",
      "4/4 [==============================] - 0s 3ms/step - loss: 0.0774\n",
      "Epoch 133/180\n",
      "4/4 [==============================] - 0s 3ms/step - loss: 0.0771\n",
      "Epoch 134/180\n",
      "4/4 [==============================] - 0s 3ms/step - loss: 0.0769\n",
      "Epoch 135/180\n",
      "4/4 [==============================] - 0s 3ms/step - loss: 0.0767\n",
      "Epoch 136/180\n",
      "4/4 [==============================] - 0s 3ms/step - loss: 0.0765\n",
      "Epoch 137/180\n",
      "4/4 [==============================] - 0s 3ms/step - loss: 0.0763\n",
      "Epoch 138/180\n",
      "4/4 [==============================] - 0s 3ms/step - loss: 0.0760\n",
      "Epoch 139/180\n",
      "4/4 [==============================] - 0s 3ms/step - loss: 0.0758\n",
      "Epoch 140/180\n",
      "4/4 [==============================] - 0s 3ms/step - loss: 0.0756\n",
      "Epoch 141/180\n",
      "4/4 [==============================] - 0s 3ms/step - loss: 0.0753\n",
      "Epoch 142/180\n",
      "4/4 [==============================] - 0s 3ms/step - loss: 0.0751\n",
      "Epoch 143/180\n",
      "4/4 [==============================] - 0s 3ms/step - loss: 0.0749\n",
      "Epoch 144/180\n",
      "4/4 [==============================] - 0s 3ms/step - loss: 0.0746\n",
      "Epoch 145/180\n",
      "4/4 [==============================] - 0s 3ms/step - loss: 0.0744\n",
      "Epoch 146/180\n",
      "4/4 [==============================] - 0s 3ms/step - loss: 0.0742\n",
      "Epoch 147/180\n",
      "4/4 [==============================] - 0s 2ms/step - loss: 0.0740\n",
      "Epoch 148/180\n",
      "4/4 [==============================] - 0s 3ms/step - loss: 0.0737\n",
      "Epoch 149/180\n",
      "4/4 [==============================] - 0s 3ms/step - loss: 0.0735\n",
      "Epoch 150/180\n",
      "4/4 [==============================] - 0s 2ms/step - loss: 0.0733\n",
      "Epoch 151/180\n",
      "4/4 [==============================] - 0s 3ms/step - loss: 0.0731\n",
      "Epoch 152/180\n",
      "4/4 [==============================] - 0s 2ms/step - loss: 0.0728\n",
      "Epoch 153/180\n",
      "4/4 [==============================] - 0s 3ms/step - loss: 0.0726\n",
      "Epoch 154/180\n",
      "4/4 [==============================] - 0s 3ms/step - loss: 0.0724\n",
      "Epoch 155/180\n",
      "4/4 [==============================] - 0s 3ms/step - loss: 0.0721\n",
      "Epoch 156/180\n",
      "4/4 [==============================] - 0s 3ms/step - loss: 0.0719\n",
      "Epoch 157/180\n",
      "4/4 [==============================] - 0s 2ms/step - loss: 0.0717\n",
      "Epoch 158/180\n",
      "4/4 [==============================] - 0s 3ms/step - loss: 0.0715\n",
      "Epoch 159/180\n",
      "4/4 [==============================] - 0s 3ms/step - loss: 0.0712\n",
      "Epoch 160/180\n",
      "4/4 [==============================] - 0s 4ms/step - loss: 0.0710\n",
      "Epoch 161/180\n",
      "4/4 [==============================] - 0s 3ms/step - loss: 0.0708\n",
      "Epoch 162/180\n",
      "4/4 [==============================] - 0s 3ms/step - loss: 0.0706\n",
      "Epoch 163/180\n",
      "4/4 [==============================] - 0s 3ms/step - loss: 0.0703\n",
      "Epoch 164/180\n",
      "4/4 [==============================] - 0s 3ms/step - loss: 0.0701\n",
      "Epoch 165/180\n",
      "4/4 [==============================] - 0s 4ms/step - loss: 0.0699\n",
      "Epoch 166/180\n",
      "4/4 [==============================] - 0s 3ms/step - loss: 0.0697\n",
      "Epoch 167/180\n",
      "4/4 [==============================] - 0s 3ms/step - loss: 0.0694\n",
      "Epoch 168/180\n",
      "4/4 [==============================] - 0s 2ms/step - loss: 0.0692\n",
      "Epoch 169/180\n",
      "4/4 [==============================] - 0s 3ms/step - loss: 0.0690\n",
      "Epoch 170/180\n",
      "4/4 [==============================] - 0s 2ms/step - loss: 0.0688\n",
      "Epoch 171/180\n",
      "4/4 [==============================] - 0s 3ms/step - loss: 0.0685\n",
      "Epoch 172/180\n",
      "4/4 [==============================] - 0s 3ms/step - loss: 0.0683\n",
      "Epoch 173/180\n",
      "4/4 [==============================] - 0s 3ms/step - loss: 0.0681\n",
      "Epoch 174/180\n",
      "4/4 [==============================] - 0s 3ms/step - loss: 0.0679\n",
      "Epoch 175/180\n",
      "4/4 [==============================] - 0s 3ms/step - loss: 0.0677\n",
      "Epoch 176/180\n",
      "4/4 [==============================] - 0s 3ms/step - loss: 0.0674\n",
      "Epoch 177/180\n",
      "4/4 [==============================] - 0s 3ms/step - loss: 0.0672\n",
      "Epoch 178/180\n",
      "4/4 [==============================] - 0s 3ms/step - loss: 0.0670\n",
      "Epoch 179/180\n",
      "4/4 [==============================] - 0s 3ms/step - loss: 0.0668\n",
      "Epoch 180/180\n",
      "4/4 [==============================] - 0s 3ms/step - loss: 0.0666\n"
     ]
    },
    {
     "data": {
      "text/plain": [
       "<keras.callbacks.History at 0x7fa4dced0150>"
      ]
     },
     "execution_count": 30,
     "metadata": {},
     "output_type": "execute_result"
    }
   ],
   "source": [
    "model.compile(loss='mean_squared_error', optimizer='adam')\n",
    "\n",
    "model.fit(X_train, y_train, epochs=180)"
   ]
  },
  {
   "cell_type": "code",
   "execution_count": 31,
   "id": "04bb6ef7",
   "metadata": {
    "execution": {
     "iopub.execute_input": "2023-01-25T05:20:29.832420Z",
     "iopub.status.busy": "2023-01-25T05:20:29.831866Z",
     "iopub.status.idle": "2023-01-25T05:20:30.396402Z",
     "shell.execute_reply": "2023-01-25T05:20:30.395468Z"
    },
    "papermill": {
     "duration": 0.610197,
     "end_time": "2023-01-25T05:20:30.398741",
     "exception": false,
     "start_time": "2023-01-25T05:20:29.788544",
     "status": "completed"
    },
    "tags": []
   },
   "outputs": [
    {
     "name": "stdout",
     "output_type": "stream",
     "text": [
      "1/1 [==============================] - 0s 478ms/step - loss: 0.0625\n"
     ]
    },
    {
     "data": {
      "text/plain": [
       "<keras.callbacks.History at 0x7fa4dc3a6590>"
      ]
     },
     "execution_count": 31,
     "metadata": {},
     "output_type": "execute_result"
    }
   ],
   "source": [
    "model.compile(loss='mean_squared_error', optimizer='adam')\n",
    "\n",
    "model.fit(X_test, y_test)"
   ]
  },
  {
   "cell_type": "code",
   "execution_count": null,
   "id": "25e45c1f",
   "metadata": {
    "papermill": {
     "duration": 0.040485,
     "end_time": "2023-01-25T05:20:30.480494",
     "exception": false,
     "start_time": "2023-01-25T05:20:30.440009",
     "status": "completed"
    },
    "tags": []
   },
   "outputs": [],
   "source": []
  }
 ],
 "metadata": {
  "kernelspec": {
   "display_name": "Python 3",
   "language": "python",
   "name": "python3"
  },
  "language_info": {
   "codemirror_mode": {
    "name": "ipython",
    "version": 3
   },
   "file_extension": ".py",
   "mimetype": "text/x-python",
   "name": "python",
   "nbconvert_exporter": "python",
   "pygments_lexer": "ipython3",
   "version": "3.7.12"
  },
  "papermill": {
   "default_parameters": {},
   "duration": 32.343086,
   "end_time": "2023-01-25T05:20:33.775186",
   "environment_variables": {},
   "exception": null,
   "input_path": "__notebook__.ipynb",
   "output_path": "__notebook__.ipynb",
   "parameters": {},
   "start_time": "2023-01-25T05:20:01.432100",
   "version": "2.3.4"
  }
 },
 "nbformat": 4,
 "nbformat_minor": 5
}
